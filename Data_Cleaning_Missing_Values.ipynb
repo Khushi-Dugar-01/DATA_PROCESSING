{
 "cells": [
  {
   "cell_type": "code",
   "execution_count": 1,
   "id": "ce62ec37",
   "metadata": {},
   "outputs": [],
   "source": [
    "import numpy as np\n",
    "import pandas as pd\n",
    "import csv\n",
    "import seaborn as sns\n",
    "from sklearn.impute import SimpleImputer\n",
    "from sklearn.experimental import enable_iterative_imputer\n",
    "from sklearn.impute import KNNImputer\n",
    "from sklearn.impute import IterativeImputer\n",
    "import matplotlib.pyplot as plt\n",
    "from scipy import stats\n",
    "from scipy.stats import binom"
   ]
  },
  {
   "cell_type": "markdown",
   "id": "b499c437",
   "metadata": {},
   "source": [
    "# QUE"
   ]
  },
  {
   "cell_type": "markdown",
   "id": "29daf812",
   "metadata": {},
   "source": [
    "Detection and Handling of missing values using Pandas."
   ]
  },
  {
   "cell_type": "markdown",
   "id": "0e00e313",
   "metadata": {},
   "source": [
    "## IMPORT HEADER FILES"
   ]
  },
  {
   "cell_type": "markdown",
   "id": "1f03d0c7",
   "metadata": {},
   "source": [
    "## DATA"
   ]
  },
  {
   "cell_type": "code",
   "execution_count": 2,
   "id": "2846aa6f",
   "metadata": {
    "scrolled": false
   },
   "outputs": [
    {
     "data": {
      "text/html": [
       "<div>\n",
       "<style scoped>\n",
       "    .dataframe tbody tr th:only-of-type {\n",
       "        vertical-align: middle;\n",
       "    }\n",
       "\n",
       "    .dataframe tbody tr th {\n",
       "        vertical-align: top;\n",
       "    }\n",
       "\n",
       "    .dataframe thead th {\n",
       "        text-align: right;\n",
       "    }\n",
       "</style>\n",
       "<table border=\"1\" class=\"dataframe\">\n",
       "  <thead>\n",
       "    <tr style=\"text-align: right;\">\n",
       "      <th></th>\n",
       "      <th>Avg. Area Income</th>\n",
       "      <th>Avg. Area House Age</th>\n",
       "      <th>Avg. Area Number of Rooms</th>\n",
       "      <th>Avg. Area Number of Bedrooms</th>\n",
       "      <th>Area Population</th>\n",
       "      <th>Price</th>\n",
       "      <th>Address</th>\n",
       "    </tr>\n",
       "  </thead>\n",
       "  <tbody>\n",
       "    <tr>\n",
       "      <th>0</th>\n",
       "      <td>NaN</td>\n",
       "      <td>5.682861</td>\n",
       "      <td>7.009188</td>\n",
       "      <td>4.09</td>\n",
       "      <td>23086.80050</td>\n",
       "      <td>1.059034e+06</td>\n",
       "      <td>NaN</td>\n",
       "    </tr>\n",
       "    <tr>\n",
       "      <th>1</th>\n",
       "      <td>79248.64245</td>\n",
       "      <td>6.002900</td>\n",
       "      <td>6.730821</td>\n",
       "      <td>3.09</td>\n",
       "      <td>40173.07217</td>\n",
       "      <td>1.505891e+06</td>\n",
       "      <td>188 Johnson Views Suite 079\\nLake Kathleen, CA...</td>\n",
       "    </tr>\n",
       "    <tr>\n",
       "      <th>2</th>\n",
       "      <td>61287.06718</td>\n",
       "      <td>NaN</td>\n",
       "      <td>8.512727</td>\n",
       "      <td>5.13</td>\n",
       "      <td>36882.15940</td>\n",
       "      <td>NaN</td>\n",
       "      <td>9127 Elizabeth Stravenue\\nDanieltown, WI 06482...</td>\n",
       "    </tr>\n",
       "    <tr>\n",
       "      <th>3</th>\n",
       "      <td>63345.24005</td>\n",
       "      <td>7.188236</td>\n",
       "      <td>5.586729</td>\n",
       "      <td>3.26</td>\n",
       "      <td>34310.24283</td>\n",
       "      <td>1.260617e+06</td>\n",
       "      <td>NaN</td>\n",
       "    </tr>\n",
       "    <tr>\n",
       "      <th>4</th>\n",
       "      <td>59982.19723</td>\n",
       "      <td>5.040555</td>\n",
       "      <td>7.839388</td>\n",
       "      <td>4.23</td>\n",
       "      <td>26354.10947</td>\n",
       "      <td>6.309435e+05</td>\n",
       "      <td>USNS Raymond\\nFPO AE 09386</td>\n",
       "    </tr>\n",
       "    <tr>\n",
       "      <th>...</th>\n",
       "      <td>...</td>\n",
       "      <td>...</td>\n",
       "      <td>...</td>\n",
       "      <td>...</td>\n",
       "      <td>...</td>\n",
       "      <td>...</td>\n",
       "      <td>...</td>\n",
       "    </tr>\n",
       "    <tr>\n",
       "      <th>4995</th>\n",
       "      <td>60567.94414</td>\n",
       "      <td>7.830362</td>\n",
       "      <td>6.137356</td>\n",
       "      <td>3.46</td>\n",
       "      <td>22837.36103</td>\n",
       "      <td>1.060194e+06</td>\n",
       "      <td>USNS Williams\\nFPO AP 30153-7653</td>\n",
       "    </tr>\n",
       "    <tr>\n",
       "      <th>4996</th>\n",
       "      <td>78491.27543</td>\n",
       "      <td>6.999135</td>\n",
       "      <td>6.576763</td>\n",
       "      <td>4.02</td>\n",
       "      <td>25616.11549</td>\n",
       "      <td>1.482618e+06</td>\n",
       "      <td>PSC 9258, Box 8489\\nAPO AA 42991-3352</td>\n",
       "    </tr>\n",
       "    <tr>\n",
       "      <th>4997</th>\n",
       "      <td>63390.68689</td>\n",
       "      <td>7.250591</td>\n",
       "      <td>4.805081</td>\n",
       "      <td>2.13</td>\n",
       "      <td>33266.14549</td>\n",
       "      <td>1.030730e+06</td>\n",
       "      <td>4215 Tracy Garden Suite 076\\nJoshualand, VA 01...</td>\n",
       "    </tr>\n",
       "    <tr>\n",
       "      <th>4998</th>\n",
       "      <td>68001.33124</td>\n",
       "      <td>5.534388</td>\n",
       "      <td>7.130144</td>\n",
       "      <td>5.44</td>\n",
       "      <td>42625.62016</td>\n",
       "      <td>1.198657e+06</td>\n",
       "      <td>USS Wallace\\nFPO AE 73316</td>\n",
       "    </tr>\n",
       "    <tr>\n",
       "      <th>4999</th>\n",
       "      <td>65510.58180</td>\n",
       "      <td>5.992305</td>\n",
       "      <td>6.792336</td>\n",
       "      <td>4.07</td>\n",
       "      <td>46501.28380</td>\n",
       "      <td>1.298950e+06</td>\n",
       "      <td>NaN</td>\n",
       "    </tr>\n",
       "  </tbody>\n",
       "</table>\n",
       "<p>5000 rows × 7 columns</p>\n",
       "</div>"
      ],
      "text/plain": [
       "      Avg. Area Income  Avg. Area House Age  Avg. Area Number of Rooms  \\\n",
       "0                  NaN             5.682861                   7.009188   \n",
       "1          79248.64245             6.002900                   6.730821   \n",
       "2          61287.06718                  NaN                   8.512727   \n",
       "3          63345.24005             7.188236                   5.586729   \n",
       "4          59982.19723             5.040555                   7.839388   \n",
       "...                ...                  ...                        ...   \n",
       "4995       60567.94414             7.830362                   6.137356   \n",
       "4996       78491.27543             6.999135                   6.576763   \n",
       "4997       63390.68689             7.250591                   4.805081   \n",
       "4998       68001.33124             5.534388                   7.130144   \n",
       "4999       65510.58180             5.992305                   6.792336   \n",
       "\n",
       "      Avg. Area Number of Bedrooms  Area Population         Price  \\\n",
       "0                             4.09      23086.80050  1.059034e+06   \n",
       "1                             3.09      40173.07217  1.505891e+06   \n",
       "2                             5.13      36882.15940           NaN   \n",
       "3                             3.26      34310.24283  1.260617e+06   \n",
       "4                             4.23      26354.10947  6.309435e+05   \n",
       "...                            ...              ...           ...   \n",
       "4995                          3.46      22837.36103  1.060194e+06   \n",
       "4996                          4.02      25616.11549  1.482618e+06   \n",
       "4997                          2.13      33266.14549  1.030730e+06   \n",
       "4998                          5.44      42625.62016  1.198657e+06   \n",
       "4999                          4.07      46501.28380  1.298950e+06   \n",
       "\n",
       "                                                Address  \n",
       "0                                                   NaN  \n",
       "1     188 Johnson Views Suite 079\\nLake Kathleen, CA...  \n",
       "2     9127 Elizabeth Stravenue\\nDanieltown, WI 06482...  \n",
       "3                                                   NaN  \n",
       "4                            USNS Raymond\\nFPO AE 09386  \n",
       "...                                                 ...  \n",
       "4995                   USNS Williams\\nFPO AP 30153-7653  \n",
       "4996              PSC 9258, Box 8489\\nAPO AA 42991-3352  \n",
       "4997  4215 Tracy Garden Suite 076\\nJoshualand, VA 01...  \n",
       "4998                          USS Wallace\\nFPO AE 73316  \n",
       "4999                                                NaN  \n",
       "\n",
       "[5000 rows x 7 columns]"
      ]
     },
     "execution_count": 2,
     "metadata": {},
     "output_type": "execute_result"
    }
   ],
   "source": [
    "data = pd.read_csv(\"USA_Housing - USA_Housing.csv\")\n",
    "data"
   ]
  },
  {
   "cell_type": "code",
   "execution_count": 3,
   "id": "87fbf8d5",
   "metadata": {},
   "outputs": [
    {
     "data": {
      "text/html": [
       "<div>\n",
       "<style scoped>\n",
       "    .dataframe tbody tr th:only-of-type {\n",
       "        vertical-align: middle;\n",
       "    }\n",
       "\n",
       "    .dataframe tbody tr th {\n",
       "        vertical-align: top;\n",
       "    }\n",
       "\n",
       "    .dataframe thead th {\n",
       "        text-align: right;\n",
       "    }\n",
       "</style>\n",
       "<table border=\"1\" class=\"dataframe\">\n",
       "  <thead>\n",
       "    <tr style=\"text-align: right;\">\n",
       "      <th></th>\n",
       "      <th>country</th>\n",
       "      <th>description</th>\n",
       "      <th>designation</th>\n",
       "      <th>points</th>\n",
       "      <th>price</th>\n",
       "      <th>province</th>\n",
       "      <th>region_1</th>\n",
       "      <th>region_2</th>\n",
       "      <th>variety</th>\n",
       "      <th>winery</th>\n",
       "    </tr>\n",
       "  </thead>\n",
       "  <tbody>\n",
       "    <tr>\n",
       "      <th>0</th>\n",
       "      <td>US</td>\n",
       "      <td>This tremendous 100% varietal wine hails from ...</td>\n",
       "      <td>Martha's Vineyard</td>\n",
       "      <td>96</td>\n",
       "      <td>235.0</td>\n",
       "      <td>California</td>\n",
       "      <td>Napa Valley</td>\n",
       "      <td>Napa</td>\n",
       "      <td>Cabernet Sauvignon</td>\n",
       "      <td>Heitz</td>\n",
       "    </tr>\n",
       "    <tr>\n",
       "      <th>1</th>\n",
       "      <td>Spain</td>\n",
       "      <td>Ripe aromas of fig, blackberry and cassis are ...</td>\n",
       "      <td>Carodorum Selección Especial Reserva</td>\n",
       "      <td>96</td>\n",
       "      <td>110.0</td>\n",
       "      <td>Northern Spain</td>\n",
       "      <td>Toro</td>\n",
       "      <td>NaN</td>\n",
       "      <td>Tinta de Toro</td>\n",
       "      <td>Bodega Carmen Rodríguez</td>\n",
       "    </tr>\n",
       "    <tr>\n",
       "      <th>2</th>\n",
       "      <td>US</td>\n",
       "      <td>Mac Watson honors the memory of a wine once ma...</td>\n",
       "      <td>Special Selected Late Harvest</td>\n",
       "      <td>96</td>\n",
       "      <td>90.0</td>\n",
       "      <td>California</td>\n",
       "      <td>Knights Valley</td>\n",
       "      <td>Sonoma</td>\n",
       "      <td>Sauvignon Blanc</td>\n",
       "      <td>Macauley</td>\n",
       "    </tr>\n",
       "    <tr>\n",
       "      <th>3</th>\n",
       "      <td>US</td>\n",
       "      <td>This spent 20 months in 30% new French oak, an...</td>\n",
       "      <td>Reserve</td>\n",
       "      <td>96</td>\n",
       "      <td>65.0</td>\n",
       "      <td>Oregon</td>\n",
       "      <td>Willamette Valley</td>\n",
       "      <td>Willamette Valley</td>\n",
       "      <td>Pinot Noir</td>\n",
       "      <td>Ponzi</td>\n",
       "    </tr>\n",
       "    <tr>\n",
       "      <th>4</th>\n",
       "      <td>France</td>\n",
       "      <td>This is the top wine from La Bégude, named aft...</td>\n",
       "      <td>La Brûlade</td>\n",
       "      <td>95</td>\n",
       "      <td>66.0</td>\n",
       "      <td>Provence</td>\n",
       "      <td>Bandol</td>\n",
       "      <td>NaN</td>\n",
       "      <td>Provence red blend</td>\n",
       "      <td>Domaine de la Bégude</td>\n",
       "    </tr>\n",
       "    <tr>\n",
       "      <th>...</th>\n",
       "      <td>...</td>\n",
       "      <td>...</td>\n",
       "      <td>...</td>\n",
       "      <td>...</td>\n",
       "      <td>...</td>\n",
       "      <td>...</td>\n",
       "      <td>...</td>\n",
       "      <td>...</td>\n",
       "      <td>...</td>\n",
       "      <td>...</td>\n",
       "    </tr>\n",
       "    <tr>\n",
       "      <th>150925</th>\n",
       "      <td>Italy</td>\n",
       "      <td>Many people feel Fiano represents southern Ita...</td>\n",
       "      <td>NaN</td>\n",
       "      <td>91</td>\n",
       "      <td>20.0</td>\n",
       "      <td>Southern Italy</td>\n",
       "      <td>Fiano di Avellino</td>\n",
       "      <td>NaN</td>\n",
       "      <td>White Blend</td>\n",
       "      <td>Feudi di San Gregorio</td>\n",
       "    </tr>\n",
       "    <tr>\n",
       "      <th>150926</th>\n",
       "      <td>France</td>\n",
       "      <td>Offers an intriguing nose with ginger, lime an...</td>\n",
       "      <td>Cuvée Prestige</td>\n",
       "      <td>91</td>\n",
       "      <td>27.0</td>\n",
       "      <td>Champagne</td>\n",
       "      <td>Champagne</td>\n",
       "      <td>NaN</td>\n",
       "      <td>Champagne Blend</td>\n",
       "      <td>H.Germain</td>\n",
       "    </tr>\n",
       "    <tr>\n",
       "      <th>150927</th>\n",
       "      <td>Italy</td>\n",
       "      <td>This classic example comes from a cru vineyard...</td>\n",
       "      <td>Terre di Dora</td>\n",
       "      <td>91</td>\n",
       "      <td>20.0</td>\n",
       "      <td>Southern Italy</td>\n",
       "      <td>Fiano di Avellino</td>\n",
       "      <td>NaN</td>\n",
       "      <td>White Blend</td>\n",
       "      <td>Terredora</td>\n",
       "    </tr>\n",
       "    <tr>\n",
       "      <th>150928</th>\n",
       "      <td>France</td>\n",
       "      <td>A perfect salmon shade, with scents of peaches...</td>\n",
       "      <td>Grand Brut Rosé</td>\n",
       "      <td>90</td>\n",
       "      <td>52.0</td>\n",
       "      <td>Champagne</td>\n",
       "      <td>Champagne</td>\n",
       "      <td>NaN</td>\n",
       "      <td>Champagne Blend</td>\n",
       "      <td>Gosset</td>\n",
       "    </tr>\n",
       "    <tr>\n",
       "      <th>150929</th>\n",
       "      <td>Italy</td>\n",
       "      <td>More Pinot Grigios should taste like this. A r...</td>\n",
       "      <td>NaN</td>\n",
       "      <td>90</td>\n",
       "      <td>15.0</td>\n",
       "      <td>Northeastern Italy</td>\n",
       "      <td>Alto Adige</td>\n",
       "      <td>NaN</td>\n",
       "      <td>Pinot Grigio</td>\n",
       "      <td>Alois Lageder</td>\n",
       "    </tr>\n",
       "  </tbody>\n",
       "</table>\n",
       "<p>150930 rows × 10 columns</p>\n",
       "</div>"
      ],
      "text/plain": [
       "       country                                        description  \\\n",
       "0           US  This tremendous 100% varietal wine hails from ...   \n",
       "1        Spain  Ripe aromas of fig, blackberry and cassis are ...   \n",
       "2           US  Mac Watson honors the memory of a wine once ma...   \n",
       "3           US  This spent 20 months in 30% new French oak, an...   \n",
       "4       France  This is the top wine from La Bégude, named aft...   \n",
       "...        ...                                                ...   \n",
       "150925   Italy  Many people feel Fiano represents southern Ita...   \n",
       "150926  France  Offers an intriguing nose with ginger, lime an...   \n",
       "150927   Italy  This classic example comes from a cru vineyard...   \n",
       "150928  France  A perfect salmon shade, with scents of peaches...   \n",
       "150929   Italy  More Pinot Grigios should taste like this. A r...   \n",
       "\n",
       "                                 designation  points  price  \\\n",
       "0                          Martha's Vineyard      96  235.0   \n",
       "1       Carodorum Selección Especial Reserva      96  110.0   \n",
       "2              Special Selected Late Harvest      96   90.0   \n",
       "3                                    Reserve      96   65.0   \n",
       "4                                 La Brûlade      95   66.0   \n",
       "...                                      ...     ...    ...   \n",
       "150925                                   NaN      91   20.0   \n",
       "150926                        Cuvée Prestige      91   27.0   \n",
       "150927                         Terre di Dora      91   20.0   \n",
       "150928                       Grand Brut Rosé      90   52.0   \n",
       "150929                                   NaN      90   15.0   \n",
       "\n",
       "                  province           region_1           region_2  \\\n",
       "0               California        Napa Valley               Napa   \n",
       "1           Northern Spain               Toro                NaN   \n",
       "2               California     Knights Valley             Sonoma   \n",
       "3                   Oregon  Willamette Valley  Willamette Valley   \n",
       "4                 Provence             Bandol                NaN   \n",
       "...                    ...                ...                ...   \n",
       "150925      Southern Italy  Fiano di Avellino                NaN   \n",
       "150926           Champagne          Champagne                NaN   \n",
       "150927      Southern Italy  Fiano di Avellino                NaN   \n",
       "150928           Champagne          Champagne                NaN   \n",
       "150929  Northeastern Italy         Alto Adige                NaN   \n",
       "\n",
       "                   variety                   winery  \n",
       "0       Cabernet Sauvignon                    Heitz  \n",
       "1            Tinta de Toro  Bodega Carmen Rodríguez  \n",
       "2          Sauvignon Blanc                 Macauley  \n",
       "3               Pinot Noir                    Ponzi  \n",
       "4       Provence red blend     Domaine de la Bégude  \n",
       "...                    ...                      ...  \n",
       "150925         White Blend    Feudi di San Gregorio  \n",
       "150926     Champagne Blend                H.Germain  \n",
       "150927         White Blend                Terredora  \n",
       "150928     Champagne Blend                   Gosset  \n",
       "150929        Pinot Grigio            Alois Lageder  \n",
       "\n",
       "[150930 rows x 10 columns]"
      ]
     },
     "execution_count": 3,
     "metadata": {},
     "output_type": "execute_result"
    }
   ],
   "source": [
    "cat_data = pd.read_csv(\"winemag-data.csv\")\n",
    "cat_data"
   ]
  },
  {
   "cell_type": "markdown",
   "id": "69efaa29",
   "metadata": {},
   "source": [
    "## MATHEMATICAL FUNCTIONS ON DATA"
   ]
  },
  {
   "cell_type": "code",
   "execution_count": 4,
   "id": "23ec646c",
   "metadata": {
    "scrolled": true
   },
   "outputs": [
    {
     "data": {
      "text/html": [
       "<div>\n",
       "<style scoped>\n",
       "    .dataframe tbody tr th:only-of-type {\n",
       "        vertical-align: middle;\n",
       "    }\n",
       "\n",
       "    .dataframe tbody tr th {\n",
       "        vertical-align: top;\n",
       "    }\n",
       "\n",
       "    .dataframe thead th {\n",
       "        text-align: right;\n",
       "    }\n",
       "</style>\n",
       "<table border=\"1\" class=\"dataframe\">\n",
       "  <thead>\n",
       "    <tr style=\"text-align: right;\">\n",
       "      <th></th>\n",
       "      <th>Avg. Area Income</th>\n",
       "      <th>Avg. Area House Age</th>\n",
       "      <th>Avg. Area Number of Rooms</th>\n",
       "      <th>Avg. Area Number of Bedrooms</th>\n",
       "      <th>Area Population</th>\n",
       "      <th>Price</th>\n",
       "    </tr>\n",
       "  </thead>\n",
       "  <tbody>\n",
       "    <tr>\n",
       "      <th>count</th>\n",
       "      <td>4972.000000</td>\n",
       "      <td>4964.000000</td>\n",
       "      <td>4960.000000</td>\n",
       "      <td>4963.000000</td>\n",
       "      <td>4956.000000</td>\n",
       "      <td>4.964000e+03</td>\n",
       "    </tr>\n",
       "    <tr>\n",
       "      <th>mean</th>\n",
       "      <td>68564.655345</td>\n",
       "      <td>5.976635</td>\n",
       "      <td>6.988323</td>\n",
       "      <td>3.983067</td>\n",
       "      <td>36161.988421</td>\n",
       "      <td>1.232359e+06</td>\n",
       "    </tr>\n",
       "    <tr>\n",
       "      <th>std</th>\n",
       "      <td>10662.047738</td>\n",
       "      <td>0.991356</td>\n",
       "      <td>1.007126</td>\n",
       "      <td>1.236013</td>\n",
       "      <td>9936.112925</td>\n",
       "      <td>3.532117e+05</td>\n",
       "    </tr>\n",
       "    <tr>\n",
       "      <th>min</th>\n",
       "      <td>17796.631190</td>\n",
       "      <td>2.644304</td>\n",
       "      <td>3.236194</td>\n",
       "      <td>2.000000</td>\n",
       "      <td>172.610686</td>\n",
       "      <td>1.593866e+04</td>\n",
       "    </tr>\n",
       "    <tr>\n",
       "      <th>25%</th>\n",
       "      <td>61461.357480</td>\n",
       "      <td>5.322207</td>\n",
       "      <td>6.298702</td>\n",
       "      <td>3.140000</td>\n",
       "      <td>29394.256185</td>\n",
       "      <td>9.985867e+05</td>\n",
       "    </tr>\n",
       "    <tr>\n",
       "      <th>50%</th>\n",
       "      <td>68787.591875</td>\n",
       "      <td>5.972696</td>\n",
       "      <td>7.002902</td>\n",
       "      <td>4.050000</td>\n",
       "      <td>36202.541765</td>\n",
       "      <td>1.232923e+06</td>\n",
       "    </tr>\n",
       "    <tr>\n",
       "      <th>75%</th>\n",
       "      <td>75769.457190</td>\n",
       "      <td>6.651184</td>\n",
       "      <td>7.666914</td>\n",
       "      <td>4.490000</td>\n",
       "      <td>42861.290770</td>\n",
       "      <td>1.471956e+06</td>\n",
       "    </tr>\n",
       "    <tr>\n",
       "      <th>max</th>\n",
       "      <td>107701.748400</td>\n",
       "      <td>9.519088</td>\n",
       "      <td>10.759588</td>\n",
       "      <td>6.500000</td>\n",
       "      <td>69621.713380</td>\n",
       "      <td>2.469066e+06</td>\n",
       "    </tr>\n",
       "  </tbody>\n",
       "</table>\n",
       "</div>"
      ],
      "text/plain": [
       "       Avg. Area Income  Avg. Area House Age  Avg. Area Number of Rooms  \\\n",
       "count       4972.000000          4964.000000                4960.000000   \n",
       "mean       68564.655345             5.976635                   6.988323   \n",
       "std        10662.047738             0.991356                   1.007126   \n",
       "min        17796.631190             2.644304                   3.236194   \n",
       "25%        61461.357480             5.322207                   6.298702   \n",
       "50%        68787.591875             5.972696                   7.002902   \n",
       "75%        75769.457190             6.651184                   7.666914   \n",
       "max       107701.748400             9.519088                  10.759588   \n",
       "\n",
       "       Avg. Area Number of Bedrooms  Area Population         Price  \n",
       "count                   4963.000000      4956.000000  4.964000e+03  \n",
       "mean                       3.983067     36161.988421  1.232359e+06  \n",
       "std                        1.236013      9936.112925  3.532117e+05  \n",
       "min                        2.000000       172.610686  1.593866e+04  \n",
       "25%                        3.140000     29394.256185  9.985867e+05  \n",
       "50%                        4.050000     36202.541765  1.232923e+06  \n",
       "75%                        4.490000     42861.290770  1.471956e+06  \n",
       "max                        6.500000     69621.713380  2.469066e+06  "
      ]
     },
     "execution_count": 4,
     "metadata": {},
     "output_type": "execute_result"
    }
   ],
   "source": [
    "data.describe()"
   ]
  },
  {
   "cell_type": "code",
   "execution_count": 5,
   "id": "1a9b2011",
   "metadata": {},
   "outputs": [
    {
     "name": "stderr",
     "output_type": "stream",
     "text": [
      "C:\\Users\\BAPS\\AppData\\Local\\Temp\\ipykernel_21088\\531903386.py:1: FutureWarning: Dropping of nuisance columns in DataFrame reductions (with 'numeric_only=None') is deprecated; in a future version this will raise TypeError.  Select only valid columns before calling the reduction.\n",
      "  data.mean()\n"
     ]
    },
    {
     "data": {
      "text/plain": [
       "Avg. Area Income                6.856466e+04\n",
       "Avg. Area House Age             5.976635e+00\n",
       "Avg. Area Number of Rooms       6.988323e+00\n",
       "Avg. Area Number of Bedrooms    3.983067e+00\n",
       "Area Population                 3.616199e+04\n",
       "Price                           1.232359e+06\n",
       "dtype: float64"
      ]
     },
     "execution_count": 5,
     "metadata": {},
     "output_type": "execute_result"
    }
   ],
   "source": [
    "data.mean()"
   ]
  },
  {
   "cell_type": "code",
   "execution_count": 6,
   "id": "58f6dd04",
   "metadata": {
    "scrolled": false
   },
   "outputs": [
    {
     "data": {
      "text/html": [
       "<div>\n",
       "<style scoped>\n",
       "    .dataframe tbody tr th:only-of-type {\n",
       "        vertical-align: middle;\n",
       "    }\n",
       "\n",
       "    .dataframe tbody tr th {\n",
       "        vertical-align: top;\n",
       "    }\n",
       "\n",
       "    .dataframe thead th {\n",
       "        text-align: right;\n",
       "    }\n",
       "</style>\n",
       "<table border=\"1\" class=\"dataframe\">\n",
       "  <thead>\n",
       "    <tr style=\"text-align: right;\">\n",
       "      <th></th>\n",
       "      <th>Avg. Area Income</th>\n",
       "      <th>Avg. Area House Age</th>\n",
       "      <th>Avg. Area Number of Rooms</th>\n",
       "      <th>Avg. Area Number of Bedrooms</th>\n",
       "      <th>Area Population</th>\n",
       "      <th>Price</th>\n",
       "    </tr>\n",
       "  </thead>\n",
       "  <tbody>\n",
       "    <tr>\n",
       "      <th>Avg. Area Income</th>\n",
       "      <td>1.000000</td>\n",
       "      <td>-0.004415</td>\n",
       "      <td>-0.014890</td>\n",
       "      <td>0.019420</td>\n",
       "      <td>-0.018195</td>\n",
       "      <td>0.638757</td>\n",
       "    </tr>\n",
       "    <tr>\n",
       "      <th>Avg. Area House Age</th>\n",
       "      <td>-0.004415</td>\n",
       "      <td>1.000000</td>\n",
       "      <td>-0.011376</td>\n",
       "      <td>0.005586</td>\n",
       "      <td>-0.016515</td>\n",
       "      <td>0.450790</td>\n",
       "    </tr>\n",
       "    <tr>\n",
       "      <th>Avg. Area Number of Rooms</th>\n",
       "      <td>-0.014890</td>\n",
       "      <td>-0.011376</td>\n",
       "      <td>1.000000</td>\n",
       "      <td>0.462788</td>\n",
       "      <td>0.004475</td>\n",
       "      <td>0.337604</td>\n",
       "    </tr>\n",
       "    <tr>\n",
       "      <th>Avg. Area Number of Bedrooms</th>\n",
       "      <td>0.019420</td>\n",
       "      <td>0.005586</td>\n",
       "      <td>0.462788</td>\n",
       "      <td>1.000000</td>\n",
       "      <td>-0.022774</td>\n",
       "      <td>0.172004</td>\n",
       "    </tr>\n",
       "    <tr>\n",
       "      <th>Area Population</th>\n",
       "      <td>-0.018195</td>\n",
       "      <td>-0.016515</td>\n",
       "      <td>0.004475</td>\n",
       "      <td>-0.022774</td>\n",
       "      <td>1.000000</td>\n",
       "      <td>0.410682</td>\n",
       "    </tr>\n",
       "    <tr>\n",
       "      <th>Price</th>\n",
       "      <td>0.638757</td>\n",
       "      <td>0.450790</td>\n",
       "      <td>0.337604</td>\n",
       "      <td>0.172004</td>\n",
       "      <td>0.410682</td>\n",
       "      <td>1.000000</td>\n",
       "    </tr>\n",
       "  </tbody>\n",
       "</table>\n",
       "</div>"
      ],
      "text/plain": [
       "                              Avg. Area Income  Avg. Area House Age  \\\n",
       "Avg. Area Income                      1.000000            -0.004415   \n",
       "Avg. Area House Age                  -0.004415             1.000000   \n",
       "Avg. Area Number of Rooms            -0.014890            -0.011376   \n",
       "Avg. Area Number of Bedrooms          0.019420             0.005586   \n",
       "Area Population                      -0.018195            -0.016515   \n",
       "Price                                 0.638757             0.450790   \n",
       "\n",
       "                              Avg. Area Number of Rooms  \\\n",
       "Avg. Area Income                              -0.014890   \n",
       "Avg. Area House Age                           -0.011376   \n",
       "Avg. Area Number of Rooms                      1.000000   \n",
       "Avg. Area Number of Bedrooms                   0.462788   \n",
       "Area Population                                0.004475   \n",
       "Price                                          0.337604   \n",
       "\n",
       "                              Avg. Area Number of Bedrooms  Area Population  \\\n",
       "Avg. Area Income                                  0.019420        -0.018195   \n",
       "Avg. Area House Age                               0.005586        -0.016515   \n",
       "Avg. Area Number of Rooms                         0.462788         0.004475   \n",
       "Avg. Area Number of Bedrooms                      1.000000        -0.022774   \n",
       "Area Population                                  -0.022774         1.000000   \n",
       "Price                                             0.172004         0.410682   \n",
       "\n",
       "                                 Price  \n",
       "Avg. Area Income              0.638757  \n",
       "Avg. Area House Age           0.450790  \n",
       "Avg. Area Number of Rooms     0.337604  \n",
       "Avg. Area Number of Bedrooms  0.172004  \n",
       "Area Population               0.410682  \n",
       "Price                         1.000000  "
      ]
     },
     "execution_count": 6,
     "metadata": {},
     "output_type": "execute_result"
    }
   ],
   "source": [
    "data.corr()"
   ]
  },
  {
   "cell_type": "markdown",
   "id": "c4400646",
   "metadata": {},
   "source": [
    "## SELECTING ONLY SPECIFIC DATA"
   ]
  },
  {
   "cell_type": "code",
   "execution_count": 7,
   "id": "cbcf2ff8",
   "metadata": {},
   "outputs": [
    {
     "data": {
      "text/plain": [
       "Avg. Area Income                        NaN\n",
       "Avg. Area House Age                5.682861\n",
       "Avg. Area Number of Rooms          7.009188\n",
       "Avg. Area Number of Bedrooms           4.09\n",
       "Area Population                  23086.8005\n",
       "Price                           1059033.558\n",
       "Address                                 NaN\n",
       "Name: 0, dtype: object"
      ]
     },
     "execution_count": 7,
     "metadata": {},
     "output_type": "execute_result"
    }
   ],
   "source": [
    "data.iloc[0]"
   ]
  },
  {
   "cell_type": "code",
   "execution_count": 8,
   "id": "8d8c5bdb",
   "metadata": {},
   "outputs": [
    {
     "data": {
      "text/html": [
       "<div>\n",
       "<style scoped>\n",
       "    .dataframe tbody tr th:only-of-type {\n",
       "        vertical-align: middle;\n",
       "    }\n",
       "\n",
       "    .dataframe tbody tr th {\n",
       "        vertical-align: top;\n",
       "    }\n",
       "\n",
       "    .dataframe thead th {\n",
       "        text-align: right;\n",
       "    }\n",
       "</style>\n",
       "<table border=\"1\" class=\"dataframe\">\n",
       "  <thead>\n",
       "    <tr style=\"text-align: right;\">\n",
       "      <th></th>\n",
       "      <th>Avg. Area Income</th>\n",
       "      <th>Avg. Area House Age</th>\n",
       "      <th>Avg. Area Number of Rooms</th>\n",
       "      <th>Avg. Area Number of Bedrooms</th>\n",
       "      <th>Area Population</th>\n",
       "      <th>Price</th>\n",
       "      <th>Address</th>\n",
       "    </tr>\n",
       "  </thead>\n",
       "  <tbody>\n",
       "    <tr>\n",
       "      <th>0</th>\n",
       "      <td>NaN</td>\n",
       "      <td>5.682861</td>\n",
       "      <td>7.009188</td>\n",
       "      <td>4.09</td>\n",
       "      <td>23086.8005</td>\n",
       "      <td>1059033.558</td>\n",
       "      <td>NaN</td>\n",
       "    </tr>\n",
       "  </tbody>\n",
       "</table>\n",
       "</div>"
      ],
      "text/plain": [
       "   Avg. Area Income  Avg. Area House Age  Avg. Area Number of Rooms  \\\n",
       "0               NaN             5.682861                   7.009188   \n",
       "\n",
       "   Avg. Area Number of Bedrooms  Area Population        Price Address  \n",
       "0                          4.09       23086.8005  1059033.558     NaN  "
      ]
     },
     "execution_count": 8,
     "metadata": {},
     "output_type": "execute_result"
    }
   ],
   "source": [
    "data.iloc[[0]]"
   ]
  },
  {
   "cell_type": "code",
   "execution_count": 9,
   "id": "cefc7ac3",
   "metadata": {
    "scrolled": false
   },
   "outputs": [
    {
     "data": {
      "text/html": [
       "<div>\n",
       "<style scoped>\n",
       "    .dataframe tbody tr th:only-of-type {\n",
       "        vertical-align: middle;\n",
       "    }\n",
       "\n",
       "    .dataframe tbody tr th {\n",
       "        vertical-align: top;\n",
       "    }\n",
       "\n",
       "    .dataframe thead th {\n",
       "        text-align: right;\n",
       "    }\n",
       "</style>\n",
       "<table border=\"1\" class=\"dataframe\">\n",
       "  <thead>\n",
       "    <tr style=\"text-align: right;\">\n",
       "      <th></th>\n",
       "      <th>Avg. Area Income</th>\n",
       "      <th>Avg. Area House Age</th>\n",
       "      <th>Avg. Area Number of Rooms</th>\n",
       "      <th>Avg. Area Number of Bedrooms</th>\n",
       "      <th>Area Population</th>\n",
       "      <th>Price</th>\n",
       "      <th>Address</th>\n",
       "    </tr>\n",
       "  </thead>\n",
       "  <tbody>\n",
       "    <tr>\n",
       "      <th>5</th>\n",
       "      <td>80175.75416</td>\n",
       "      <td>4.988408</td>\n",
       "      <td>6.104512</td>\n",
       "      <td>4.04</td>\n",
       "      <td>26748.42842</td>\n",
       "      <td>1068138.074</td>\n",
       "      <td>06039 Jennifer Islands Apt. 443\\nTracyport, KS...</td>\n",
       "    </tr>\n",
       "    <tr>\n",
       "      <th>6</th>\n",
       "      <td>NaN</td>\n",
       "      <td>6.025336</td>\n",
       "      <td>8.147760</td>\n",
       "      <td>3.41</td>\n",
       "      <td>60828.24909</td>\n",
       "      <td>1502055.817</td>\n",
       "      <td>4759 Daniel Shoals Suite 442\\nNguyenburgh, CO ...</td>\n",
       "    </tr>\n",
       "    <tr>\n",
       "      <th>7</th>\n",
       "      <td>78394.33928</td>\n",
       "      <td>6.989780</td>\n",
       "      <td>NaN</td>\n",
       "      <td>2.42</td>\n",
       "      <td>36516.35897</td>\n",
       "      <td>1573936.564</td>\n",
       "      <td>972 Joyce Viaduct\\nLake William, TN 17778-6483</td>\n",
       "    </tr>\n",
       "    <tr>\n",
       "      <th>8</th>\n",
       "      <td>59927.66081</td>\n",
       "      <td>5.362126</td>\n",
       "      <td>6.393121</td>\n",
       "      <td>2.30</td>\n",
       "      <td>29387.39600</td>\n",
       "      <td>798869.528</td>\n",
       "      <td>USS Gilbert\\nFPO AA 20957</td>\n",
       "    </tr>\n",
       "    <tr>\n",
       "      <th>9</th>\n",
       "      <td>81885.92718</td>\n",
       "      <td>4.423672</td>\n",
       "      <td>8.167688</td>\n",
       "      <td>6.10</td>\n",
       "      <td>40149.96575</td>\n",
       "      <td>1545154.813</td>\n",
       "      <td>Unit 9446 Box 0958\\nDPO AE 97025</td>\n",
       "    </tr>\n",
       "    <tr>\n",
       "      <th>10</th>\n",
       "      <td>NaN</td>\n",
       "      <td>NaN</td>\n",
       "      <td>NaN</td>\n",
       "      <td>NaN</td>\n",
       "      <td>NaN</td>\n",
       "      <td>NaN</td>\n",
       "      <td>NaN</td>\n",
       "    </tr>\n",
       "    <tr>\n",
       "      <th>11</th>\n",
       "      <td>80527.47208</td>\n",
       "      <td>8.093513</td>\n",
       "      <td>5.042747</td>\n",
       "      <td>4.10</td>\n",
       "      <td>47224.35984</td>\n",
       "      <td>1707045.722</td>\n",
       "      <td>6368 John Motorway Suite 700\\nJanetbury, NM 26854</td>\n",
       "    </tr>\n",
       "    <tr>\n",
       "      <th>12</th>\n",
       "      <td>50593.69550</td>\n",
       "      <td>4.496513</td>\n",
       "      <td>7.467627</td>\n",
       "      <td>4.49</td>\n",
       "      <td>34343.99189</td>\n",
       "      <td>NaN</td>\n",
       "      <td>911 Castillo Park Apt. 717\\nDavisborough, PW 7...</td>\n",
       "    </tr>\n",
       "    <tr>\n",
       "      <th>13</th>\n",
       "      <td>39033.80924</td>\n",
       "      <td>7.671755</td>\n",
       "      <td>7.250029</td>\n",
       "      <td>3.10</td>\n",
       "      <td>39220.36147</td>\n",
       "      <td>1042814.098</td>\n",
       "      <td>209 Natasha Stream Suite 961\\nHuffmanland, NE ...</td>\n",
       "    </tr>\n",
       "    <tr>\n",
       "      <th>14</th>\n",
       "      <td>73163.66344</td>\n",
       "      <td>6.919535</td>\n",
       "      <td>NaN</td>\n",
       "      <td>2.27</td>\n",
       "      <td>32326.12314</td>\n",
       "      <td>1291331.518</td>\n",
       "      <td>829 Welch Track Apt. 992\\nNorth John, AR 26532...</td>\n",
       "    </tr>\n",
       "  </tbody>\n",
       "</table>\n",
       "</div>"
      ],
      "text/plain": [
       "    Avg. Area Income  Avg. Area House Age  Avg. Area Number of Rooms  \\\n",
       "5        80175.75416             4.988408                   6.104512   \n",
       "6                NaN             6.025336                   8.147760   \n",
       "7        78394.33928             6.989780                        NaN   \n",
       "8        59927.66081             5.362126                   6.393121   \n",
       "9        81885.92718             4.423672                   8.167688   \n",
       "10               NaN                  NaN                        NaN   \n",
       "11       80527.47208             8.093513                   5.042747   \n",
       "12       50593.69550             4.496513                   7.467627   \n",
       "13       39033.80924             7.671755                   7.250029   \n",
       "14       73163.66344             6.919535                        NaN   \n",
       "\n",
       "    Avg. Area Number of Bedrooms  Area Population        Price  \\\n",
       "5                           4.04      26748.42842  1068138.074   \n",
       "6                           3.41      60828.24909  1502055.817   \n",
       "7                           2.42      36516.35897  1573936.564   \n",
       "8                           2.30      29387.39600   798869.528   \n",
       "9                           6.10      40149.96575  1545154.813   \n",
       "10                           NaN              NaN          NaN   \n",
       "11                          4.10      47224.35984  1707045.722   \n",
       "12                          4.49      34343.99189          NaN   \n",
       "13                          3.10      39220.36147  1042814.098   \n",
       "14                          2.27      32326.12314  1291331.518   \n",
       "\n",
       "                                              Address  \n",
       "5   06039 Jennifer Islands Apt. 443\\nTracyport, KS...  \n",
       "6   4759 Daniel Shoals Suite 442\\nNguyenburgh, CO ...  \n",
       "7      972 Joyce Viaduct\\nLake William, TN 17778-6483  \n",
       "8                           USS Gilbert\\nFPO AA 20957  \n",
       "9                    Unit 9446 Box 0958\\nDPO AE 97025  \n",
       "10                                                NaN  \n",
       "11  6368 John Motorway Suite 700\\nJanetbury, NM 26854  \n",
       "12  911 Castillo Park Apt. 717\\nDavisborough, PW 7...  \n",
       "13  209 Natasha Stream Suite 961\\nHuffmanland, NE ...  \n",
       "14  829 Welch Track Apt. 992\\nNorth John, AR 26532...  "
      ]
     },
     "execution_count": 9,
     "metadata": {},
     "output_type": "execute_result"
    }
   ],
   "source": [
    "data.iloc[5:15]"
   ]
  },
  {
   "cell_type": "code",
   "execution_count": 10,
   "id": "875b19cf",
   "metadata": {
    "scrolled": false
   },
   "outputs": [
    {
     "data": {
      "text/html": [
       "<div>\n",
       "<style scoped>\n",
       "    .dataframe tbody tr th:only-of-type {\n",
       "        vertical-align: middle;\n",
       "    }\n",
       "\n",
       "    .dataframe tbody tr th {\n",
       "        vertical-align: top;\n",
       "    }\n",
       "\n",
       "    .dataframe thead th {\n",
       "        text-align: right;\n",
       "    }\n",
       "</style>\n",
       "<table border=\"1\" class=\"dataframe\">\n",
       "  <thead>\n",
       "    <tr style=\"text-align: right;\">\n",
       "      <th></th>\n",
       "      <th>Avg. Area Income</th>\n",
       "      <th>Avg. Area House Age</th>\n",
       "      <th>Avg. Area Number of Rooms</th>\n",
       "      <th>Avg. Area Number of Bedrooms</th>\n",
       "      <th>Area Population</th>\n",
       "      <th>Price</th>\n",
       "      <th>Address</th>\n",
       "    </tr>\n",
       "  </thead>\n",
       "  <tbody>\n",
       "    <tr>\n",
       "      <th>1</th>\n",
       "      <td>79248.64245</td>\n",
       "      <td>6.002900</td>\n",
       "      <td>6.730821</td>\n",
       "      <td>3.09</td>\n",
       "      <td>40173.07217</td>\n",
       "      <td>1505890.915</td>\n",
       "      <td>188 Johnson Views Suite 079\\nLake Kathleen, CA...</td>\n",
       "    </tr>\n",
       "    <tr>\n",
       "      <th>3</th>\n",
       "      <td>63345.24005</td>\n",
       "      <td>7.188236</td>\n",
       "      <td>5.586729</td>\n",
       "      <td>3.26</td>\n",
       "      <td>34310.24283</td>\n",
       "      <td>1260616.807</td>\n",
       "      <td>NaN</td>\n",
       "    </tr>\n",
       "    <tr>\n",
       "      <th>5</th>\n",
       "      <td>80175.75416</td>\n",
       "      <td>4.988408</td>\n",
       "      <td>6.104512</td>\n",
       "      <td>4.04</td>\n",
       "      <td>26748.42842</td>\n",
       "      <td>1068138.074</td>\n",
       "      <td>06039 Jennifer Islands Apt. 443\\nTracyport, KS...</td>\n",
       "    </tr>\n",
       "    <tr>\n",
       "      <th>7</th>\n",
       "      <td>78394.33928</td>\n",
       "      <td>6.989780</td>\n",
       "      <td>NaN</td>\n",
       "      <td>2.42</td>\n",
       "      <td>36516.35897</td>\n",
       "      <td>1573936.564</td>\n",
       "      <td>972 Joyce Viaduct\\nLake William, TN 17778-6483</td>\n",
       "    </tr>\n",
       "    <tr>\n",
       "      <th>9</th>\n",
       "      <td>81885.92718</td>\n",
       "      <td>4.423672</td>\n",
       "      <td>8.167688</td>\n",
       "      <td>6.10</td>\n",
       "      <td>40149.96575</td>\n",
       "      <td>1545154.813</td>\n",
       "      <td>Unit 9446 Box 0958\\nDPO AE 97025</td>\n",
       "    </tr>\n",
       "    <tr>\n",
       "      <th>...</th>\n",
       "      <td>...</td>\n",
       "      <td>...</td>\n",
       "      <td>...</td>\n",
       "      <td>...</td>\n",
       "      <td>...</td>\n",
       "      <td>...</td>\n",
       "      <td>...</td>\n",
       "    </tr>\n",
       "    <tr>\n",
       "      <th>4991</th>\n",
       "      <td>74102.19189</td>\n",
       "      <td>5.657841</td>\n",
       "      <td>7.683993</td>\n",
       "      <td>3.13</td>\n",
       "      <td>24041.27059</td>\n",
       "      <td>1263720.518</td>\n",
       "      <td>2871 John Lodge\\nAmychester, GU 61734-5597</td>\n",
       "    </tr>\n",
       "    <tr>\n",
       "      <th>4993</th>\n",
       "      <td>69639.14090</td>\n",
       "      <td>5.007510</td>\n",
       "      <td>7.778375</td>\n",
       "      <td>6.05</td>\n",
       "      <td>54056.12843</td>\n",
       "      <td>1381830.779</td>\n",
       "      <td>5259 David Causeway Apt. 975\\nSouth Alexstad, ...</td>\n",
       "    </tr>\n",
       "    <tr>\n",
       "      <th>4995</th>\n",
       "      <td>60567.94414</td>\n",
       "      <td>7.830362</td>\n",
       "      <td>6.137356</td>\n",
       "      <td>3.46</td>\n",
       "      <td>22837.36103</td>\n",
       "      <td>1060193.786</td>\n",
       "      <td>USNS Williams\\nFPO AP 30153-7653</td>\n",
       "    </tr>\n",
       "    <tr>\n",
       "      <th>4997</th>\n",
       "      <td>63390.68689</td>\n",
       "      <td>7.250591</td>\n",
       "      <td>4.805081</td>\n",
       "      <td>2.13</td>\n",
       "      <td>33266.14549</td>\n",
       "      <td>1030729.583</td>\n",
       "      <td>4215 Tracy Garden Suite 076\\nJoshualand, VA 01...</td>\n",
       "    </tr>\n",
       "    <tr>\n",
       "      <th>4999</th>\n",
       "      <td>65510.58180</td>\n",
       "      <td>5.992305</td>\n",
       "      <td>6.792336</td>\n",
       "      <td>4.07</td>\n",
       "      <td>46501.28380</td>\n",
       "      <td>1298950.480</td>\n",
       "      <td>NaN</td>\n",
       "    </tr>\n",
       "  </tbody>\n",
       "</table>\n",
       "<p>2500 rows × 7 columns</p>\n",
       "</div>"
      ],
      "text/plain": [
       "      Avg. Area Income  Avg. Area House Age  Avg. Area Number of Rooms  \\\n",
       "1          79248.64245             6.002900                   6.730821   \n",
       "3          63345.24005             7.188236                   5.586729   \n",
       "5          80175.75416             4.988408                   6.104512   \n",
       "7          78394.33928             6.989780                        NaN   \n",
       "9          81885.92718             4.423672                   8.167688   \n",
       "...                ...                  ...                        ...   \n",
       "4991       74102.19189             5.657841                   7.683993   \n",
       "4993       69639.14090             5.007510                   7.778375   \n",
       "4995       60567.94414             7.830362                   6.137356   \n",
       "4997       63390.68689             7.250591                   4.805081   \n",
       "4999       65510.58180             5.992305                   6.792336   \n",
       "\n",
       "      Avg. Area Number of Bedrooms  Area Population        Price  \\\n",
       "1                             3.09      40173.07217  1505890.915   \n",
       "3                             3.26      34310.24283  1260616.807   \n",
       "5                             4.04      26748.42842  1068138.074   \n",
       "7                             2.42      36516.35897  1573936.564   \n",
       "9                             6.10      40149.96575  1545154.813   \n",
       "...                            ...              ...          ...   \n",
       "4991                          3.13      24041.27059  1263720.518   \n",
       "4993                          6.05      54056.12843  1381830.779   \n",
       "4995                          3.46      22837.36103  1060193.786   \n",
       "4997                          2.13      33266.14549  1030729.583   \n",
       "4999                          4.07      46501.28380  1298950.480   \n",
       "\n",
       "                                                Address  \n",
       "1     188 Johnson Views Suite 079\\nLake Kathleen, CA...  \n",
       "3                                                   NaN  \n",
       "5     06039 Jennifer Islands Apt. 443\\nTracyport, KS...  \n",
       "7        972 Joyce Viaduct\\nLake William, TN 17778-6483  \n",
       "9                      Unit 9446 Box 0958\\nDPO AE 97025  \n",
       "...                                                 ...  \n",
       "4991         2871 John Lodge\\nAmychester, GU 61734-5597  \n",
       "4993  5259 David Causeway Apt. 975\\nSouth Alexstad, ...  \n",
       "4995                   USNS Williams\\nFPO AP 30153-7653  \n",
       "4997  4215 Tracy Garden Suite 076\\nJoshualand, VA 01...  \n",
       "4999                                                NaN  \n",
       "\n",
       "[2500 rows x 7 columns]"
      ]
     },
     "execution_count": 10,
     "metadata": {},
     "output_type": "execute_result"
    }
   ],
   "source": [
    "data.iloc[lambda x: x.index % 2 != 0]"
   ]
  },
  {
   "cell_type": "code",
   "execution_count": 11,
   "id": "8da51a9d",
   "metadata": {},
   "outputs": [
    {
     "data": {
      "text/plain": [
       "4.04"
      ]
     },
     "execution_count": 11,
     "metadata": {},
     "output_type": "execute_result"
    }
   ],
   "source": [
    "data.iloc[5,3]"
   ]
  },
  {
   "cell_type": "code",
   "execution_count": 12,
   "id": "5b5930e5",
   "metadata": {},
   "outputs": [
    {
     "data": {
      "text/html": [
       "<div>\n",
       "<style scoped>\n",
       "    .dataframe tbody tr th:only-of-type {\n",
       "        vertical-align: middle;\n",
       "    }\n",
       "\n",
       "    .dataframe tbody tr th {\n",
       "        vertical-align: top;\n",
       "    }\n",
       "\n",
       "    .dataframe thead th {\n",
       "        text-align: right;\n",
       "    }\n",
       "</style>\n",
       "<table border=\"1\" class=\"dataframe\">\n",
       "  <thead>\n",
       "    <tr style=\"text-align: right;\">\n",
       "      <th></th>\n",
       "      <th>Avg. Area Number of Rooms</th>\n",
       "      <th>Area Population</th>\n",
       "    </tr>\n",
       "  </thead>\n",
       "  <tbody>\n",
       "    <tr>\n",
       "      <th>0</th>\n",
       "      <td>7.009188</td>\n",
       "      <td>23086.80050</td>\n",
       "    </tr>\n",
       "    <tr>\n",
       "      <th>1</th>\n",
       "      <td>6.730821</td>\n",
       "      <td>40173.07217</td>\n",
       "    </tr>\n",
       "    <tr>\n",
       "      <th>2</th>\n",
       "      <td>8.512727</td>\n",
       "      <td>36882.15940</td>\n",
       "    </tr>\n",
       "    <tr>\n",
       "      <th>3</th>\n",
       "      <td>5.586729</td>\n",
       "      <td>34310.24283</td>\n",
       "    </tr>\n",
       "    <tr>\n",
       "      <th>4</th>\n",
       "      <td>7.839388</td>\n",
       "      <td>26354.10947</td>\n",
       "    </tr>\n",
       "    <tr>\n",
       "      <th>...</th>\n",
       "      <td>...</td>\n",
       "      <td>...</td>\n",
       "    </tr>\n",
       "    <tr>\n",
       "      <th>4995</th>\n",
       "      <td>6.137356</td>\n",
       "      <td>22837.36103</td>\n",
       "    </tr>\n",
       "    <tr>\n",
       "      <th>4996</th>\n",
       "      <td>6.576763</td>\n",
       "      <td>25616.11549</td>\n",
       "    </tr>\n",
       "    <tr>\n",
       "      <th>4997</th>\n",
       "      <td>4.805081</td>\n",
       "      <td>33266.14549</td>\n",
       "    </tr>\n",
       "    <tr>\n",
       "      <th>4998</th>\n",
       "      <td>7.130144</td>\n",
       "      <td>42625.62016</td>\n",
       "    </tr>\n",
       "    <tr>\n",
       "      <th>4999</th>\n",
       "      <td>6.792336</td>\n",
       "      <td>46501.28380</td>\n",
       "    </tr>\n",
       "  </tbody>\n",
       "</table>\n",
       "<p>5000 rows × 2 columns</p>\n",
       "</div>"
      ],
      "text/plain": [
       "      Avg. Area Number of Rooms  Area Population\n",
       "0                      7.009188      23086.80050\n",
       "1                      6.730821      40173.07217\n",
       "2                      8.512727      36882.15940\n",
       "3                      5.586729      34310.24283\n",
       "4                      7.839388      26354.10947\n",
       "...                         ...              ...\n",
       "4995                   6.137356      22837.36103\n",
       "4996                   6.576763      25616.11549\n",
       "4997                   4.805081      33266.14549\n",
       "4998                   7.130144      42625.62016\n",
       "4999                   6.792336      46501.28380\n",
       "\n",
       "[5000 rows x 2 columns]"
      ]
     },
     "execution_count": 12,
     "metadata": {},
     "output_type": "execute_result"
    }
   ],
   "source": [
    "data.iloc[:, lambda data: [2, 4]]"
   ]
  },
  {
   "cell_type": "code",
   "execution_count": 13,
   "id": "03d4ae4a",
   "metadata": {},
   "outputs": [
    {
     "data": {
      "text/html": [
       "<div>\n",
       "<style scoped>\n",
       "    .dataframe tbody tr th:only-of-type {\n",
       "        vertical-align: middle;\n",
       "    }\n",
       "\n",
       "    .dataframe tbody tr th {\n",
       "        vertical-align: top;\n",
       "    }\n",
       "\n",
       "    .dataframe thead th {\n",
       "        text-align: right;\n",
       "    }\n",
       "</style>\n",
       "<table border=\"1\" class=\"dataframe\">\n",
       "  <thead>\n",
       "    <tr style=\"text-align: right;\">\n",
       "      <th></th>\n",
       "      <th>Avg. Area Number of Bedrooms</th>\n",
       "      <th>Price</th>\n",
       "    </tr>\n",
       "  </thead>\n",
       "  <tbody>\n",
       "    <tr>\n",
       "      <th>4</th>\n",
       "      <td>4.23</td>\n",
       "      <td>6.309435e+05</td>\n",
       "    </tr>\n",
       "    <tr>\n",
       "      <th>6</th>\n",
       "      <td>3.41</td>\n",
       "      <td>1.502056e+06</td>\n",
       "    </tr>\n",
       "    <tr>\n",
       "      <th>8</th>\n",
       "      <td>2.30</td>\n",
       "      <td>7.988695e+05</td>\n",
       "    </tr>\n",
       "    <tr>\n",
       "      <th>10</th>\n",
       "      <td>NaN</td>\n",
       "      <td>NaN</td>\n",
       "    </tr>\n",
       "    <tr>\n",
       "      <th>12</th>\n",
       "      <td>4.49</td>\n",
       "      <td>NaN</td>\n",
       "    </tr>\n",
       "    <tr>\n",
       "      <th>14</th>\n",
       "      <td>2.27</td>\n",
       "      <td>1.291332e+06</td>\n",
       "    </tr>\n",
       "    <tr>\n",
       "      <th>16</th>\n",
       "      <td>NaN</td>\n",
       "      <td>1.306675e+06</td>\n",
       "    </tr>\n",
       "    <tr>\n",
       "      <th>18</th>\n",
       "      <td>4.30</td>\n",
       "      <td>5.284852e+05</td>\n",
       "    </tr>\n",
       "  </tbody>\n",
       "</table>\n",
       "</div>"
      ],
      "text/plain": [
       "    Avg. Area Number of Bedrooms         Price\n",
       "4                           4.23  6.309435e+05\n",
       "6                           3.41  1.502056e+06\n",
       "8                           2.30  7.988695e+05\n",
       "10                           NaN           NaN\n",
       "12                          4.49           NaN\n",
       "14                          2.27  1.291332e+06\n",
       "16                           NaN  1.306675e+06\n",
       "18                          4.30  5.284852e+05"
      ]
     },
     "execution_count": 13,
     "metadata": {},
     "output_type": "execute_result"
    }
   ],
   "source": [
    "data.iloc[4:20:2,3::2]"
   ]
  },
  {
   "cell_type": "markdown",
   "id": "41eaa03d",
   "metadata": {},
   "source": [
    "## FINDING AND TREATING MISSING VALUES "
   ]
  },
  {
   "cell_type": "markdown",
   "id": "d3edb493",
   "metadata": {},
   "source": [
    "### By Dropping Rows"
   ]
  },
  {
   "cell_type": "code",
   "execution_count": 14,
   "id": "81cbf887",
   "metadata": {
    "scrolled": false
   },
   "outputs": [
    {
     "data": {
      "text/html": [
       "<div>\n",
       "<style scoped>\n",
       "    .dataframe tbody tr th:only-of-type {\n",
       "        vertical-align: middle;\n",
       "    }\n",
       "\n",
       "    .dataframe tbody tr th {\n",
       "        vertical-align: top;\n",
       "    }\n",
       "\n",
       "    .dataframe thead th {\n",
       "        text-align: right;\n",
       "    }\n",
       "</style>\n",
       "<table border=\"1\" class=\"dataframe\">\n",
       "  <thead>\n",
       "    <tr style=\"text-align: right;\">\n",
       "      <th></th>\n",
       "      <th>Avg. Area Income</th>\n",
       "      <th>Avg. Area House Age</th>\n",
       "      <th>Avg. Area Number of Rooms</th>\n",
       "      <th>Avg. Area Number of Bedrooms</th>\n",
       "      <th>Area Population</th>\n",
       "      <th>Price</th>\n",
       "      <th>Address</th>\n",
       "    </tr>\n",
       "  </thead>\n",
       "  <tbody>\n",
       "    <tr>\n",
       "      <th>0</th>\n",
       "      <td>True</td>\n",
       "      <td>False</td>\n",
       "      <td>False</td>\n",
       "      <td>False</td>\n",
       "      <td>False</td>\n",
       "      <td>False</td>\n",
       "      <td>True</td>\n",
       "    </tr>\n",
       "    <tr>\n",
       "      <th>1</th>\n",
       "      <td>False</td>\n",
       "      <td>False</td>\n",
       "      <td>False</td>\n",
       "      <td>False</td>\n",
       "      <td>False</td>\n",
       "      <td>False</td>\n",
       "      <td>False</td>\n",
       "    </tr>\n",
       "    <tr>\n",
       "      <th>2</th>\n",
       "      <td>False</td>\n",
       "      <td>True</td>\n",
       "      <td>False</td>\n",
       "      <td>False</td>\n",
       "      <td>False</td>\n",
       "      <td>True</td>\n",
       "      <td>False</td>\n",
       "    </tr>\n",
       "    <tr>\n",
       "      <th>3</th>\n",
       "      <td>False</td>\n",
       "      <td>False</td>\n",
       "      <td>False</td>\n",
       "      <td>False</td>\n",
       "      <td>False</td>\n",
       "      <td>False</td>\n",
       "      <td>True</td>\n",
       "    </tr>\n",
       "    <tr>\n",
       "      <th>4</th>\n",
       "      <td>False</td>\n",
       "      <td>False</td>\n",
       "      <td>False</td>\n",
       "      <td>False</td>\n",
       "      <td>False</td>\n",
       "      <td>False</td>\n",
       "      <td>False</td>\n",
       "    </tr>\n",
       "    <tr>\n",
       "      <th>...</th>\n",
       "      <td>...</td>\n",
       "      <td>...</td>\n",
       "      <td>...</td>\n",
       "      <td>...</td>\n",
       "      <td>...</td>\n",
       "      <td>...</td>\n",
       "      <td>...</td>\n",
       "    </tr>\n",
       "    <tr>\n",
       "      <th>4995</th>\n",
       "      <td>False</td>\n",
       "      <td>False</td>\n",
       "      <td>False</td>\n",
       "      <td>False</td>\n",
       "      <td>False</td>\n",
       "      <td>False</td>\n",
       "      <td>False</td>\n",
       "    </tr>\n",
       "    <tr>\n",
       "      <th>4996</th>\n",
       "      <td>False</td>\n",
       "      <td>False</td>\n",
       "      <td>False</td>\n",
       "      <td>False</td>\n",
       "      <td>False</td>\n",
       "      <td>False</td>\n",
       "      <td>False</td>\n",
       "    </tr>\n",
       "    <tr>\n",
       "      <th>4997</th>\n",
       "      <td>False</td>\n",
       "      <td>False</td>\n",
       "      <td>False</td>\n",
       "      <td>False</td>\n",
       "      <td>False</td>\n",
       "      <td>False</td>\n",
       "      <td>False</td>\n",
       "    </tr>\n",
       "    <tr>\n",
       "      <th>4998</th>\n",
       "      <td>False</td>\n",
       "      <td>False</td>\n",
       "      <td>False</td>\n",
       "      <td>False</td>\n",
       "      <td>False</td>\n",
       "      <td>False</td>\n",
       "      <td>False</td>\n",
       "    </tr>\n",
       "    <tr>\n",
       "      <th>4999</th>\n",
       "      <td>False</td>\n",
       "      <td>False</td>\n",
       "      <td>False</td>\n",
       "      <td>False</td>\n",
       "      <td>False</td>\n",
       "      <td>False</td>\n",
       "      <td>True</td>\n",
       "    </tr>\n",
       "  </tbody>\n",
       "</table>\n",
       "<p>5000 rows × 7 columns</p>\n",
       "</div>"
      ],
      "text/plain": [
       "      Avg. Area Income  Avg. Area House Age  Avg. Area Number of Rooms  \\\n",
       "0                 True                False                      False   \n",
       "1                False                False                      False   \n",
       "2                False                 True                      False   \n",
       "3                False                False                      False   \n",
       "4                False                False                      False   \n",
       "...                ...                  ...                        ...   \n",
       "4995             False                False                      False   \n",
       "4996             False                False                      False   \n",
       "4997             False                False                      False   \n",
       "4998             False                False                      False   \n",
       "4999             False                False                      False   \n",
       "\n",
       "      Avg. Area Number of Bedrooms  Area Population  Price  Address  \n",
       "0                            False            False  False     True  \n",
       "1                            False            False  False    False  \n",
       "2                            False            False   True    False  \n",
       "3                            False            False  False     True  \n",
       "4                            False            False  False    False  \n",
       "...                            ...              ...    ...      ...  \n",
       "4995                         False            False  False    False  \n",
       "4996                         False            False  False    False  \n",
       "4997                         False            False  False    False  \n",
       "4998                         False            False  False    False  \n",
       "4999                         False            False  False     True  \n",
       "\n",
       "[5000 rows x 7 columns]"
      ]
     },
     "execution_count": 14,
     "metadata": {},
     "output_type": "execute_result"
    }
   ],
   "source": [
    "data.isnull()"
   ]
  },
  {
   "cell_type": "code",
   "execution_count": 15,
   "id": "b4627d65",
   "metadata": {},
   "outputs": [
    {
     "data": {
      "text/plain": [
       "Avg. Area Income                28\n",
       "Avg. Area House Age             36\n",
       "Avg. Area Number of Rooms       40\n",
       "Avg. Area Number of Bedrooms    37\n",
       "Area Population                 44\n",
       "Price                           36\n",
       "Address                         34\n",
       "dtype: int64"
      ]
     },
     "execution_count": 15,
     "metadata": {},
     "output_type": "execute_result"
    }
   ],
   "source": [
    "data.isnull().sum()"
   ]
  },
  {
   "cell_type": "code",
   "execution_count": 16,
   "id": "d1797bfd",
   "metadata": {},
   "outputs": [
    {
     "data": {
      "text/plain": [
       "255"
      ]
     },
     "execution_count": 16,
     "metadata": {},
     "output_type": "execute_result"
    }
   ],
   "source": [
    "data.isnull().sum().sum()"
   ]
  },
  {
   "cell_type": "code",
   "execution_count": 17,
   "id": "0c64fdc4",
   "metadata": {},
   "outputs": [
    {
     "data": {
      "text/html": [
       "<div>\n",
       "<style scoped>\n",
       "    .dataframe tbody tr th:only-of-type {\n",
       "        vertical-align: middle;\n",
       "    }\n",
       "\n",
       "    .dataframe tbody tr th {\n",
       "        vertical-align: top;\n",
       "    }\n",
       "\n",
       "    .dataframe thead th {\n",
       "        text-align: right;\n",
       "    }\n",
       "</style>\n",
       "<table border=\"1\" class=\"dataframe\">\n",
       "  <thead>\n",
       "    <tr style=\"text-align: right;\">\n",
       "      <th></th>\n",
       "      <th>Avg. Area Income</th>\n",
       "      <th>Avg. Area House Age</th>\n",
       "      <th>Avg. Area Number of Rooms</th>\n",
       "      <th>Avg. Area Number of Bedrooms</th>\n",
       "      <th>Area Population</th>\n",
       "      <th>Price</th>\n",
       "      <th>Address</th>\n",
       "    </tr>\n",
       "  </thead>\n",
       "  <tbody>\n",
       "    <tr>\n",
       "      <th>1</th>\n",
       "      <td>79248.64245</td>\n",
       "      <td>6.002900</td>\n",
       "      <td>6.730821</td>\n",
       "      <td>3.09</td>\n",
       "      <td>40173.07217</td>\n",
       "      <td>1.505891e+06</td>\n",
       "      <td>188 Johnson Views Suite 079\\nLake Kathleen, CA...</td>\n",
       "    </tr>\n",
       "    <tr>\n",
       "      <th>4</th>\n",
       "      <td>59982.19723</td>\n",
       "      <td>5.040555</td>\n",
       "      <td>7.839388</td>\n",
       "      <td>4.23</td>\n",
       "      <td>26354.10947</td>\n",
       "      <td>6.309435e+05</td>\n",
       "      <td>USNS Raymond\\nFPO AE 09386</td>\n",
       "    </tr>\n",
       "    <tr>\n",
       "      <th>5</th>\n",
       "      <td>80175.75416</td>\n",
       "      <td>4.988408</td>\n",
       "      <td>6.104512</td>\n",
       "      <td>4.04</td>\n",
       "      <td>26748.42842</td>\n",
       "      <td>1.068138e+06</td>\n",
       "      <td>06039 Jennifer Islands Apt. 443\\nTracyport, KS...</td>\n",
       "    </tr>\n",
       "    <tr>\n",
       "      <th>8</th>\n",
       "      <td>59927.66081</td>\n",
       "      <td>5.362126</td>\n",
       "      <td>6.393121</td>\n",
       "      <td>2.30</td>\n",
       "      <td>29387.39600</td>\n",
       "      <td>7.988695e+05</td>\n",
       "      <td>USS Gilbert\\nFPO AA 20957</td>\n",
       "    </tr>\n",
       "    <tr>\n",
       "      <th>9</th>\n",
       "      <td>81885.92718</td>\n",
       "      <td>4.423672</td>\n",
       "      <td>8.167688</td>\n",
       "      <td>6.10</td>\n",
       "      <td>40149.96575</td>\n",
       "      <td>1.545155e+06</td>\n",
       "      <td>Unit 9446 Box 0958\\nDPO AE 97025</td>\n",
       "    </tr>\n",
       "    <tr>\n",
       "      <th>...</th>\n",
       "      <td>...</td>\n",
       "      <td>...</td>\n",
       "      <td>...</td>\n",
       "      <td>...</td>\n",
       "      <td>...</td>\n",
       "      <td>...</td>\n",
       "      <td>...</td>\n",
       "    </tr>\n",
       "    <tr>\n",
       "      <th>4994</th>\n",
       "      <td>73060.84623</td>\n",
       "      <td>5.293682</td>\n",
       "      <td>6.312253</td>\n",
       "      <td>4.16</td>\n",
       "      <td>22695.69548</td>\n",
       "      <td>9.053549e+05</td>\n",
       "      <td>5224 Lamb Passage\\nNancystad, GA 16579</td>\n",
       "    </tr>\n",
       "    <tr>\n",
       "      <th>4995</th>\n",
       "      <td>60567.94414</td>\n",
       "      <td>7.830362</td>\n",
       "      <td>6.137356</td>\n",
       "      <td>3.46</td>\n",
       "      <td>22837.36103</td>\n",
       "      <td>1.060194e+06</td>\n",
       "      <td>USNS Williams\\nFPO AP 30153-7653</td>\n",
       "    </tr>\n",
       "    <tr>\n",
       "      <th>4996</th>\n",
       "      <td>78491.27543</td>\n",
       "      <td>6.999135</td>\n",
       "      <td>6.576763</td>\n",
       "      <td>4.02</td>\n",
       "      <td>25616.11549</td>\n",
       "      <td>1.482618e+06</td>\n",
       "      <td>PSC 9258, Box 8489\\nAPO AA 42991-3352</td>\n",
       "    </tr>\n",
       "    <tr>\n",
       "      <th>4997</th>\n",
       "      <td>63390.68689</td>\n",
       "      <td>7.250591</td>\n",
       "      <td>4.805081</td>\n",
       "      <td>2.13</td>\n",
       "      <td>33266.14549</td>\n",
       "      <td>1.030730e+06</td>\n",
       "      <td>4215 Tracy Garden Suite 076\\nJoshualand, VA 01...</td>\n",
       "    </tr>\n",
       "    <tr>\n",
       "      <th>4998</th>\n",
       "      <td>68001.33124</td>\n",
       "      <td>5.534388</td>\n",
       "      <td>7.130144</td>\n",
       "      <td>5.44</td>\n",
       "      <td>42625.62016</td>\n",
       "      <td>1.198657e+06</td>\n",
       "      <td>USS Wallace\\nFPO AE 73316</td>\n",
       "    </tr>\n",
       "  </tbody>\n",
       "</table>\n",
       "<p>4765 rows × 7 columns</p>\n",
       "</div>"
      ],
      "text/plain": [
       "      Avg. Area Income  Avg. Area House Age  Avg. Area Number of Rooms  \\\n",
       "1          79248.64245             6.002900                   6.730821   \n",
       "4          59982.19723             5.040555                   7.839388   \n",
       "5          80175.75416             4.988408                   6.104512   \n",
       "8          59927.66081             5.362126                   6.393121   \n",
       "9          81885.92718             4.423672                   8.167688   \n",
       "...                ...                  ...                        ...   \n",
       "4994       73060.84623             5.293682                   6.312253   \n",
       "4995       60567.94414             7.830362                   6.137356   \n",
       "4996       78491.27543             6.999135                   6.576763   \n",
       "4997       63390.68689             7.250591                   4.805081   \n",
       "4998       68001.33124             5.534388                   7.130144   \n",
       "\n",
       "      Avg. Area Number of Bedrooms  Area Population         Price  \\\n",
       "1                             3.09      40173.07217  1.505891e+06   \n",
       "4                             4.23      26354.10947  6.309435e+05   \n",
       "5                             4.04      26748.42842  1.068138e+06   \n",
       "8                             2.30      29387.39600  7.988695e+05   \n",
       "9                             6.10      40149.96575  1.545155e+06   \n",
       "...                            ...              ...           ...   \n",
       "4994                          4.16      22695.69548  9.053549e+05   \n",
       "4995                          3.46      22837.36103  1.060194e+06   \n",
       "4996                          4.02      25616.11549  1.482618e+06   \n",
       "4997                          2.13      33266.14549  1.030730e+06   \n",
       "4998                          5.44      42625.62016  1.198657e+06   \n",
       "\n",
       "                                                Address  \n",
       "1     188 Johnson Views Suite 079\\nLake Kathleen, CA...  \n",
       "4                            USNS Raymond\\nFPO AE 09386  \n",
       "5     06039 Jennifer Islands Apt. 443\\nTracyport, KS...  \n",
       "8                             USS Gilbert\\nFPO AA 20957  \n",
       "9                      Unit 9446 Box 0958\\nDPO AE 97025  \n",
       "...                                                 ...  \n",
       "4994             5224 Lamb Passage\\nNancystad, GA 16579  \n",
       "4995                   USNS Williams\\nFPO AP 30153-7653  \n",
       "4996              PSC 9258, Box 8489\\nAPO AA 42991-3352  \n",
       "4997  4215 Tracy Garden Suite 076\\nJoshualand, VA 01...  \n",
       "4998                          USS Wallace\\nFPO AE 73316  \n",
       "\n",
       "[4765 rows x 7 columns]"
      ]
     },
     "execution_count": 17,
     "metadata": {},
     "output_type": "execute_result"
    }
   ],
   "source": [
    "nanrow = data.dropna()\n",
    "nanrow"
   ]
  },
  {
   "cell_type": "code",
   "execution_count": 18,
   "id": "b1bd1779",
   "metadata": {},
   "outputs": [
    {
     "data": {
      "text/plain": [
       "Avg. Area Income                0\n",
       "Avg. Area House Age             0\n",
       "Avg. Area Number of Rooms       0\n",
       "Avg. Area Number of Bedrooms    0\n",
       "Area Population                 0\n",
       "Price                           0\n",
       "Address                         0\n",
       "dtype: int64"
      ]
     },
     "execution_count": 18,
     "metadata": {},
     "output_type": "execute_result"
    }
   ],
   "source": [
    "nanrow.isnull().sum()"
   ]
  },
  {
   "cell_type": "code",
   "execution_count": 19,
   "id": "b36df3fe",
   "metadata": {},
   "outputs": [
    {
     "data": {
      "text/plain": [
       "0"
      ]
     },
     "execution_count": 19,
     "metadata": {},
     "output_type": "execute_result"
    }
   ],
   "source": [
    "nanrow.isnull().sum().sum()"
   ]
  },
  {
   "cell_type": "markdown",
   "id": "120993a4",
   "metadata": {},
   "source": [
    "### By Dropping Columns"
   ]
  },
  {
   "cell_type": "code",
   "execution_count": 21,
   "id": "36099097",
   "metadata": {
    "scrolled": false
   },
   "outputs": [
    {
     "data": {
      "text/html": [
       "<div>\n",
       "<style scoped>\n",
       "    .dataframe tbody tr th:only-of-type {\n",
       "        vertical-align: middle;\n",
       "    }\n",
       "\n",
       "    .dataframe tbody tr th {\n",
       "        vertical-align: top;\n",
       "    }\n",
       "\n",
       "    .dataframe thead th {\n",
       "        text-align: right;\n",
       "    }\n",
       "</style>\n",
       "<table border=\"1\" class=\"dataframe\">\n",
       "  <thead>\n",
       "    <tr style=\"text-align: right;\">\n",
       "      <th></th>\n",
       "      <th>Avg. Area Income</th>\n",
       "      <th>Avg. Area Number of Bedrooms</th>\n",
       "      <th>Area Population</th>\n",
       "      <th>Price</th>\n",
       "      <th>Address</th>\n",
       "    </tr>\n",
       "  </thead>\n",
       "  <tbody>\n",
       "    <tr>\n",
       "      <th>0</th>\n",
       "      <td>NaN</td>\n",
       "      <td>4.09</td>\n",
       "      <td>23086.80050</td>\n",
       "      <td>1.059034e+06</td>\n",
       "      <td>NaN</td>\n",
       "    </tr>\n",
       "    <tr>\n",
       "      <th>1</th>\n",
       "      <td>79248.64245</td>\n",
       "      <td>3.09</td>\n",
       "      <td>40173.07217</td>\n",
       "      <td>1.505891e+06</td>\n",
       "      <td>188 Johnson Views Suite 079\\nLake Kathleen, CA...</td>\n",
       "    </tr>\n",
       "    <tr>\n",
       "      <th>2</th>\n",
       "      <td>61287.06718</td>\n",
       "      <td>5.13</td>\n",
       "      <td>36882.15940</td>\n",
       "      <td>NaN</td>\n",
       "      <td>9127 Elizabeth Stravenue\\nDanieltown, WI 06482...</td>\n",
       "    </tr>\n",
       "    <tr>\n",
       "      <th>3</th>\n",
       "      <td>63345.24005</td>\n",
       "      <td>3.26</td>\n",
       "      <td>34310.24283</td>\n",
       "      <td>1.260617e+06</td>\n",
       "      <td>NaN</td>\n",
       "    </tr>\n",
       "    <tr>\n",
       "      <th>4</th>\n",
       "      <td>59982.19723</td>\n",
       "      <td>4.23</td>\n",
       "      <td>26354.10947</td>\n",
       "      <td>6.309435e+05</td>\n",
       "      <td>USNS Raymond\\nFPO AE 09386</td>\n",
       "    </tr>\n",
       "    <tr>\n",
       "      <th>...</th>\n",
       "      <td>...</td>\n",
       "      <td>...</td>\n",
       "      <td>...</td>\n",
       "      <td>...</td>\n",
       "      <td>...</td>\n",
       "    </tr>\n",
       "    <tr>\n",
       "      <th>4995</th>\n",
       "      <td>60567.94414</td>\n",
       "      <td>3.46</td>\n",
       "      <td>22837.36103</td>\n",
       "      <td>1.060194e+06</td>\n",
       "      <td>USNS Williams\\nFPO AP 30153-7653</td>\n",
       "    </tr>\n",
       "    <tr>\n",
       "      <th>4996</th>\n",
       "      <td>78491.27543</td>\n",
       "      <td>4.02</td>\n",
       "      <td>25616.11549</td>\n",
       "      <td>1.482618e+06</td>\n",
       "      <td>PSC 9258, Box 8489\\nAPO AA 42991-3352</td>\n",
       "    </tr>\n",
       "    <tr>\n",
       "      <th>4997</th>\n",
       "      <td>63390.68689</td>\n",
       "      <td>2.13</td>\n",
       "      <td>33266.14549</td>\n",
       "      <td>1.030730e+06</td>\n",
       "      <td>4215 Tracy Garden Suite 076\\nJoshualand, VA 01...</td>\n",
       "    </tr>\n",
       "    <tr>\n",
       "      <th>4998</th>\n",
       "      <td>68001.33124</td>\n",
       "      <td>5.44</td>\n",
       "      <td>42625.62016</td>\n",
       "      <td>1.198657e+06</td>\n",
       "      <td>USS Wallace\\nFPO AE 73316</td>\n",
       "    </tr>\n",
       "    <tr>\n",
       "      <th>4999</th>\n",
       "      <td>65510.58180</td>\n",
       "      <td>4.07</td>\n",
       "      <td>46501.28380</td>\n",
       "      <td>1.298950e+06</td>\n",
       "      <td>NaN</td>\n",
       "    </tr>\n",
       "  </tbody>\n",
       "</table>\n",
       "<p>5000 rows × 5 columns</p>\n",
       "</div>"
      ],
      "text/plain": [
       "      Avg. Area Income  Avg. Area Number of Bedrooms  Area Population  \\\n",
       "0                  NaN                          4.09      23086.80050   \n",
       "1          79248.64245                          3.09      40173.07217   \n",
       "2          61287.06718                          5.13      36882.15940   \n",
       "3          63345.24005                          3.26      34310.24283   \n",
       "4          59982.19723                          4.23      26354.10947   \n",
       "...                ...                           ...              ...   \n",
       "4995       60567.94414                          3.46      22837.36103   \n",
       "4996       78491.27543                          4.02      25616.11549   \n",
       "4997       63390.68689                          2.13      33266.14549   \n",
       "4998       68001.33124                          5.44      42625.62016   \n",
       "4999       65510.58180                          4.07      46501.28380   \n",
       "\n",
       "             Price                                            Address  \n",
       "0     1.059034e+06                                                NaN  \n",
       "1     1.505891e+06  188 Johnson Views Suite 079\\nLake Kathleen, CA...  \n",
       "2              NaN  9127 Elizabeth Stravenue\\nDanieltown, WI 06482...  \n",
       "3     1.260617e+06                                                NaN  \n",
       "4     6.309435e+05                         USNS Raymond\\nFPO AE 09386  \n",
       "...            ...                                                ...  \n",
       "4995  1.060194e+06                   USNS Williams\\nFPO AP 30153-7653  \n",
       "4996  1.482618e+06              PSC 9258, Box 8489\\nAPO AA 42991-3352  \n",
       "4997  1.030730e+06  4215 Tracy Garden Suite 076\\nJoshualand, VA 01...  \n",
       "4998  1.198657e+06                          USS Wallace\\nFPO AE 73316  \n",
       "4999  1.298950e+06                                                NaN  \n",
       "\n",
       "[5000 rows x 5 columns]"
      ]
     },
     "execution_count": 21,
     "metadata": {},
     "output_type": "execute_result"
    }
   ],
   "source": [
    "nancol = data.drop(['Avg. Area House Age','Avg. Area Number of Rooms'], axis = 1)\n",
    "nancol"
   ]
  },
  {
   "cell_type": "code",
   "execution_count": 22,
   "id": "7df29950",
   "metadata": {},
   "outputs": [
    {
     "data": {
      "text/html": [
       "<div>\n",
       "<style scoped>\n",
       "    .dataframe tbody tr th:only-of-type {\n",
       "        vertical-align: middle;\n",
       "    }\n",
       "\n",
       "    .dataframe tbody tr th {\n",
       "        vertical-align: top;\n",
       "    }\n",
       "\n",
       "    .dataframe thead th {\n",
       "        text-align: right;\n",
       "    }\n",
       "</style>\n",
       "<table border=\"1\" class=\"dataframe\">\n",
       "  <thead>\n",
       "    <tr style=\"text-align: right;\">\n",
       "      <th></th>\n",
       "      <th>Avg. Area Income</th>\n",
       "      <th>Avg. Area House Age</th>\n",
       "      <th>Avg. Area Number of Rooms</th>\n",
       "      <th>Avg. Area Number of Bedrooms</th>\n",
       "      <th>Address</th>\n",
       "    </tr>\n",
       "  </thead>\n",
       "  <tbody>\n",
       "    <tr>\n",
       "      <th>0</th>\n",
       "      <td>NaN</td>\n",
       "      <td>5.682861</td>\n",
       "      <td>7.009188</td>\n",
       "      <td>4.09</td>\n",
       "      <td>NaN</td>\n",
       "    </tr>\n",
       "    <tr>\n",
       "      <th>1</th>\n",
       "      <td>79248.64245</td>\n",
       "      <td>6.002900</td>\n",
       "      <td>6.730821</td>\n",
       "      <td>3.09</td>\n",
       "      <td>188 Johnson Views Suite 079\\nLake Kathleen, CA...</td>\n",
       "    </tr>\n",
       "    <tr>\n",
       "      <th>2</th>\n",
       "      <td>61287.06718</td>\n",
       "      <td>NaN</td>\n",
       "      <td>8.512727</td>\n",
       "      <td>5.13</td>\n",
       "      <td>9127 Elizabeth Stravenue\\nDanieltown, WI 06482...</td>\n",
       "    </tr>\n",
       "    <tr>\n",
       "      <th>3</th>\n",
       "      <td>63345.24005</td>\n",
       "      <td>7.188236</td>\n",
       "      <td>5.586729</td>\n",
       "      <td>3.26</td>\n",
       "      <td>NaN</td>\n",
       "    </tr>\n",
       "    <tr>\n",
       "      <th>4</th>\n",
       "      <td>59982.19723</td>\n",
       "      <td>5.040555</td>\n",
       "      <td>7.839388</td>\n",
       "      <td>4.23</td>\n",
       "      <td>USNS Raymond\\nFPO AE 09386</td>\n",
       "    </tr>\n",
       "    <tr>\n",
       "      <th>...</th>\n",
       "      <td>...</td>\n",
       "      <td>...</td>\n",
       "      <td>...</td>\n",
       "      <td>...</td>\n",
       "      <td>...</td>\n",
       "    </tr>\n",
       "    <tr>\n",
       "      <th>4995</th>\n",
       "      <td>60567.94414</td>\n",
       "      <td>7.830362</td>\n",
       "      <td>6.137356</td>\n",
       "      <td>3.46</td>\n",
       "      <td>USNS Williams\\nFPO AP 30153-7653</td>\n",
       "    </tr>\n",
       "    <tr>\n",
       "      <th>4996</th>\n",
       "      <td>78491.27543</td>\n",
       "      <td>6.999135</td>\n",
       "      <td>6.576763</td>\n",
       "      <td>4.02</td>\n",
       "      <td>PSC 9258, Box 8489\\nAPO AA 42991-3352</td>\n",
       "    </tr>\n",
       "    <tr>\n",
       "      <th>4997</th>\n",
       "      <td>63390.68689</td>\n",
       "      <td>7.250591</td>\n",
       "      <td>4.805081</td>\n",
       "      <td>2.13</td>\n",
       "      <td>4215 Tracy Garden Suite 076\\nJoshualand, VA 01...</td>\n",
       "    </tr>\n",
       "    <tr>\n",
       "      <th>4998</th>\n",
       "      <td>68001.33124</td>\n",
       "      <td>5.534388</td>\n",
       "      <td>7.130144</td>\n",
       "      <td>5.44</td>\n",
       "      <td>USS Wallace\\nFPO AE 73316</td>\n",
       "    </tr>\n",
       "    <tr>\n",
       "      <th>4999</th>\n",
       "      <td>65510.58180</td>\n",
       "      <td>5.992305</td>\n",
       "      <td>6.792336</td>\n",
       "      <td>4.07</td>\n",
       "      <td>NaN</td>\n",
       "    </tr>\n",
       "  </tbody>\n",
       "</table>\n",
       "<p>5000 rows × 5 columns</p>\n",
       "</div>"
      ],
      "text/plain": [
       "      Avg. Area Income  Avg. Area House Age  Avg. Area Number of Rooms  \\\n",
       "0                  NaN             5.682861                   7.009188   \n",
       "1          79248.64245             6.002900                   6.730821   \n",
       "2          61287.06718                  NaN                   8.512727   \n",
       "3          63345.24005             7.188236                   5.586729   \n",
       "4          59982.19723             5.040555                   7.839388   \n",
       "...                ...                  ...                        ...   \n",
       "4995       60567.94414             7.830362                   6.137356   \n",
       "4996       78491.27543             6.999135                   6.576763   \n",
       "4997       63390.68689             7.250591                   4.805081   \n",
       "4998       68001.33124             5.534388                   7.130144   \n",
       "4999       65510.58180             5.992305                   6.792336   \n",
       "\n",
       "      Avg. Area Number of Bedrooms  \\\n",
       "0                             4.09   \n",
       "1                             3.09   \n",
       "2                             5.13   \n",
       "3                             3.26   \n",
       "4                             4.23   \n",
       "...                            ...   \n",
       "4995                          3.46   \n",
       "4996                          4.02   \n",
       "4997                          2.13   \n",
       "4998                          5.44   \n",
       "4999                          4.07   \n",
       "\n",
       "                                                Address  \n",
       "0                                                   NaN  \n",
       "1     188 Johnson Views Suite 079\\nLake Kathleen, CA...  \n",
       "2     9127 Elizabeth Stravenue\\nDanieltown, WI 06482...  \n",
       "3                                                   NaN  \n",
       "4                            USNS Raymond\\nFPO AE 09386  \n",
       "...                                                 ...  \n",
       "4995                   USNS Williams\\nFPO AP 30153-7653  \n",
       "4996              PSC 9258, Box 8489\\nAPO AA 42991-3352  \n",
       "4997  4215 Tracy Garden Suite 076\\nJoshualand, VA 01...  \n",
       "4998                          USS Wallace\\nFPO AE 73316  \n",
       "4999                                                NaN  \n",
       "\n",
       "[5000 rows x 5 columns]"
      ]
     },
     "execution_count": 22,
     "metadata": {},
     "output_type": "execute_result"
    }
   ],
   "source": [
    "nancol = data.drop(columns = ['Area Population','Price'])\n",
    "nancol"
   ]
  },
  {
   "cell_type": "markdown",
   "id": "dab93e10",
   "metadata": {},
   "source": [
    "### By Filling Rows"
   ]
  },
  {
   "cell_type": "markdown",
   "id": "26ae4f8b",
   "metadata": {},
   "source": [
    "#### With Constant"
   ]
  },
  {
   "cell_type": "code",
   "execution_count": 23,
   "id": "691c5037",
   "metadata": {
    "scrolled": false
   },
   "outputs": [
    {
     "data": {
      "text/html": [
       "<div>\n",
       "<style scoped>\n",
       "    .dataframe tbody tr th:only-of-type {\n",
       "        vertical-align: middle;\n",
       "    }\n",
       "\n",
       "    .dataframe tbody tr th {\n",
       "        vertical-align: top;\n",
       "    }\n",
       "\n",
       "    .dataframe thead th {\n",
       "        text-align: right;\n",
       "    }\n",
       "</style>\n",
       "<table border=\"1\" class=\"dataframe\">\n",
       "  <thead>\n",
       "    <tr style=\"text-align: right;\">\n",
       "      <th></th>\n",
       "      <th>Avg. Area Income</th>\n",
       "      <th>Avg. Area House Age</th>\n",
       "      <th>Avg. Area Number of Rooms</th>\n",
       "      <th>Avg. Area Number of Bedrooms</th>\n",
       "      <th>Area Population</th>\n",
       "      <th>Price</th>\n",
       "      <th>Address</th>\n",
       "    </tr>\n",
       "  </thead>\n",
       "  <tbody>\n",
       "    <tr>\n",
       "      <th>0</th>\n",
       "      <td>0.00000</td>\n",
       "      <td>5.682861</td>\n",
       "      <td>7.009188</td>\n",
       "      <td>4.09</td>\n",
       "      <td>23086.80050</td>\n",
       "      <td>1.059034e+06</td>\n",
       "      <td>0</td>\n",
       "    </tr>\n",
       "    <tr>\n",
       "      <th>1</th>\n",
       "      <td>79248.64245</td>\n",
       "      <td>6.002900</td>\n",
       "      <td>6.730821</td>\n",
       "      <td>3.09</td>\n",
       "      <td>40173.07217</td>\n",
       "      <td>1.505891e+06</td>\n",
       "      <td>188 Johnson Views Suite 079\\nLake Kathleen, CA...</td>\n",
       "    </tr>\n",
       "    <tr>\n",
       "      <th>2</th>\n",
       "      <td>61287.06718</td>\n",
       "      <td>0.000000</td>\n",
       "      <td>8.512727</td>\n",
       "      <td>5.13</td>\n",
       "      <td>36882.15940</td>\n",
       "      <td>0.000000e+00</td>\n",
       "      <td>9127 Elizabeth Stravenue\\nDanieltown, WI 06482...</td>\n",
       "    </tr>\n",
       "    <tr>\n",
       "      <th>3</th>\n",
       "      <td>63345.24005</td>\n",
       "      <td>7.188236</td>\n",
       "      <td>5.586729</td>\n",
       "      <td>3.26</td>\n",
       "      <td>34310.24283</td>\n",
       "      <td>1.260617e+06</td>\n",
       "      <td>0</td>\n",
       "    </tr>\n",
       "    <tr>\n",
       "      <th>4</th>\n",
       "      <td>59982.19723</td>\n",
       "      <td>5.040555</td>\n",
       "      <td>7.839388</td>\n",
       "      <td>4.23</td>\n",
       "      <td>26354.10947</td>\n",
       "      <td>6.309435e+05</td>\n",
       "      <td>USNS Raymond\\nFPO AE 09386</td>\n",
       "    </tr>\n",
       "    <tr>\n",
       "      <th>...</th>\n",
       "      <td>...</td>\n",
       "      <td>...</td>\n",
       "      <td>...</td>\n",
       "      <td>...</td>\n",
       "      <td>...</td>\n",
       "      <td>...</td>\n",
       "      <td>...</td>\n",
       "    </tr>\n",
       "    <tr>\n",
       "      <th>4995</th>\n",
       "      <td>60567.94414</td>\n",
       "      <td>7.830362</td>\n",
       "      <td>6.137356</td>\n",
       "      <td>3.46</td>\n",
       "      <td>22837.36103</td>\n",
       "      <td>1.060194e+06</td>\n",
       "      <td>USNS Williams\\nFPO AP 30153-7653</td>\n",
       "    </tr>\n",
       "    <tr>\n",
       "      <th>4996</th>\n",
       "      <td>78491.27543</td>\n",
       "      <td>6.999135</td>\n",
       "      <td>6.576763</td>\n",
       "      <td>4.02</td>\n",
       "      <td>25616.11549</td>\n",
       "      <td>1.482618e+06</td>\n",
       "      <td>PSC 9258, Box 8489\\nAPO AA 42991-3352</td>\n",
       "    </tr>\n",
       "    <tr>\n",
       "      <th>4997</th>\n",
       "      <td>63390.68689</td>\n",
       "      <td>7.250591</td>\n",
       "      <td>4.805081</td>\n",
       "      <td>2.13</td>\n",
       "      <td>33266.14549</td>\n",
       "      <td>1.030730e+06</td>\n",
       "      <td>4215 Tracy Garden Suite 076\\nJoshualand, VA 01...</td>\n",
       "    </tr>\n",
       "    <tr>\n",
       "      <th>4998</th>\n",
       "      <td>68001.33124</td>\n",
       "      <td>5.534388</td>\n",
       "      <td>7.130144</td>\n",
       "      <td>5.44</td>\n",
       "      <td>42625.62016</td>\n",
       "      <td>1.198657e+06</td>\n",
       "      <td>USS Wallace\\nFPO AE 73316</td>\n",
       "    </tr>\n",
       "    <tr>\n",
       "      <th>4999</th>\n",
       "      <td>65510.58180</td>\n",
       "      <td>5.992305</td>\n",
       "      <td>6.792336</td>\n",
       "      <td>4.07</td>\n",
       "      <td>46501.28380</td>\n",
       "      <td>1.298950e+06</td>\n",
       "      <td>0</td>\n",
       "    </tr>\n",
       "  </tbody>\n",
       "</table>\n",
       "<p>5000 rows × 7 columns</p>\n",
       "</div>"
      ],
      "text/plain": [
       "      Avg. Area Income  Avg. Area House Age  Avg. Area Number of Rooms  \\\n",
       "0              0.00000             5.682861                   7.009188   \n",
       "1          79248.64245             6.002900                   6.730821   \n",
       "2          61287.06718             0.000000                   8.512727   \n",
       "3          63345.24005             7.188236                   5.586729   \n",
       "4          59982.19723             5.040555                   7.839388   \n",
       "...                ...                  ...                        ...   \n",
       "4995       60567.94414             7.830362                   6.137356   \n",
       "4996       78491.27543             6.999135                   6.576763   \n",
       "4997       63390.68689             7.250591                   4.805081   \n",
       "4998       68001.33124             5.534388                   7.130144   \n",
       "4999       65510.58180             5.992305                   6.792336   \n",
       "\n",
       "      Avg. Area Number of Bedrooms  Area Population         Price  \\\n",
       "0                             4.09      23086.80050  1.059034e+06   \n",
       "1                             3.09      40173.07217  1.505891e+06   \n",
       "2                             5.13      36882.15940  0.000000e+00   \n",
       "3                             3.26      34310.24283  1.260617e+06   \n",
       "4                             4.23      26354.10947  6.309435e+05   \n",
       "...                            ...              ...           ...   \n",
       "4995                          3.46      22837.36103  1.060194e+06   \n",
       "4996                          4.02      25616.11549  1.482618e+06   \n",
       "4997                          2.13      33266.14549  1.030730e+06   \n",
       "4998                          5.44      42625.62016  1.198657e+06   \n",
       "4999                          4.07      46501.28380  1.298950e+06   \n",
       "\n",
       "                                                Address  \n",
       "0                                                     0  \n",
       "1     188 Johnson Views Suite 079\\nLake Kathleen, CA...  \n",
       "2     9127 Elizabeth Stravenue\\nDanieltown, WI 06482...  \n",
       "3                                                     0  \n",
       "4                            USNS Raymond\\nFPO AE 09386  \n",
       "...                                                 ...  \n",
       "4995                   USNS Williams\\nFPO AP 30153-7653  \n",
       "4996              PSC 9258, Box 8489\\nAPO AA 42991-3352  \n",
       "4997  4215 Tracy Garden Suite 076\\nJoshualand, VA 01...  \n",
       "4998                          USS Wallace\\nFPO AE 73316  \n",
       "4999                                                  0  \n",
       "\n",
       "[5000 rows x 7 columns]"
      ]
     },
     "execution_count": 23,
     "metadata": {},
     "output_type": "execute_result"
    }
   ],
   "source": [
    "nanfl = data.fillna(0)\n",
    "nanfl"
   ]
  },
  {
   "cell_type": "code",
   "execution_count": 24,
   "id": "ee4885fc",
   "metadata": {},
   "outputs": [
    {
     "data": {
      "text/plain": [
       "Avg. Area Income                0\n",
       "Avg. Area House Age             0\n",
       "Avg. Area Number of Rooms       0\n",
       "Avg. Area Number of Bedrooms    0\n",
       "Area Population                 0\n",
       "Price                           0\n",
       "Address                         0\n",
       "dtype: int64"
      ]
     },
     "execution_count": 24,
     "metadata": {},
     "output_type": "execute_result"
    }
   ],
   "source": [
    "nanfl.isnull().sum()"
   ]
  },
  {
   "cell_type": "code",
   "execution_count": 25,
   "id": "9991554f",
   "metadata": {},
   "outputs": [
    {
     "data": {
      "text/plain": [
       "0"
      ]
     },
     "execution_count": 25,
     "metadata": {},
     "output_type": "execute_result"
    }
   ],
   "source": [
    "nanfl.isnull().sum().sum()"
   ]
  },
  {
   "cell_type": "markdown",
   "id": "e1850840",
   "metadata": {},
   "source": [
    "#### With Mean"
   ]
  },
  {
   "cell_type": "code",
   "execution_count": 26,
   "id": "f65f76b8",
   "metadata": {
    "scrolled": false
   },
   "outputs": [
    {
     "name": "stderr",
     "output_type": "stream",
     "text": [
      "C:\\Users\\BAPS\\AppData\\Local\\Temp\\ipykernel_21088\\2000251889.py:1: FutureWarning: Dropping of nuisance columns in DataFrame reductions (with 'numeric_only=None') is deprecated; in a future version this will raise TypeError.  Select only valid columns before calling the reduction.\n",
      "  nanfl = data.fillna(data.mean())\n"
     ]
    },
    {
     "data": {
      "text/html": [
       "<div>\n",
       "<style scoped>\n",
       "    .dataframe tbody tr th:only-of-type {\n",
       "        vertical-align: middle;\n",
       "    }\n",
       "\n",
       "    .dataframe tbody tr th {\n",
       "        vertical-align: top;\n",
       "    }\n",
       "\n",
       "    .dataframe thead th {\n",
       "        text-align: right;\n",
       "    }\n",
       "</style>\n",
       "<table border=\"1\" class=\"dataframe\">\n",
       "  <thead>\n",
       "    <tr style=\"text-align: right;\">\n",
       "      <th></th>\n",
       "      <th>Avg. Area Income</th>\n",
       "      <th>Avg. Area House Age</th>\n",
       "      <th>Avg. Area Number of Rooms</th>\n",
       "      <th>Avg. Area Number of Bedrooms</th>\n",
       "      <th>Area Population</th>\n",
       "      <th>Price</th>\n",
       "      <th>Address</th>\n",
       "    </tr>\n",
       "  </thead>\n",
       "  <tbody>\n",
       "    <tr>\n",
       "      <th>0</th>\n",
       "      <td>68564.655345</td>\n",
       "      <td>5.682861</td>\n",
       "      <td>7.009188</td>\n",
       "      <td>4.09</td>\n",
       "      <td>23086.80050</td>\n",
       "      <td>1.059034e+06</td>\n",
       "      <td>NaN</td>\n",
       "    </tr>\n",
       "    <tr>\n",
       "      <th>1</th>\n",
       "      <td>79248.642450</td>\n",
       "      <td>6.002900</td>\n",
       "      <td>6.730821</td>\n",
       "      <td>3.09</td>\n",
       "      <td>40173.07217</td>\n",
       "      <td>1.505891e+06</td>\n",
       "      <td>188 Johnson Views Suite 079\\nLake Kathleen, CA...</td>\n",
       "    </tr>\n",
       "    <tr>\n",
       "      <th>2</th>\n",
       "      <td>61287.067180</td>\n",
       "      <td>5.976635</td>\n",
       "      <td>8.512727</td>\n",
       "      <td>5.13</td>\n",
       "      <td>36882.15940</td>\n",
       "      <td>1.232359e+06</td>\n",
       "      <td>9127 Elizabeth Stravenue\\nDanieltown, WI 06482...</td>\n",
       "    </tr>\n",
       "    <tr>\n",
       "      <th>3</th>\n",
       "      <td>63345.240050</td>\n",
       "      <td>7.188236</td>\n",
       "      <td>5.586729</td>\n",
       "      <td>3.26</td>\n",
       "      <td>34310.24283</td>\n",
       "      <td>1.260617e+06</td>\n",
       "      <td>NaN</td>\n",
       "    </tr>\n",
       "    <tr>\n",
       "      <th>4</th>\n",
       "      <td>59982.197230</td>\n",
       "      <td>5.040555</td>\n",
       "      <td>7.839388</td>\n",
       "      <td>4.23</td>\n",
       "      <td>26354.10947</td>\n",
       "      <td>6.309435e+05</td>\n",
       "      <td>USNS Raymond\\nFPO AE 09386</td>\n",
       "    </tr>\n",
       "    <tr>\n",
       "      <th>...</th>\n",
       "      <td>...</td>\n",
       "      <td>...</td>\n",
       "      <td>...</td>\n",
       "      <td>...</td>\n",
       "      <td>...</td>\n",
       "      <td>...</td>\n",
       "      <td>...</td>\n",
       "    </tr>\n",
       "    <tr>\n",
       "      <th>4995</th>\n",
       "      <td>60567.944140</td>\n",
       "      <td>7.830362</td>\n",
       "      <td>6.137356</td>\n",
       "      <td>3.46</td>\n",
       "      <td>22837.36103</td>\n",
       "      <td>1.060194e+06</td>\n",
       "      <td>USNS Williams\\nFPO AP 30153-7653</td>\n",
       "    </tr>\n",
       "    <tr>\n",
       "      <th>4996</th>\n",
       "      <td>78491.275430</td>\n",
       "      <td>6.999135</td>\n",
       "      <td>6.576763</td>\n",
       "      <td>4.02</td>\n",
       "      <td>25616.11549</td>\n",
       "      <td>1.482618e+06</td>\n",
       "      <td>PSC 9258, Box 8489\\nAPO AA 42991-3352</td>\n",
       "    </tr>\n",
       "    <tr>\n",
       "      <th>4997</th>\n",
       "      <td>63390.686890</td>\n",
       "      <td>7.250591</td>\n",
       "      <td>4.805081</td>\n",
       "      <td>2.13</td>\n",
       "      <td>33266.14549</td>\n",
       "      <td>1.030730e+06</td>\n",
       "      <td>4215 Tracy Garden Suite 076\\nJoshualand, VA 01...</td>\n",
       "    </tr>\n",
       "    <tr>\n",
       "      <th>4998</th>\n",
       "      <td>68001.331240</td>\n",
       "      <td>5.534388</td>\n",
       "      <td>7.130144</td>\n",
       "      <td>5.44</td>\n",
       "      <td>42625.62016</td>\n",
       "      <td>1.198657e+06</td>\n",
       "      <td>USS Wallace\\nFPO AE 73316</td>\n",
       "    </tr>\n",
       "    <tr>\n",
       "      <th>4999</th>\n",
       "      <td>65510.581800</td>\n",
       "      <td>5.992305</td>\n",
       "      <td>6.792336</td>\n",
       "      <td>4.07</td>\n",
       "      <td>46501.28380</td>\n",
       "      <td>1.298950e+06</td>\n",
       "      <td>NaN</td>\n",
       "    </tr>\n",
       "  </tbody>\n",
       "</table>\n",
       "<p>5000 rows × 7 columns</p>\n",
       "</div>"
      ],
      "text/plain": [
       "      Avg. Area Income  Avg. Area House Age  Avg. Area Number of Rooms  \\\n",
       "0         68564.655345             5.682861                   7.009188   \n",
       "1         79248.642450             6.002900                   6.730821   \n",
       "2         61287.067180             5.976635                   8.512727   \n",
       "3         63345.240050             7.188236                   5.586729   \n",
       "4         59982.197230             5.040555                   7.839388   \n",
       "...                ...                  ...                        ...   \n",
       "4995      60567.944140             7.830362                   6.137356   \n",
       "4996      78491.275430             6.999135                   6.576763   \n",
       "4997      63390.686890             7.250591                   4.805081   \n",
       "4998      68001.331240             5.534388                   7.130144   \n",
       "4999      65510.581800             5.992305                   6.792336   \n",
       "\n",
       "      Avg. Area Number of Bedrooms  Area Population         Price  \\\n",
       "0                             4.09      23086.80050  1.059034e+06   \n",
       "1                             3.09      40173.07217  1.505891e+06   \n",
       "2                             5.13      36882.15940  1.232359e+06   \n",
       "3                             3.26      34310.24283  1.260617e+06   \n",
       "4                             4.23      26354.10947  6.309435e+05   \n",
       "...                            ...              ...           ...   \n",
       "4995                          3.46      22837.36103  1.060194e+06   \n",
       "4996                          4.02      25616.11549  1.482618e+06   \n",
       "4997                          2.13      33266.14549  1.030730e+06   \n",
       "4998                          5.44      42625.62016  1.198657e+06   \n",
       "4999                          4.07      46501.28380  1.298950e+06   \n",
       "\n",
       "                                                Address  \n",
       "0                                                   NaN  \n",
       "1     188 Johnson Views Suite 079\\nLake Kathleen, CA...  \n",
       "2     9127 Elizabeth Stravenue\\nDanieltown, WI 06482...  \n",
       "3                                                   NaN  \n",
       "4                            USNS Raymond\\nFPO AE 09386  \n",
       "...                                                 ...  \n",
       "4995                   USNS Williams\\nFPO AP 30153-7653  \n",
       "4996              PSC 9258, Box 8489\\nAPO AA 42991-3352  \n",
       "4997  4215 Tracy Garden Suite 076\\nJoshualand, VA 01...  \n",
       "4998                          USS Wallace\\nFPO AE 73316  \n",
       "4999                                                NaN  \n",
       "\n",
       "[5000 rows x 7 columns]"
      ]
     },
     "execution_count": 26,
     "metadata": {},
     "output_type": "execute_result"
    }
   ],
   "source": [
    "nanfl = data.fillna(data.mean())\n",
    "nanfl"
   ]
  },
  {
   "cell_type": "code",
   "execution_count": 27,
   "id": "7d2fa52b",
   "metadata": {
    "scrolled": false
   },
   "outputs": [
    {
     "data": {
      "text/plain": [
       "Avg. Area Income                 0\n",
       "Avg. Area House Age              0\n",
       "Avg. Area Number of Rooms        0\n",
       "Avg. Area Number of Bedrooms     0\n",
       "Area Population                  0\n",
       "Price                            0\n",
       "Address                         34\n",
       "dtype: int64"
      ]
     },
     "execution_count": 27,
     "metadata": {},
     "output_type": "execute_result"
    }
   ],
   "source": [
    "nanfl.isnull().sum()"
   ]
  },
  {
   "cell_type": "code",
   "execution_count": 28,
   "id": "0c4bdbd7",
   "metadata": {},
   "outputs": [
    {
     "data": {
      "text/plain": [
       "34"
      ]
     },
     "execution_count": 28,
     "metadata": {},
     "output_type": "execute_result"
    }
   ],
   "source": [
    "nanfl.isnull().sum().sum()"
   ]
  },
  {
   "cell_type": "markdown",
   "id": "9f6630e0",
   "metadata": {},
   "source": [
    "#### With Median"
   ]
  },
  {
   "cell_type": "code",
   "execution_count": 29,
   "id": "0a0984dc",
   "metadata": {},
   "outputs": [
    {
     "name": "stderr",
     "output_type": "stream",
     "text": [
      "C:\\Users\\BAPS\\AppData\\Local\\Temp\\ipykernel_21088\\3656710830.py:1: FutureWarning: Dropping of nuisance columns in DataFrame reductions (with 'numeric_only=None') is deprecated; in a future version this will raise TypeError.  Select only valid columns before calling the reduction.\n",
      "  nanfl = data.fillna(data.median())\n"
     ]
    },
    {
     "data": {
      "text/html": [
       "<div>\n",
       "<style scoped>\n",
       "    .dataframe tbody tr th:only-of-type {\n",
       "        vertical-align: middle;\n",
       "    }\n",
       "\n",
       "    .dataframe tbody tr th {\n",
       "        vertical-align: top;\n",
       "    }\n",
       "\n",
       "    .dataframe thead th {\n",
       "        text-align: right;\n",
       "    }\n",
       "</style>\n",
       "<table border=\"1\" class=\"dataframe\">\n",
       "  <thead>\n",
       "    <tr style=\"text-align: right;\">\n",
       "      <th></th>\n",
       "      <th>Avg. Area Income</th>\n",
       "      <th>Avg. Area House Age</th>\n",
       "      <th>Avg. Area Number of Rooms</th>\n",
       "      <th>Avg. Area Number of Bedrooms</th>\n",
       "      <th>Area Population</th>\n",
       "      <th>Price</th>\n",
       "      <th>Address</th>\n",
       "    </tr>\n",
       "  </thead>\n",
       "  <tbody>\n",
       "    <tr>\n",
       "      <th>0</th>\n",
       "      <td>68787.591875</td>\n",
       "      <td>5.682861</td>\n",
       "      <td>7.009188</td>\n",
       "      <td>4.09</td>\n",
       "      <td>23086.80050</td>\n",
       "      <td>1.059034e+06</td>\n",
       "      <td>NaN</td>\n",
       "    </tr>\n",
       "    <tr>\n",
       "      <th>1</th>\n",
       "      <td>79248.642450</td>\n",
       "      <td>6.002900</td>\n",
       "      <td>6.730821</td>\n",
       "      <td>3.09</td>\n",
       "      <td>40173.07217</td>\n",
       "      <td>1.505891e+06</td>\n",
       "      <td>188 Johnson Views Suite 079\\nLake Kathleen, CA...</td>\n",
       "    </tr>\n",
       "    <tr>\n",
       "      <th>2</th>\n",
       "      <td>61287.067180</td>\n",
       "      <td>5.972696</td>\n",
       "      <td>8.512727</td>\n",
       "      <td>5.13</td>\n",
       "      <td>36882.15940</td>\n",
       "      <td>1.232923e+06</td>\n",
       "      <td>9127 Elizabeth Stravenue\\nDanieltown, WI 06482...</td>\n",
       "    </tr>\n",
       "    <tr>\n",
       "      <th>3</th>\n",
       "      <td>63345.240050</td>\n",
       "      <td>7.188236</td>\n",
       "      <td>5.586729</td>\n",
       "      <td>3.26</td>\n",
       "      <td>34310.24283</td>\n",
       "      <td>1.260617e+06</td>\n",
       "      <td>NaN</td>\n",
       "    </tr>\n",
       "    <tr>\n",
       "      <th>4</th>\n",
       "      <td>59982.197230</td>\n",
       "      <td>5.040555</td>\n",
       "      <td>7.839388</td>\n",
       "      <td>4.23</td>\n",
       "      <td>26354.10947</td>\n",
       "      <td>6.309435e+05</td>\n",
       "      <td>USNS Raymond\\nFPO AE 09386</td>\n",
       "    </tr>\n",
       "    <tr>\n",
       "      <th>...</th>\n",
       "      <td>...</td>\n",
       "      <td>...</td>\n",
       "      <td>...</td>\n",
       "      <td>...</td>\n",
       "      <td>...</td>\n",
       "      <td>...</td>\n",
       "      <td>...</td>\n",
       "    </tr>\n",
       "    <tr>\n",
       "      <th>4995</th>\n",
       "      <td>60567.944140</td>\n",
       "      <td>7.830362</td>\n",
       "      <td>6.137356</td>\n",
       "      <td>3.46</td>\n",
       "      <td>22837.36103</td>\n",
       "      <td>1.060194e+06</td>\n",
       "      <td>USNS Williams\\nFPO AP 30153-7653</td>\n",
       "    </tr>\n",
       "    <tr>\n",
       "      <th>4996</th>\n",
       "      <td>78491.275430</td>\n",
       "      <td>6.999135</td>\n",
       "      <td>6.576763</td>\n",
       "      <td>4.02</td>\n",
       "      <td>25616.11549</td>\n",
       "      <td>1.482618e+06</td>\n",
       "      <td>PSC 9258, Box 8489\\nAPO AA 42991-3352</td>\n",
       "    </tr>\n",
       "    <tr>\n",
       "      <th>4997</th>\n",
       "      <td>63390.686890</td>\n",
       "      <td>7.250591</td>\n",
       "      <td>4.805081</td>\n",
       "      <td>2.13</td>\n",
       "      <td>33266.14549</td>\n",
       "      <td>1.030730e+06</td>\n",
       "      <td>4215 Tracy Garden Suite 076\\nJoshualand, VA 01...</td>\n",
       "    </tr>\n",
       "    <tr>\n",
       "      <th>4998</th>\n",
       "      <td>68001.331240</td>\n",
       "      <td>5.534388</td>\n",
       "      <td>7.130144</td>\n",
       "      <td>5.44</td>\n",
       "      <td>42625.62016</td>\n",
       "      <td>1.198657e+06</td>\n",
       "      <td>USS Wallace\\nFPO AE 73316</td>\n",
       "    </tr>\n",
       "    <tr>\n",
       "      <th>4999</th>\n",
       "      <td>65510.581800</td>\n",
       "      <td>5.992305</td>\n",
       "      <td>6.792336</td>\n",
       "      <td>4.07</td>\n",
       "      <td>46501.28380</td>\n",
       "      <td>1.298950e+06</td>\n",
       "      <td>NaN</td>\n",
       "    </tr>\n",
       "  </tbody>\n",
       "</table>\n",
       "<p>5000 rows × 7 columns</p>\n",
       "</div>"
      ],
      "text/plain": [
       "      Avg. Area Income  Avg. Area House Age  Avg. Area Number of Rooms  \\\n",
       "0         68787.591875             5.682861                   7.009188   \n",
       "1         79248.642450             6.002900                   6.730821   \n",
       "2         61287.067180             5.972696                   8.512727   \n",
       "3         63345.240050             7.188236                   5.586729   \n",
       "4         59982.197230             5.040555                   7.839388   \n",
       "...                ...                  ...                        ...   \n",
       "4995      60567.944140             7.830362                   6.137356   \n",
       "4996      78491.275430             6.999135                   6.576763   \n",
       "4997      63390.686890             7.250591                   4.805081   \n",
       "4998      68001.331240             5.534388                   7.130144   \n",
       "4999      65510.581800             5.992305                   6.792336   \n",
       "\n",
       "      Avg. Area Number of Bedrooms  Area Population         Price  \\\n",
       "0                             4.09      23086.80050  1.059034e+06   \n",
       "1                             3.09      40173.07217  1.505891e+06   \n",
       "2                             5.13      36882.15940  1.232923e+06   \n",
       "3                             3.26      34310.24283  1.260617e+06   \n",
       "4                             4.23      26354.10947  6.309435e+05   \n",
       "...                            ...              ...           ...   \n",
       "4995                          3.46      22837.36103  1.060194e+06   \n",
       "4996                          4.02      25616.11549  1.482618e+06   \n",
       "4997                          2.13      33266.14549  1.030730e+06   \n",
       "4998                          5.44      42625.62016  1.198657e+06   \n",
       "4999                          4.07      46501.28380  1.298950e+06   \n",
       "\n",
       "                                                Address  \n",
       "0                                                   NaN  \n",
       "1     188 Johnson Views Suite 079\\nLake Kathleen, CA...  \n",
       "2     9127 Elizabeth Stravenue\\nDanieltown, WI 06482...  \n",
       "3                                                   NaN  \n",
       "4                            USNS Raymond\\nFPO AE 09386  \n",
       "...                                                 ...  \n",
       "4995                   USNS Williams\\nFPO AP 30153-7653  \n",
       "4996              PSC 9258, Box 8489\\nAPO AA 42991-3352  \n",
       "4997  4215 Tracy Garden Suite 076\\nJoshualand, VA 01...  \n",
       "4998                          USS Wallace\\nFPO AE 73316  \n",
       "4999                                                NaN  \n",
       "\n",
       "[5000 rows x 7 columns]"
      ]
     },
     "execution_count": 29,
     "metadata": {},
     "output_type": "execute_result"
    }
   ],
   "source": [
    "nanfl = data.fillna(data.median())\n",
    "nanfl"
   ]
  },
  {
   "cell_type": "code",
   "execution_count": 30,
   "id": "2053f048",
   "metadata": {
    "scrolled": true
   },
   "outputs": [
    {
     "data": {
      "text/plain": [
       "Avg. Area Income                 0\n",
       "Avg. Area House Age              0\n",
       "Avg. Area Number of Rooms        0\n",
       "Avg. Area Number of Bedrooms     0\n",
       "Area Population                  0\n",
       "Price                            0\n",
       "Address                         34\n",
       "dtype: int64"
      ]
     },
     "execution_count": 30,
     "metadata": {},
     "output_type": "execute_result"
    }
   ],
   "source": [
    "nanfl.isnull().sum()"
   ]
  },
  {
   "cell_type": "code",
   "execution_count": 31,
   "id": "9408e28a",
   "metadata": {},
   "outputs": [
    {
     "data": {
      "text/plain": [
       "34"
      ]
     },
     "execution_count": 31,
     "metadata": {},
     "output_type": "execute_result"
    }
   ],
   "source": [
    "nanfl.isnull().sum().sum()"
   ]
  },
  {
   "cell_type": "markdown",
   "id": "33b4cba7",
   "metadata": {},
   "source": [
    "#### With Forward Fill"
   ]
  },
  {
   "cell_type": "code",
   "execution_count": 32,
   "id": "62fd27de",
   "metadata": {
    "scrolled": false
   },
   "outputs": [
    {
     "data": {
      "text/html": [
       "<div>\n",
       "<style scoped>\n",
       "    .dataframe tbody tr th:only-of-type {\n",
       "        vertical-align: middle;\n",
       "    }\n",
       "\n",
       "    .dataframe tbody tr th {\n",
       "        vertical-align: top;\n",
       "    }\n",
       "\n",
       "    .dataframe thead th {\n",
       "        text-align: right;\n",
       "    }\n",
       "</style>\n",
       "<table border=\"1\" class=\"dataframe\">\n",
       "  <thead>\n",
       "    <tr style=\"text-align: right;\">\n",
       "      <th></th>\n",
       "      <th>Avg. Area Income</th>\n",
       "      <th>Avg. Area House Age</th>\n",
       "      <th>Avg. Area Number of Rooms</th>\n",
       "      <th>Avg. Area Number of Bedrooms</th>\n",
       "      <th>Area Population</th>\n",
       "      <th>Price</th>\n",
       "      <th>Address</th>\n",
       "    </tr>\n",
       "  </thead>\n",
       "  <tbody>\n",
       "    <tr>\n",
       "      <th>0</th>\n",
       "      <td>NaN</td>\n",
       "      <td>5.682861</td>\n",
       "      <td>7.009188</td>\n",
       "      <td>4.09</td>\n",
       "      <td>23086.80050</td>\n",
       "      <td>1.059034e+06</td>\n",
       "      <td>NaN</td>\n",
       "    </tr>\n",
       "    <tr>\n",
       "      <th>1</th>\n",
       "      <td>79248.64245</td>\n",
       "      <td>6.002900</td>\n",
       "      <td>6.730821</td>\n",
       "      <td>3.09</td>\n",
       "      <td>40173.07217</td>\n",
       "      <td>1.505891e+06</td>\n",
       "      <td>188 Johnson Views Suite 079\\nLake Kathleen, CA...</td>\n",
       "    </tr>\n",
       "    <tr>\n",
       "      <th>2</th>\n",
       "      <td>61287.06718</td>\n",
       "      <td>6.002900</td>\n",
       "      <td>8.512727</td>\n",
       "      <td>5.13</td>\n",
       "      <td>36882.15940</td>\n",
       "      <td>1.505891e+06</td>\n",
       "      <td>9127 Elizabeth Stravenue\\nDanieltown, WI 06482...</td>\n",
       "    </tr>\n",
       "    <tr>\n",
       "      <th>3</th>\n",
       "      <td>63345.24005</td>\n",
       "      <td>7.188236</td>\n",
       "      <td>5.586729</td>\n",
       "      <td>3.26</td>\n",
       "      <td>34310.24283</td>\n",
       "      <td>1.260617e+06</td>\n",
       "      <td>9127 Elizabeth Stravenue\\nDanieltown, WI 06482...</td>\n",
       "    </tr>\n",
       "    <tr>\n",
       "      <th>4</th>\n",
       "      <td>59982.19723</td>\n",
       "      <td>5.040555</td>\n",
       "      <td>7.839388</td>\n",
       "      <td>4.23</td>\n",
       "      <td>26354.10947</td>\n",
       "      <td>6.309435e+05</td>\n",
       "      <td>USNS Raymond\\nFPO AE 09386</td>\n",
       "    </tr>\n",
       "    <tr>\n",
       "      <th>...</th>\n",
       "      <td>...</td>\n",
       "      <td>...</td>\n",
       "      <td>...</td>\n",
       "      <td>...</td>\n",
       "      <td>...</td>\n",
       "      <td>...</td>\n",
       "      <td>...</td>\n",
       "    </tr>\n",
       "    <tr>\n",
       "      <th>4995</th>\n",
       "      <td>60567.94414</td>\n",
       "      <td>7.830362</td>\n",
       "      <td>6.137356</td>\n",
       "      <td>3.46</td>\n",
       "      <td>22837.36103</td>\n",
       "      <td>1.060194e+06</td>\n",
       "      <td>USNS Williams\\nFPO AP 30153-7653</td>\n",
       "    </tr>\n",
       "    <tr>\n",
       "      <th>4996</th>\n",
       "      <td>78491.27543</td>\n",
       "      <td>6.999135</td>\n",
       "      <td>6.576763</td>\n",
       "      <td>4.02</td>\n",
       "      <td>25616.11549</td>\n",
       "      <td>1.482618e+06</td>\n",
       "      <td>PSC 9258, Box 8489\\nAPO AA 42991-3352</td>\n",
       "    </tr>\n",
       "    <tr>\n",
       "      <th>4997</th>\n",
       "      <td>63390.68689</td>\n",
       "      <td>7.250591</td>\n",
       "      <td>4.805081</td>\n",
       "      <td>2.13</td>\n",
       "      <td>33266.14549</td>\n",
       "      <td>1.030730e+06</td>\n",
       "      <td>4215 Tracy Garden Suite 076\\nJoshualand, VA 01...</td>\n",
       "    </tr>\n",
       "    <tr>\n",
       "      <th>4998</th>\n",
       "      <td>68001.33124</td>\n",
       "      <td>5.534388</td>\n",
       "      <td>7.130144</td>\n",
       "      <td>5.44</td>\n",
       "      <td>42625.62016</td>\n",
       "      <td>1.198657e+06</td>\n",
       "      <td>USS Wallace\\nFPO AE 73316</td>\n",
       "    </tr>\n",
       "    <tr>\n",
       "      <th>4999</th>\n",
       "      <td>65510.58180</td>\n",
       "      <td>5.992305</td>\n",
       "      <td>6.792336</td>\n",
       "      <td>4.07</td>\n",
       "      <td>46501.28380</td>\n",
       "      <td>1.298950e+06</td>\n",
       "      <td>USS Wallace\\nFPO AE 73316</td>\n",
       "    </tr>\n",
       "  </tbody>\n",
       "</table>\n",
       "<p>5000 rows × 7 columns</p>\n",
       "</div>"
      ],
      "text/plain": [
       "      Avg. Area Income  Avg. Area House Age  Avg. Area Number of Rooms  \\\n",
       "0                  NaN             5.682861                   7.009188   \n",
       "1          79248.64245             6.002900                   6.730821   \n",
       "2          61287.06718             6.002900                   8.512727   \n",
       "3          63345.24005             7.188236                   5.586729   \n",
       "4          59982.19723             5.040555                   7.839388   \n",
       "...                ...                  ...                        ...   \n",
       "4995       60567.94414             7.830362                   6.137356   \n",
       "4996       78491.27543             6.999135                   6.576763   \n",
       "4997       63390.68689             7.250591                   4.805081   \n",
       "4998       68001.33124             5.534388                   7.130144   \n",
       "4999       65510.58180             5.992305                   6.792336   \n",
       "\n",
       "      Avg. Area Number of Bedrooms  Area Population         Price  \\\n",
       "0                             4.09      23086.80050  1.059034e+06   \n",
       "1                             3.09      40173.07217  1.505891e+06   \n",
       "2                             5.13      36882.15940  1.505891e+06   \n",
       "3                             3.26      34310.24283  1.260617e+06   \n",
       "4                             4.23      26354.10947  6.309435e+05   \n",
       "...                            ...              ...           ...   \n",
       "4995                          3.46      22837.36103  1.060194e+06   \n",
       "4996                          4.02      25616.11549  1.482618e+06   \n",
       "4997                          2.13      33266.14549  1.030730e+06   \n",
       "4998                          5.44      42625.62016  1.198657e+06   \n",
       "4999                          4.07      46501.28380  1.298950e+06   \n",
       "\n",
       "                                                Address  \n",
       "0                                                   NaN  \n",
       "1     188 Johnson Views Suite 079\\nLake Kathleen, CA...  \n",
       "2     9127 Elizabeth Stravenue\\nDanieltown, WI 06482...  \n",
       "3     9127 Elizabeth Stravenue\\nDanieltown, WI 06482...  \n",
       "4                            USNS Raymond\\nFPO AE 09386  \n",
       "...                                                 ...  \n",
       "4995                   USNS Williams\\nFPO AP 30153-7653  \n",
       "4996              PSC 9258, Box 8489\\nAPO AA 42991-3352  \n",
       "4997  4215 Tracy Garden Suite 076\\nJoshualand, VA 01...  \n",
       "4998                          USS Wallace\\nFPO AE 73316  \n",
       "4999                          USS Wallace\\nFPO AE 73316  \n",
       "\n",
       "[5000 rows x 7 columns]"
      ]
     },
     "execution_count": 32,
     "metadata": {},
     "output_type": "execute_result"
    }
   ],
   "source": [
    "nanfl = data.fillna(method = \"ffill\")\n",
    "nanfl"
   ]
  },
  {
   "cell_type": "code",
   "execution_count": 33,
   "id": "f265b862",
   "metadata": {
    "scrolled": true
   },
   "outputs": [
    {
     "data": {
      "text/plain": [
       "Avg. Area Income                1\n",
       "Avg. Area House Age             0\n",
       "Avg. Area Number of Rooms       0\n",
       "Avg. Area Number of Bedrooms    0\n",
       "Area Population                 0\n",
       "Price                           0\n",
       "Address                         1\n",
       "dtype: int64"
      ]
     },
     "execution_count": 33,
     "metadata": {},
     "output_type": "execute_result"
    }
   ],
   "source": [
    "nanfl.isnull().sum()"
   ]
  },
  {
   "cell_type": "code",
   "execution_count": 34,
   "id": "8866689e",
   "metadata": {},
   "outputs": [
    {
     "data": {
      "text/plain": [
       "2"
      ]
     },
     "execution_count": 34,
     "metadata": {},
     "output_type": "execute_result"
    }
   ],
   "source": [
    "nanfl.isnull().sum().sum()"
   ]
  },
  {
   "cell_type": "markdown",
   "id": "ed6adbb4",
   "metadata": {},
   "source": [
    "#### With Backward Fill"
   ]
  },
  {
   "cell_type": "code",
   "execution_count": 35,
   "id": "50ea67dc",
   "metadata": {
    "scrolled": true
   },
   "outputs": [
    {
     "data": {
      "text/html": [
       "<div>\n",
       "<style scoped>\n",
       "    .dataframe tbody tr th:only-of-type {\n",
       "        vertical-align: middle;\n",
       "    }\n",
       "\n",
       "    .dataframe tbody tr th {\n",
       "        vertical-align: top;\n",
       "    }\n",
       "\n",
       "    .dataframe thead th {\n",
       "        text-align: right;\n",
       "    }\n",
       "</style>\n",
       "<table border=\"1\" class=\"dataframe\">\n",
       "  <thead>\n",
       "    <tr style=\"text-align: right;\">\n",
       "      <th></th>\n",
       "      <th>Avg. Area Income</th>\n",
       "      <th>Avg. Area House Age</th>\n",
       "      <th>Avg. Area Number of Rooms</th>\n",
       "      <th>Avg. Area Number of Bedrooms</th>\n",
       "      <th>Area Population</th>\n",
       "      <th>Price</th>\n",
       "      <th>Address</th>\n",
       "    </tr>\n",
       "  </thead>\n",
       "  <tbody>\n",
       "    <tr>\n",
       "      <th>0</th>\n",
       "      <td>79248.64245</td>\n",
       "      <td>5.682861</td>\n",
       "      <td>7.009188</td>\n",
       "      <td>4.09</td>\n",
       "      <td>23086.80050</td>\n",
       "      <td>1.059034e+06</td>\n",
       "      <td>188 Johnson Views Suite 079\\nLake Kathleen, CA...</td>\n",
       "    </tr>\n",
       "    <tr>\n",
       "      <th>1</th>\n",
       "      <td>79248.64245</td>\n",
       "      <td>6.002900</td>\n",
       "      <td>6.730821</td>\n",
       "      <td>3.09</td>\n",
       "      <td>40173.07217</td>\n",
       "      <td>1.505891e+06</td>\n",
       "      <td>188 Johnson Views Suite 079\\nLake Kathleen, CA...</td>\n",
       "    </tr>\n",
       "    <tr>\n",
       "      <th>2</th>\n",
       "      <td>61287.06718</td>\n",
       "      <td>7.188236</td>\n",
       "      <td>8.512727</td>\n",
       "      <td>5.13</td>\n",
       "      <td>36882.15940</td>\n",
       "      <td>1.260617e+06</td>\n",
       "      <td>9127 Elizabeth Stravenue\\nDanieltown, WI 06482...</td>\n",
       "    </tr>\n",
       "    <tr>\n",
       "      <th>3</th>\n",
       "      <td>63345.24005</td>\n",
       "      <td>7.188236</td>\n",
       "      <td>5.586729</td>\n",
       "      <td>3.26</td>\n",
       "      <td>34310.24283</td>\n",
       "      <td>1.260617e+06</td>\n",
       "      <td>USNS Raymond\\nFPO AE 09386</td>\n",
       "    </tr>\n",
       "    <tr>\n",
       "      <th>4</th>\n",
       "      <td>59982.19723</td>\n",
       "      <td>5.040555</td>\n",
       "      <td>7.839388</td>\n",
       "      <td>4.23</td>\n",
       "      <td>26354.10947</td>\n",
       "      <td>6.309435e+05</td>\n",
       "      <td>USNS Raymond\\nFPO AE 09386</td>\n",
       "    </tr>\n",
       "    <tr>\n",
       "      <th>...</th>\n",
       "      <td>...</td>\n",
       "      <td>...</td>\n",
       "      <td>...</td>\n",
       "      <td>...</td>\n",
       "      <td>...</td>\n",
       "      <td>...</td>\n",
       "      <td>...</td>\n",
       "    </tr>\n",
       "    <tr>\n",
       "      <th>4995</th>\n",
       "      <td>60567.94414</td>\n",
       "      <td>7.830362</td>\n",
       "      <td>6.137356</td>\n",
       "      <td>3.46</td>\n",
       "      <td>22837.36103</td>\n",
       "      <td>1.060194e+06</td>\n",
       "      <td>USNS Williams\\nFPO AP 30153-7653</td>\n",
       "    </tr>\n",
       "    <tr>\n",
       "      <th>4996</th>\n",
       "      <td>78491.27543</td>\n",
       "      <td>6.999135</td>\n",
       "      <td>6.576763</td>\n",
       "      <td>4.02</td>\n",
       "      <td>25616.11549</td>\n",
       "      <td>1.482618e+06</td>\n",
       "      <td>PSC 9258, Box 8489\\nAPO AA 42991-3352</td>\n",
       "    </tr>\n",
       "    <tr>\n",
       "      <th>4997</th>\n",
       "      <td>63390.68689</td>\n",
       "      <td>7.250591</td>\n",
       "      <td>4.805081</td>\n",
       "      <td>2.13</td>\n",
       "      <td>33266.14549</td>\n",
       "      <td>1.030730e+06</td>\n",
       "      <td>4215 Tracy Garden Suite 076\\nJoshualand, VA 01...</td>\n",
       "    </tr>\n",
       "    <tr>\n",
       "      <th>4998</th>\n",
       "      <td>68001.33124</td>\n",
       "      <td>5.534388</td>\n",
       "      <td>7.130144</td>\n",
       "      <td>5.44</td>\n",
       "      <td>42625.62016</td>\n",
       "      <td>1.198657e+06</td>\n",
       "      <td>USS Wallace\\nFPO AE 73316</td>\n",
       "    </tr>\n",
       "    <tr>\n",
       "      <th>4999</th>\n",
       "      <td>65510.58180</td>\n",
       "      <td>5.992305</td>\n",
       "      <td>6.792336</td>\n",
       "      <td>4.07</td>\n",
       "      <td>46501.28380</td>\n",
       "      <td>1.298950e+06</td>\n",
       "      <td>NaN</td>\n",
       "    </tr>\n",
       "  </tbody>\n",
       "</table>\n",
       "<p>5000 rows × 7 columns</p>\n",
       "</div>"
      ],
      "text/plain": [
       "      Avg. Area Income  Avg. Area House Age  Avg. Area Number of Rooms  \\\n",
       "0          79248.64245             5.682861                   7.009188   \n",
       "1          79248.64245             6.002900                   6.730821   \n",
       "2          61287.06718             7.188236                   8.512727   \n",
       "3          63345.24005             7.188236                   5.586729   \n",
       "4          59982.19723             5.040555                   7.839388   \n",
       "...                ...                  ...                        ...   \n",
       "4995       60567.94414             7.830362                   6.137356   \n",
       "4996       78491.27543             6.999135                   6.576763   \n",
       "4997       63390.68689             7.250591                   4.805081   \n",
       "4998       68001.33124             5.534388                   7.130144   \n",
       "4999       65510.58180             5.992305                   6.792336   \n",
       "\n",
       "      Avg. Area Number of Bedrooms  Area Population         Price  \\\n",
       "0                             4.09      23086.80050  1.059034e+06   \n",
       "1                             3.09      40173.07217  1.505891e+06   \n",
       "2                             5.13      36882.15940  1.260617e+06   \n",
       "3                             3.26      34310.24283  1.260617e+06   \n",
       "4                             4.23      26354.10947  6.309435e+05   \n",
       "...                            ...              ...           ...   \n",
       "4995                          3.46      22837.36103  1.060194e+06   \n",
       "4996                          4.02      25616.11549  1.482618e+06   \n",
       "4997                          2.13      33266.14549  1.030730e+06   \n",
       "4998                          5.44      42625.62016  1.198657e+06   \n",
       "4999                          4.07      46501.28380  1.298950e+06   \n",
       "\n",
       "                                                Address  \n",
       "0     188 Johnson Views Suite 079\\nLake Kathleen, CA...  \n",
       "1     188 Johnson Views Suite 079\\nLake Kathleen, CA...  \n",
       "2     9127 Elizabeth Stravenue\\nDanieltown, WI 06482...  \n",
       "3                            USNS Raymond\\nFPO AE 09386  \n",
       "4                            USNS Raymond\\nFPO AE 09386  \n",
       "...                                                 ...  \n",
       "4995                   USNS Williams\\nFPO AP 30153-7653  \n",
       "4996              PSC 9258, Box 8489\\nAPO AA 42991-3352  \n",
       "4997  4215 Tracy Garden Suite 076\\nJoshualand, VA 01...  \n",
       "4998                          USS Wallace\\nFPO AE 73316  \n",
       "4999                                                NaN  \n",
       "\n",
       "[5000 rows x 7 columns]"
      ]
     },
     "execution_count": 35,
     "metadata": {},
     "output_type": "execute_result"
    }
   ],
   "source": [
    "nanfl = data.fillna(method = \"bfill\")\n",
    "nanfl"
   ]
  },
  {
   "cell_type": "code",
   "execution_count": 36,
   "id": "236e2b44",
   "metadata": {
    "scrolled": true
   },
   "outputs": [
    {
     "data": {
      "text/plain": [
       "Avg. Area Income                0\n",
       "Avg. Area House Age             0\n",
       "Avg. Area Number of Rooms       0\n",
       "Avg. Area Number of Bedrooms    0\n",
       "Area Population                 0\n",
       "Price                           0\n",
       "Address                         1\n",
       "dtype: int64"
      ]
     },
     "execution_count": 36,
     "metadata": {},
     "output_type": "execute_result"
    }
   ],
   "source": [
    "nanfl.isnull().sum()"
   ]
  },
  {
   "cell_type": "code",
   "execution_count": 37,
   "id": "5788cd00",
   "metadata": {},
   "outputs": [
    {
     "data": {
      "text/plain": [
       "1"
      ]
     },
     "execution_count": 37,
     "metadata": {},
     "output_type": "execute_result"
    }
   ],
   "source": [
    "nanfl.isnull().sum().sum()"
   ]
  },
  {
   "cell_type": "markdown",
   "id": "d72e533b",
   "metadata": {},
   "source": [
    "#### With Interpolation"
   ]
  },
  {
   "cell_type": "code",
   "execution_count": 38,
   "id": "308a4bf0",
   "metadata": {},
   "outputs": [
    {
     "data": {
      "text/html": [
       "<div>\n",
       "<style scoped>\n",
       "    .dataframe tbody tr th:only-of-type {\n",
       "        vertical-align: middle;\n",
       "    }\n",
       "\n",
       "    .dataframe tbody tr th {\n",
       "        vertical-align: top;\n",
       "    }\n",
       "\n",
       "    .dataframe thead th {\n",
       "        text-align: right;\n",
       "    }\n",
       "</style>\n",
       "<table border=\"1\" class=\"dataframe\">\n",
       "  <thead>\n",
       "    <tr style=\"text-align: right;\">\n",
       "      <th></th>\n",
       "      <th>Avg. Area Income</th>\n",
       "      <th>Avg. Area House Age</th>\n",
       "      <th>Avg. Area Number of Rooms</th>\n",
       "      <th>Avg. Area Number of Bedrooms</th>\n",
       "      <th>Area Population</th>\n",
       "      <th>Price</th>\n",
       "      <th>Address</th>\n",
       "    </tr>\n",
       "  </thead>\n",
       "  <tbody>\n",
       "    <tr>\n",
       "      <th>0</th>\n",
       "      <td>NaN</td>\n",
       "      <td>5.682861</td>\n",
       "      <td>7.009188</td>\n",
       "      <td>4.09</td>\n",
       "      <td>23086.80050</td>\n",
       "      <td>1.059034e+06</td>\n",
       "      <td>NaN</td>\n",
       "    </tr>\n",
       "    <tr>\n",
       "      <th>1</th>\n",
       "      <td>79248.64245</td>\n",
       "      <td>6.002900</td>\n",
       "      <td>6.730821</td>\n",
       "      <td>3.09</td>\n",
       "      <td>40173.07217</td>\n",
       "      <td>1.505891e+06</td>\n",
       "      <td>188 Johnson Views Suite 079\\nLake Kathleen, CA...</td>\n",
       "    </tr>\n",
       "    <tr>\n",
       "      <th>2</th>\n",
       "      <td>61287.06718</td>\n",
       "      <td>6.595568</td>\n",
       "      <td>8.512727</td>\n",
       "      <td>5.13</td>\n",
       "      <td>36882.15940</td>\n",
       "      <td>1.383254e+06</td>\n",
       "      <td>9127 Elizabeth Stravenue\\nDanieltown, WI 06482...</td>\n",
       "    </tr>\n",
       "    <tr>\n",
       "      <th>3</th>\n",
       "      <td>63345.24005</td>\n",
       "      <td>7.188236</td>\n",
       "      <td>5.586729</td>\n",
       "      <td>3.26</td>\n",
       "      <td>34310.24283</td>\n",
       "      <td>1.260617e+06</td>\n",
       "      <td>NaN</td>\n",
       "    </tr>\n",
       "    <tr>\n",
       "      <th>4</th>\n",
       "      <td>59982.19723</td>\n",
       "      <td>5.040555</td>\n",
       "      <td>7.839388</td>\n",
       "      <td>4.23</td>\n",
       "      <td>26354.10947</td>\n",
       "      <td>6.309435e+05</td>\n",
       "      <td>USNS Raymond\\nFPO AE 09386</td>\n",
       "    </tr>\n",
       "    <tr>\n",
       "      <th>...</th>\n",
       "      <td>...</td>\n",
       "      <td>...</td>\n",
       "      <td>...</td>\n",
       "      <td>...</td>\n",
       "      <td>...</td>\n",
       "      <td>...</td>\n",
       "      <td>...</td>\n",
       "    </tr>\n",
       "    <tr>\n",
       "      <th>4995</th>\n",
       "      <td>60567.94414</td>\n",
       "      <td>7.830362</td>\n",
       "      <td>6.137356</td>\n",
       "      <td>3.46</td>\n",
       "      <td>22837.36103</td>\n",
       "      <td>1.060194e+06</td>\n",
       "      <td>USNS Williams\\nFPO AP 30153-7653</td>\n",
       "    </tr>\n",
       "    <tr>\n",
       "      <th>4996</th>\n",
       "      <td>78491.27543</td>\n",
       "      <td>6.999135</td>\n",
       "      <td>6.576763</td>\n",
       "      <td>4.02</td>\n",
       "      <td>25616.11549</td>\n",
       "      <td>1.482618e+06</td>\n",
       "      <td>PSC 9258, Box 8489\\nAPO AA 42991-3352</td>\n",
       "    </tr>\n",
       "    <tr>\n",
       "      <th>4997</th>\n",
       "      <td>63390.68689</td>\n",
       "      <td>7.250591</td>\n",
       "      <td>4.805081</td>\n",
       "      <td>2.13</td>\n",
       "      <td>33266.14549</td>\n",
       "      <td>1.030730e+06</td>\n",
       "      <td>4215 Tracy Garden Suite 076\\nJoshualand, VA 01...</td>\n",
       "    </tr>\n",
       "    <tr>\n",
       "      <th>4998</th>\n",
       "      <td>68001.33124</td>\n",
       "      <td>5.534388</td>\n",
       "      <td>7.130144</td>\n",
       "      <td>5.44</td>\n",
       "      <td>42625.62016</td>\n",
       "      <td>1.198657e+06</td>\n",
       "      <td>USS Wallace\\nFPO AE 73316</td>\n",
       "    </tr>\n",
       "    <tr>\n",
       "      <th>4999</th>\n",
       "      <td>65510.58180</td>\n",
       "      <td>5.992305</td>\n",
       "      <td>6.792336</td>\n",
       "      <td>4.07</td>\n",
       "      <td>46501.28380</td>\n",
       "      <td>1.298950e+06</td>\n",
       "      <td>NaN</td>\n",
       "    </tr>\n",
       "  </tbody>\n",
       "</table>\n",
       "<p>5000 rows × 7 columns</p>\n",
       "</div>"
      ],
      "text/plain": [
       "      Avg. Area Income  Avg. Area House Age  Avg. Area Number of Rooms  \\\n",
       "0                  NaN             5.682861                   7.009188   \n",
       "1          79248.64245             6.002900                   6.730821   \n",
       "2          61287.06718             6.595568                   8.512727   \n",
       "3          63345.24005             7.188236                   5.586729   \n",
       "4          59982.19723             5.040555                   7.839388   \n",
       "...                ...                  ...                        ...   \n",
       "4995       60567.94414             7.830362                   6.137356   \n",
       "4996       78491.27543             6.999135                   6.576763   \n",
       "4997       63390.68689             7.250591                   4.805081   \n",
       "4998       68001.33124             5.534388                   7.130144   \n",
       "4999       65510.58180             5.992305                   6.792336   \n",
       "\n",
       "      Avg. Area Number of Bedrooms  Area Population         Price  \\\n",
       "0                             4.09      23086.80050  1.059034e+06   \n",
       "1                             3.09      40173.07217  1.505891e+06   \n",
       "2                             5.13      36882.15940  1.383254e+06   \n",
       "3                             3.26      34310.24283  1.260617e+06   \n",
       "4                             4.23      26354.10947  6.309435e+05   \n",
       "...                            ...              ...           ...   \n",
       "4995                          3.46      22837.36103  1.060194e+06   \n",
       "4996                          4.02      25616.11549  1.482618e+06   \n",
       "4997                          2.13      33266.14549  1.030730e+06   \n",
       "4998                          5.44      42625.62016  1.198657e+06   \n",
       "4999                          4.07      46501.28380  1.298950e+06   \n",
       "\n",
       "                                                Address  \n",
       "0                                                   NaN  \n",
       "1     188 Johnson Views Suite 079\\nLake Kathleen, CA...  \n",
       "2     9127 Elizabeth Stravenue\\nDanieltown, WI 06482...  \n",
       "3                                                   NaN  \n",
       "4                            USNS Raymond\\nFPO AE 09386  \n",
       "...                                                 ...  \n",
       "4995                   USNS Williams\\nFPO AP 30153-7653  \n",
       "4996              PSC 9258, Box 8489\\nAPO AA 42991-3352  \n",
       "4997  4215 Tracy Garden Suite 076\\nJoshualand, VA 01...  \n",
       "4998                          USS Wallace\\nFPO AE 73316  \n",
       "4999                                                NaN  \n",
       "\n",
       "[5000 rows x 7 columns]"
      ]
     },
     "execution_count": 38,
     "metadata": {},
     "output_type": "execute_result"
    }
   ],
   "source": [
    "naninter = data.interpolate()\n",
    "naninter"
   ]
  },
  {
   "cell_type": "code",
   "execution_count": 39,
   "id": "632c5fff",
   "metadata": {},
   "outputs": [
    {
     "data": {
      "text/plain": [
       "Avg. Area Income                 1\n",
       "Avg. Area House Age              0\n",
       "Avg. Area Number of Rooms        0\n",
       "Avg. Area Number of Bedrooms     0\n",
       "Area Population                  0\n",
       "Price                            0\n",
       "Address                         34\n",
       "dtype: int64"
      ]
     },
     "execution_count": 39,
     "metadata": {},
     "output_type": "execute_result"
    }
   ],
   "source": [
    "naninter.isnull().sum()"
   ]
  },
  {
   "cell_type": "code",
   "execution_count": 40,
   "id": "0bb5fe01",
   "metadata": {},
   "outputs": [
    {
     "data": {
      "text/plain": [
       "35"
      ]
     },
     "execution_count": 40,
     "metadata": {},
     "output_type": "execute_result"
    }
   ],
   "source": [
    "naninter.isnull().sum().sum()"
   ]
  },
  {
   "cell_type": "code",
   "execution_count": 41,
   "id": "20a21ee3",
   "metadata": {},
   "outputs": [
    {
     "data": {
      "text/plain": [
       "3"
      ]
     },
     "execution_count": 41,
     "metadata": {},
     "output_type": "execute_result"
    }
   ],
   "source": [
    "data['Price'].iloc[:20].isnull().sum()"
   ]
  },
  {
   "cell_type": "markdown",
   "id": "486462ca",
   "metadata": {},
   "source": [
    "### IMPUTER"
   ]
  },
  {
   "cell_type": "markdown",
   "id": "332168b2",
   "metadata": {},
   "source": [
    "To covert the dictionary into array we need to put `data['Address']` into square brackets.\n",
    "To select a single column we need to put data['column'] "
   ]
  },
  {
   "cell_type": "markdown",
   "id": "7d13fd1d",
   "metadata": {},
   "source": [
    "#### SIMPLE IMPUTER"
   ]
  },
  {
   "cell_type": "code",
   "execution_count": null,
   "id": "64e0631f",
   "metadata": {},
   "outputs": [],
   "source": [
    "data.iloc[:5,:3]"
   ]
  },
  {
   "cell_type": "code",
   "execution_count": null,
   "id": "291bee19",
   "metadata": {},
   "outputs": [],
   "source": [
    "imp1 = SimpleImputer(strategy = \"most_frequent\", add_indicator = True)\n",
    "i1 = imp1.fit_transform([data['Address'].iloc[:20]])\n",
    "i1"
   ]
  },
  {
   "cell_type": "code",
   "execution_count": null,
   "id": "c95f5d2f",
   "metadata": {
    "scrolled": true
   },
   "outputs": [],
   "source": [
    "imp2 = SimpleImputer(strategy = \"constant\", fill_value = 0, add_indicator = True)\n",
    "i2 = imp2.fit_transform([data['Address'].iloc[:20]])\n",
    "i2"
   ]
  },
  {
   "cell_type": "code",
   "execution_count": null,
   "id": "b27e9958",
   "metadata": {},
   "outputs": [],
   "source": [
    "imp3 = SimpleImputer(strategy = \"mean\")\n",
    "i3 = imp3.fit_transform(data.iloc[:20,:4])\n",
    "i3"
   ]
  },
  {
   "cell_type": "code",
   "execution_count": null,
   "id": "435481f9",
   "metadata": {},
   "outputs": [],
   "source": [
    "imp = SimpleImputer(missing_values=np.nan, strategy='mean')\n",
    "imp.fit([[1, 2], [np.nan, 3], [7, 6]])"
   ]
  },
  {
   "cell_type": "code",
   "execution_count": null,
   "id": "45f043ce",
   "metadata": {
    "scrolled": false
   },
   "outputs": [],
   "source": [
    "X = [[np.nan, 2], [6, np.nan], [7, 6]]\n",
    "print(imp.transform(X))"
   ]
  },
  {
   "cell_type": "markdown",
   "id": "16cab6d4",
   "metadata": {},
   "source": [
    "#### KNN IMPUTER"
   ]
  },
  {
   "cell_type": "code",
   "execution_count": null,
   "id": "32bf9e17",
   "metadata": {},
   "outputs": [],
   "source": [
    "iknn1 = KNNImputer(n_neighbors = 2)\n",
    "iknn1.fit_transform(data.iloc[:20,:4])"
   ]
  },
  {
   "cell_type": "markdown",
   "id": "14acf4e0",
   "metadata": {},
   "source": [
    "#### ITERATIVE IMPUTER"
   ]
  },
  {
   "cell_type": "code",
   "execution_count": null,
   "id": "4ec15edd",
   "metadata": {
    "scrolled": true
   },
   "outputs": [],
   "source": [
    "iit1 = IterativeImputer()\n",
    "iit1.fit_transform(data.iloc[:20,:4])"
   ]
  },
  {
   "cell_type": "markdown",
   "id": "8606fb76",
   "metadata": {},
   "source": [
    "# QUE"
   ]
  },
  {
   "cell_type": "markdown",
   "id": "25b1cf14",
   "metadata": {},
   "source": [
    "Detenction and Handling of Outliers using Pandas."
   ]
  },
  {
   "cell_type": "markdown",
   "id": "e47e113f",
   "metadata": {},
   "source": [
    "## OUTLIERS"
   ]
  },
  {
   "cell_type": "code",
   "execution_count": 42,
   "id": "df863e1d",
   "metadata": {
    "scrolled": false
   },
   "outputs": [
    {
     "data": {
      "text/html": [
       "<div>\n",
       "<style scoped>\n",
       "    .dataframe tbody tr th:only-of-type {\n",
       "        vertical-align: middle;\n",
       "    }\n",
       "\n",
       "    .dataframe tbody tr th {\n",
       "        vertical-align: top;\n",
       "    }\n",
       "\n",
       "    .dataframe thead th {\n",
       "        text-align: right;\n",
       "    }\n",
       "</style>\n",
       "<table border=\"1\" class=\"dataframe\">\n",
       "  <thead>\n",
       "    <tr style=\"text-align: right;\">\n",
       "      <th></th>\n",
       "      <th>Avg. Area Income</th>\n",
       "      <th>Avg. Area House Age</th>\n",
       "      <th>Avg. Area Number of Rooms</th>\n",
       "      <th>Avg. Area Number of Bedrooms</th>\n",
       "      <th>Area Population</th>\n",
       "      <th>Price</th>\n",
       "      <th>Address</th>\n",
       "    </tr>\n",
       "  </thead>\n",
       "  <tbody>\n",
       "    <tr>\n",
       "      <th>1</th>\n",
       "      <td>79248.64245</td>\n",
       "      <td>6.002900</td>\n",
       "      <td>6.730821</td>\n",
       "      <td>3.09</td>\n",
       "      <td>40173.07217</td>\n",
       "      <td>1.505891e+06</td>\n",
       "      <td>188 Johnson Views Suite 079\\nLake Kathleen, CA...</td>\n",
       "    </tr>\n",
       "    <tr>\n",
       "      <th>4</th>\n",
       "      <td>59982.19723</td>\n",
       "      <td>5.040555</td>\n",
       "      <td>7.839388</td>\n",
       "      <td>4.23</td>\n",
       "      <td>26354.10947</td>\n",
       "      <td>6.309435e+05</td>\n",
       "      <td>USNS Raymond\\nFPO AE 09386</td>\n",
       "    </tr>\n",
       "    <tr>\n",
       "      <th>5</th>\n",
       "      <td>80175.75416</td>\n",
       "      <td>4.988408</td>\n",
       "      <td>6.104512</td>\n",
       "      <td>4.04</td>\n",
       "      <td>26748.42842</td>\n",
       "      <td>1.068138e+06</td>\n",
       "      <td>06039 Jennifer Islands Apt. 443\\nTracyport, KS...</td>\n",
       "    </tr>\n",
       "    <tr>\n",
       "      <th>8</th>\n",
       "      <td>59927.66081</td>\n",
       "      <td>5.362126</td>\n",
       "      <td>6.393121</td>\n",
       "      <td>2.30</td>\n",
       "      <td>29387.39600</td>\n",
       "      <td>7.988695e+05</td>\n",
       "      <td>USS Gilbert\\nFPO AA 20957</td>\n",
       "    </tr>\n",
       "    <tr>\n",
       "      <th>9</th>\n",
       "      <td>81885.92718</td>\n",
       "      <td>4.423672</td>\n",
       "      <td>8.167688</td>\n",
       "      <td>6.10</td>\n",
       "      <td>40149.96575</td>\n",
       "      <td>1.545155e+06</td>\n",
       "      <td>Unit 9446 Box 0958\\nDPO AE 97025</td>\n",
       "    </tr>\n",
       "    <tr>\n",
       "      <th>11</th>\n",
       "      <td>80527.47208</td>\n",
       "      <td>8.093513</td>\n",
       "      <td>5.042747</td>\n",
       "      <td>4.10</td>\n",
       "      <td>47224.35984</td>\n",
       "      <td>1.707046e+06</td>\n",
       "      <td>6368 John Motorway Suite 700\\nJanetbury, NM 26854</td>\n",
       "    </tr>\n",
       "    <tr>\n",
       "      <th>13</th>\n",
       "      <td>39033.80924</td>\n",
       "      <td>7.671755</td>\n",
       "      <td>7.250029</td>\n",
       "      <td>3.10</td>\n",
       "      <td>39220.36147</td>\n",
       "      <td>1.042814e+06</td>\n",
       "      <td>209 Natasha Stream Suite 961\\nHuffmanland, NE ...</td>\n",
       "    </tr>\n",
       "    <tr>\n",
       "      <th>15</th>\n",
       "      <td>69391.38018</td>\n",
       "      <td>5.344776</td>\n",
       "      <td>8.406418</td>\n",
       "      <td>4.37</td>\n",
       "      <td>35521.29403</td>\n",
       "      <td>1.402818e+06</td>\n",
       "      <td>PSC 5330, Box 4420\\nAPO AP 08302</td>\n",
       "    </tr>\n",
       "    <tr>\n",
       "      <th>18</th>\n",
       "      <td>61929.07702</td>\n",
       "      <td>4.788550</td>\n",
       "      <td>5.097010</td>\n",
       "      <td>4.30</td>\n",
       "      <td>24595.90150</td>\n",
       "      <td>5.284852e+05</td>\n",
       "      <td>5498 Rachel Locks\\nNew Gregoryshire, PW 54755</td>\n",
       "    </tr>\n",
       "    <tr>\n",
       "      <th>19</th>\n",
       "      <td>63508.19430</td>\n",
       "      <td>5.947165</td>\n",
       "      <td>7.187774</td>\n",
       "      <td>5.12</td>\n",
       "      <td>35719.65305</td>\n",
       "      <td>1.019426e+06</td>\n",
       "      <td>Unit 7424 Box 2786\\nDPO AE 71255</td>\n",
       "    </tr>\n",
       "    <tr>\n",
       "      <th>20</th>\n",
       "      <td>62085.27640</td>\n",
       "      <td>5.739411</td>\n",
       "      <td>7.091808</td>\n",
       "      <td>5.49</td>\n",
       "      <td>44922.10670</td>\n",
       "      <td>1.030591e+06</td>\n",
       "      <td>19696 Benjamin Cape\\nStephentown, ME 36952-4733</td>\n",
       "    </tr>\n",
       "    <tr>\n",
       "      <th>21</th>\n",
       "      <td>86294.99909</td>\n",
       "      <td>6.627457</td>\n",
       "      <td>8.011898</td>\n",
       "      <td>4.07</td>\n",
       "      <td>47560.77534</td>\n",
       "      <td>2.146925e+06</td>\n",
       "      <td>030 Larry Park Suite 665\\nThomashaven, HI 8794...</td>\n",
       "    </tr>\n",
       "    <tr>\n",
       "      <th>22</th>\n",
       "      <td>60835.08998</td>\n",
       "      <td>5.551222</td>\n",
       "      <td>6.517175</td>\n",
       "      <td>2.10</td>\n",
       "      <td>45574.74166</td>\n",
       "      <td>9.292476e+05</td>\n",
       "      <td>USNS Brown\\nFPO AP 85833</td>\n",
       "    </tr>\n",
       "    <tr>\n",
       "      <th>23</th>\n",
       "      <td>64490.65027</td>\n",
       "      <td>4.210323</td>\n",
       "      <td>5.478088</td>\n",
       "      <td>4.31</td>\n",
       "      <td>40358.96011</td>\n",
       "      <td>7.188872e+05</td>\n",
       "      <td>95198 Ortiz Key\\nPort Sara, TN 24541-2855</td>\n",
       "    </tr>\n",
       "    <tr>\n",
       "      <th>24</th>\n",
       "      <td>60697.35154</td>\n",
       "      <td>6.170484</td>\n",
       "      <td>7.150537</td>\n",
       "      <td>6.34</td>\n",
       "      <td>28140.96709</td>\n",
       "      <td>7.439998e+05</td>\n",
       "      <td>9003 Jay Plains Suite 838\\nLake Elizabeth, IN ...</td>\n",
       "    </tr>\n",
       "    <tr>\n",
       "      <th>25</th>\n",
       "      <td>59748.85549</td>\n",
       "      <td>5.339340</td>\n",
       "      <td>7.748682</td>\n",
       "      <td>4.23</td>\n",
       "      <td>27809.98654</td>\n",
       "      <td>8.957371e+05</td>\n",
       "      <td>24282 Paul Valley\\nWest Perry, MI 03169-5806</td>\n",
       "    </tr>\n",
       "    <tr>\n",
       "      <th>26</th>\n",
       "      <td>56974.47654</td>\n",
       "      <td>8.287562</td>\n",
       "      <td>7.312880</td>\n",
       "      <td>4.33</td>\n",
       "      <td>40694.86951</td>\n",
       "      <td>1.453975e+06</td>\n",
       "      <td>61938 Brady Falls\\nLewisfort, DE 61227</td>\n",
       "    </tr>\n",
       "    <tr>\n",
       "      <th>27</th>\n",
       "      <td>82173.62608</td>\n",
       "      <td>4.018525</td>\n",
       "      <td>6.992699</td>\n",
       "      <td>2.03</td>\n",
       "      <td>38853.91807</td>\n",
       "      <td>1.125693e+06</td>\n",
       "      <td>3599 Ramirez Springs\\nJacksonhaven, AZ 72798</td>\n",
       "    </tr>\n",
       "    <tr>\n",
       "      <th>28</th>\n",
       "      <td>64626.88098</td>\n",
       "      <td>5.443360</td>\n",
       "      <td>6.988754</td>\n",
       "      <td>4.00</td>\n",
       "      <td>27784.74228</td>\n",
       "      <td>9.754295e+05</td>\n",
       "      <td>073 Christopher Falls Suite 882\\nWest Cynthia,...</td>\n",
       "    </tr>\n",
       "    <tr>\n",
       "      <th>29</th>\n",
       "      <td>90499.05745</td>\n",
       "      <td>6.384359</td>\n",
       "      <td>4.242191</td>\n",
       "      <td>3.04</td>\n",
       "      <td>33970.16499</td>\n",
       "      <td>1.240764e+06</td>\n",
       "      <td>6531 Chase Prairie Apt. 245\\nSusanshire, MN 22365</td>\n",
       "    </tr>\n",
       "    <tr>\n",
       "      <th>30</th>\n",
       "      <td>59323.79210</td>\n",
       "      <td>6.977828</td>\n",
       "      <td>8.273697</td>\n",
       "      <td>4.07</td>\n",
       "      <td>37520.65773</td>\n",
       "      <td>1.577018e+06</td>\n",
       "      <td>17124 Johnson Squares\\nLake Robertfurt, AL 618...</td>\n",
       "    </tr>\n",
       "    <tr>\n",
       "      <th>31</th>\n",
       "      <td>77811.52203</td>\n",
       "      <td>5.314460</td>\n",
       "      <td>6.686686</td>\n",
       "      <td>3.24</td>\n",
       "      <td>33754.73780</td>\n",
       "      <td>1.246830e+06</td>\n",
       "      <td>1359 Mitchell Vista\\nCourtneyfort, NY 93065-7224</td>\n",
       "    </tr>\n",
       "    <tr>\n",
       "      <th>32</th>\n",
       "      <td>68652.60921</td>\n",
       "      <td>6.124342</td>\n",
       "      <td>6.290820</td>\n",
       "      <td>4.42</td>\n",
       "      <td>39355.62573</td>\n",
       "      <td>1.170721e+06</td>\n",
       "      <td>4343 Joshua Lake Suite 096\\nPierceview, NV 626...</td>\n",
       "    </tr>\n",
       "    <tr>\n",
       "      <th>33</th>\n",
       "      <td>55041.35158</td>\n",
       "      <td>7.127129</td>\n",
       "      <td>8.591923</td>\n",
       "      <td>5.36</td>\n",
       "      <td>30122.47348</td>\n",
       "      <td>1.071279e+06</td>\n",
       "      <td>0057 Jacob Coves Apt. 932\\nLake Emily, VA 3946...</td>\n",
       "    </tr>\n",
       "    <tr>\n",
       "      <th>34</th>\n",
       "      <td>50218.70846</td>\n",
       "      <td>6.118808</td>\n",
       "      <td>7.333554</td>\n",
       "      <td>6.29</td>\n",
       "      <td>16810.78331</td>\n",
       "      <td>5.343051e+05</td>\n",
       "      <td>039 Jordan Pike\\nEmilyville, ID 27442</td>\n",
       "    </tr>\n",
       "    <tr>\n",
       "      <th>35</th>\n",
       "      <td>55909.32230</td>\n",
       "      <td>5.419563</td>\n",
       "      <td>9.289854</td>\n",
       "      <td>6.00</td>\n",
       "      <td>22355.23541</td>\n",
       "      <td>9.363690e+05</td>\n",
       "      <td>66338 Novak Curve Suite 628\\nTaylorborough, OK...</td>\n",
       "    </tr>\n",
       "    <tr>\n",
       "      <th>36</th>\n",
       "      <td>74372.81021</td>\n",
       "      <td>5.500129</td>\n",
       "      <td>6.593046</td>\n",
       "      <td>2.07</td>\n",
       "      <td>39395.15118</td>\n",
       "      <td>1.199194e+06</td>\n",
       "      <td>7167 Angela Park Suite 013\\nMorrishaven, NH 66...</td>\n",
       "    </tr>\n",
       "    <tr>\n",
       "      <th>37</th>\n",
       "      <td>78667.90460</td>\n",
       "      <td>5.470652</td>\n",
       "      <td>7.780837</td>\n",
       "      <td>4.10</td>\n",
       "      <td>27637.65655</td>\n",
       "      <td>1.233220e+06</td>\n",
       "      <td>34964 Sara Fields Apt. 584\\nPort Raymondville,...</td>\n",
       "    </tr>\n",
       "    <tr>\n",
       "      <th>38</th>\n",
       "      <td>78699.51510</td>\n",
       "      <td>5.652784</td>\n",
       "      <td>6.756454</td>\n",
       "      <td>3.01</td>\n",
       "      <td>22836.60757</td>\n",
       "      <td>1.081150e+06</td>\n",
       "      <td>7585 Lynn Loop\\nEast Judy, WV 73336</td>\n",
       "    </tr>\n",
       "    <tr>\n",
       "      <th>39</th>\n",
       "      <td>53128.18545</td>\n",
       "      <td>5.180664</td>\n",
       "      <td>5.426903</td>\n",
       "      <td>2.39</td>\n",
       "      <td>32947.71196</td>\n",
       "      <td>5.247128e+05</td>\n",
       "      <td>Unit 1388 Box 9350\\nDPO AP 70848</td>\n",
       "    </tr>\n",
       "    <tr>\n",
       "      <th>40</th>\n",
       "      <td>17796.63119</td>\n",
       "      <td>4.949557</td>\n",
       "      <td>6.713905</td>\n",
       "      <td>2.50</td>\n",
       "      <td>47162.18364</td>\n",
       "      <td>3.023558e+05</td>\n",
       "      <td>9932 Eric Circles\\nLake Martha, WY 34611-6127</td>\n",
       "    </tr>\n",
       "    <tr>\n",
       "      <th>41</th>\n",
       "      <td>58566.84936</td>\n",
       "      <td>6.579691</td>\n",
       "      <td>5.034525</td>\n",
       "      <td>2.17</td>\n",
       "      <td>39705.46496</td>\n",
       "      <td>1.026817e+06</td>\n",
       "      <td>7896 Walker Spring\\nLoriport, MH 72956</td>\n",
       "    </tr>\n",
       "    <tr>\n",
       "      <th>42</th>\n",
       "      <td>75537.79451</td>\n",
       "      <td>7.845216</td>\n",
       "      <td>7.555661</td>\n",
       "      <td>6.30</td>\n",
       "      <td>32778.19534</td>\n",
       "      <td>1.762215e+06</td>\n",
       "      <td>549 Darren Plaza\\nLake Kevin, UT 27155</td>\n",
       "    </tr>\n",
       "    <tr>\n",
       "      <th>43</th>\n",
       "      <td>46147.05306</td>\n",
       "      <td>6.623333</td>\n",
       "      <td>7.606832</td>\n",
       "      <td>4.43</td>\n",
       "      <td>27161.12861</td>\n",
       "      <td>8.820572e+05</td>\n",
       "      <td>90634 Michelle Valleys\\nNorth Victoria, WV 99370</td>\n",
       "    </tr>\n",
       "    <tr>\n",
       "      <th>44</th>\n",
       "      <td>70421.47649</td>\n",
       "      <td>6.907083</td>\n",
       "      <td>7.634319</td>\n",
       "      <td>4.44</td>\n",
       "      <td>43183.92849</td>\n",
       "      <td>1.744932e+06</td>\n",
       "      <td>580 Lara Neck Apt. 541\\nDavidsonstad, ID 34638...</td>\n",
       "    </tr>\n",
       "    <tr>\n",
       "      <th>45</th>\n",
       "      <td>62614.42062</td>\n",
       "      <td>5.499310</td>\n",
       "      <td>7.440505</td>\n",
       "      <td>6.32</td>\n",
       "      <td>26888.57956</td>\n",
       "      <td>1.153871e+06</td>\n",
       "      <td>43087 Jerome Field\\nWest Deborah, SD 49213</td>\n",
       "    </tr>\n",
       "    <tr>\n",
       "      <th>46</th>\n",
       "      <td>66394.87159</td>\n",
       "      <td>7.069512</td>\n",
       "      <td>7.204640</td>\n",
       "      <td>3.18</td>\n",
       "      <td>39741.07751</td>\n",
       "      <td>1.499989e+06</td>\n",
       "      <td>71956 Jenkins Fall\\nBrooketown, PW 67485-0764</td>\n",
       "    </tr>\n",
       "    <tr>\n",
       "      <th>47</th>\n",
       "      <td>73946.85107</td>\n",
       "      <td>4.863154</td>\n",
       "      <td>7.537182</td>\n",
       "      <td>6.35</td>\n",
       "      <td>35261.12702</td>\n",
       "      <td>1.109588e+06</td>\n",
       "      <td>8034 Pierce Prairie Suite 727\\nDevonfurt, NE 3...</td>\n",
       "    </tr>\n",
       "    <tr>\n",
       "      <th>48</th>\n",
       "      <td>69144.74571</td>\n",
       "      <td>7.296224</td>\n",
       "      <td>5.928223</td>\n",
       "      <td>3.22</td>\n",
       "      <td>19030.61549</td>\n",
       "      <td>9.801773e+05</td>\n",
       "      <td>Unit 8108 Box 5159\\nDPO AP 04678</td>\n",
       "    </tr>\n",
       "    <tr>\n",
       "      <th>49</th>\n",
       "      <td>77278.69703</td>\n",
       "      <td>6.238891</td>\n",
       "      <td>6.919204</td>\n",
       "      <td>2.13</td>\n",
       "      <td>21725.95429</td>\n",
       "      <td>1.323952e+06</td>\n",
       "      <td>08639 Garcia Port\\nAnthonybury, CT 17971</td>\n",
       "    </tr>\n",
       "    <tr>\n",
       "      <th>50</th>\n",
       "      <td>86754.19663</td>\n",
       "      <td>6.604440</td>\n",
       "      <td>6.252455</td>\n",
       "      <td>4.02</td>\n",
       "      <td>43017.44076</td>\n",
       "      <td>1.662495e+06</td>\n",
       "      <td>91863 Curtis Point\\nNew Richard, AK 99996-7554</td>\n",
       "    </tr>\n",
       "    <tr>\n",
       "      <th>51</th>\n",
       "      <td>74399.84098</td>\n",
       "      <td>6.382453</td>\n",
       "      <td>7.252665</td>\n",
       "      <td>6.36</td>\n",
       "      <td>41084.66282</td>\n",
       "      <td>1.417820e+06</td>\n",
       "      <td>03819 Lee Junction Suite 046\\nMooneyborough, W...</td>\n",
       "    </tr>\n",
       "    <tr>\n",
       "      <th>52</th>\n",
       "      <td>49408.19834</td>\n",
       "      <td>5.825920</td>\n",
       "      <td>5.831739</td>\n",
       "      <td>3.32</td>\n",
       "      <td>26881.13060</td>\n",
       "      <td>5.499761e+05</td>\n",
       "      <td>7796 Joseph Burg\\nDanielsside, RI 70370</td>\n",
       "    </tr>\n",
       "    <tr>\n",
       "      <th>53</th>\n",
       "      <td>62279.79005</td>\n",
       "      <td>6.108450</td>\n",
       "      <td>6.306116</td>\n",
       "      <td>4.12</td>\n",
       "      <td>35263.65314</td>\n",
       "      <td>1.054771e+06</td>\n",
       "      <td>173 Mendoza Land\\nWest John, NJ 57690</td>\n",
       "    </tr>\n",
       "    <tr>\n",
       "      <th>54</th>\n",
       "      <td>73078.20409</td>\n",
       "      <td>5.923906</td>\n",
       "      <td>6.445457</td>\n",
       "      <td>3.32</td>\n",
       "      <td>54915.96178</td>\n",
       "      <td>1.415648e+06</td>\n",
       "      <td>3288 Lee Pass\\nSouth Julieton, PW 02759-4964</td>\n",
       "    </tr>\n",
       "    <tr>\n",
       "      <th>55</th>\n",
       "      <td>72942.70506</td>\n",
       "      <td>4.786222</td>\n",
       "      <td>7.319886</td>\n",
       "      <td>6.41</td>\n",
       "      <td>24377.90905</td>\n",
       "      <td>9.487883e+05</td>\n",
       "      <td>86908 Marshall Port Suite 252\\nScotttown, NM 6...</td>\n",
       "    </tr>\n",
       "    <tr>\n",
       "      <th>56</th>\n",
       "      <td>63819.62285</td>\n",
       "      <td>5.949839</td>\n",
       "      <td>8.022469</td>\n",
       "      <td>4.09</td>\n",
       "      <td>27825.57206</td>\n",
       "      <td>1.159597e+06</td>\n",
       "      <td>951 Bryant Dale Suite 735\\nLake Jacqueline, NH...</td>\n",
       "    </tr>\n",
       "    <tr>\n",
       "      <th>57</th>\n",
       "      <td>73265.44989</td>\n",
       "      <td>8.314762</td>\n",
       "      <td>7.425597</td>\n",
       "      <td>3.24</td>\n",
       "      <td>21030.96618</td>\n",
       "      <td>1.547133e+06</td>\n",
       "      <td>00301 Bradshaw Avenue Suite 833\\nSuzannefurt, ...</td>\n",
       "    </tr>\n",
       "    <tr>\n",
       "      <th>58</th>\n",
       "      <td>68488.13117</td>\n",
       "      <td>6.116112</td>\n",
       "      <td>7.182527</td>\n",
       "      <td>5.08</td>\n",
       "      <td>18267.95471</td>\n",
       "      <td>1.186689e+06</td>\n",
       "      <td>84473 Ochoa Pines Apt. 808\\nJamesport, KY 7020...</td>\n",
       "    </tr>\n",
       "    <tr>\n",
       "      <th>59</th>\n",
       "      <td>55193.85745</td>\n",
       "      <td>7.186121</td>\n",
       "      <td>5.096917</td>\n",
       "      <td>4.01</td>\n",
       "      <td>32537.81877</td>\n",
       "      <td>7.721120e+05</td>\n",
       "      <td>13706 Morgan Turnpike Suite 378\\nHohaven, NC 4...</td>\n",
       "    </tr>\n",
       "    <tr>\n",
       "      <th>60</th>\n",
       "      <td>77434.68924</td>\n",
       "      <td>6.309271</td>\n",
       "      <td>5.219754</td>\n",
       "      <td>3.06</td>\n",
       "      <td>36252.34068</td>\n",
       "      <td>1.172730e+06</td>\n",
       "      <td>4872 Delgado Ramp\\nNorth James, IA 36544</td>\n",
       "    </tr>\n",
       "    <tr>\n",
       "      <th>61</th>\n",
       "      <td>66158.88159</td>\n",
       "      <td>4.476429</td>\n",
       "      <td>6.911743</td>\n",
       "      <td>2.28</td>\n",
       "      <td>37098.74217</td>\n",
       "      <td>1.111085e+06</td>\n",
       "      <td>73202 Christopher Tunnel\\nNew Roberttown, MN 0...</td>\n",
       "    </tr>\n",
       "    <tr>\n",
       "      <th>62</th>\n",
       "      <td>60502.90933</td>\n",
       "      <td>7.533381</td>\n",
       "      <td>5.731824</td>\n",
       "      <td>4.23</td>\n",
       "      <td>33579.63151</td>\n",
       "      <td>1.022781e+06</td>\n",
       "      <td>8781 Olivia Port Apt. 225\\nThompsonside, VT 22884</td>\n",
       "    </tr>\n",
       "    <tr>\n",
       "      <th>63</th>\n",
       "      <td>60910.89379</td>\n",
       "      <td>5.635467</td>\n",
       "      <td>7.325974</td>\n",
       "      <td>4.20</td>\n",
       "      <td>43347.80400</td>\n",
       "      <td>1.274475e+06</td>\n",
       "      <td>PSC 9354, Box 0703\\nAPO AA 58696-1278</td>\n",
       "    </tr>\n",
       "    <tr>\n",
       "      <th>64</th>\n",
       "      <td>73931.97852</td>\n",
       "      <td>6.394108</td>\n",
       "      <td>4.580840</td>\n",
       "      <td>4.32</td>\n",
       "      <td>36543.06728</td>\n",
       "      <td>1.213531e+06</td>\n",
       "      <td>271 Johnson Hills Apt. 001\\nMcculloughfurt, FM...</td>\n",
       "    </tr>\n",
       "    <tr>\n",
       "      <th>65</th>\n",
       "      <td>59539.94845</td>\n",
       "      <td>6.018590</td>\n",
       "      <td>7.007676</td>\n",
       "      <td>5.43</td>\n",
       "      <td>58600.82715</td>\n",
       "      <td>1.411730e+06</td>\n",
       "      <td>122 Russo Neck\\nSouth Kevin, KY 20712-5282</td>\n",
       "    </tr>\n",
       "    <tr>\n",
       "      <th>66</th>\n",
       "      <td>56547.50719</td>\n",
       "      <td>5.435415</td>\n",
       "      <td>6.515150</td>\n",
       "      <td>3.13</td>\n",
       "      <td>37585.27458</td>\n",
       "      <td>8.586856e+05</td>\n",
       "      <td>85225 Christopher Inlet Apt. 627\\nWest Calebbe...</td>\n",
       "    </tr>\n",
       "    <tr>\n",
       "      <th>67</th>\n",
       "      <td>65950.34702</td>\n",
       "      <td>5.476513</td>\n",
       "      <td>6.717844</td>\n",
       "      <td>3.28</td>\n",
       "      <td>40110.84760</td>\n",
       "      <td>1.200962e+06</td>\n",
       "      <td>7125 Mullins Cliff\\nMaryborough, WY 66971</td>\n",
       "    </tr>\n",
       "    <tr>\n",
       "      <th>68</th>\n",
       "      <td>74533.16208</td>\n",
       "      <td>6.679353</td>\n",
       "      <td>5.919231</td>\n",
       "      <td>4.00</td>\n",
       "      <td>49481.56581</td>\n",
       "      <td>1.520234e+06</td>\n",
       "      <td>905 Lane Pines Suite 348\\nBrownborough, DE 571...</td>\n",
       "    </tr>\n",
       "    <tr>\n",
       "      <th>69</th>\n",
       "      <td>66422.91905</td>\n",
       "      <td>7.122072</td>\n",
       "      <td>7.078584</td>\n",
       "      <td>6.36</td>\n",
       "      <td>31019.32482</td>\n",
       "      <td>1.360908e+06</td>\n",
       "      <td>61090 Griffith Ridges\\nCraigstad, AK 28807-8602</td>\n",
       "    </tr>\n",
       "  </tbody>\n",
       "</table>\n",
       "</div>"
      ],
      "text/plain": [
       "    Avg. Area Income  Avg. Area House Age  Avg. Area Number of Rooms  \\\n",
       "1        79248.64245             6.002900                   6.730821   \n",
       "4        59982.19723             5.040555                   7.839388   \n",
       "5        80175.75416             4.988408                   6.104512   \n",
       "8        59927.66081             5.362126                   6.393121   \n",
       "9        81885.92718             4.423672                   8.167688   \n",
       "11       80527.47208             8.093513                   5.042747   \n",
       "13       39033.80924             7.671755                   7.250029   \n",
       "15       69391.38018             5.344776                   8.406418   \n",
       "18       61929.07702             4.788550                   5.097010   \n",
       "19       63508.19430             5.947165                   7.187774   \n",
       "20       62085.27640             5.739411                   7.091808   \n",
       "21       86294.99909             6.627457                   8.011898   \n",
       "22       60835.08998             5.551222                   6.517175   \n",
       "23       64490.65027             4.210323                   5.478088   \n",
       "24       60697.35154             6.170484                   7.150537   \n",
       "25       59748.85549             5.339340                   7.748682   \n",
       "26       56974.47654             8.287562                   7.312880   \n",
       "27       82173.62608             4.018525                   6.992699   \n",
       "28       64626.88098             5.443360                   6.988754   \n",
       "29       90499.05745             6.384359                   4.242191   \n",
       "30       59323.79210             6.977828                   8.273697   \n",
       "31       77811.52203             5.314460                   6.686686   \n",
       "32       68652.60921             6.124342                   6.290820   \n",
       "33       55041.35158             7.127129                   8.591923   \n",
       "34       50218.70846             6.118808                   7.333554   \n",
       "35       55909.32230             5.419563                   9.289854   \n",
       "36       74372.81021             5.500129                   6.593046   \n",
       "37       78667.90460             5.470652                   7.780837   \n",
       "38       78699.51510             5.652784                   6.756454   \n",
       "39       53128.18545             5.180664                   5.426903   \n",
       "40       17796.63119             4.949557                   6.713905   \n",
       "41       58566.84936             6.579691                   5.034525   \n",
       "42       75537.79451             7.845216                   7.555661   \n",
       "43       46147.05306             6.623333                   7.606832   \n",
       "44       70421.47649             6.907083                   7.634319   \n",
       "45       62614.42062             5.499310                   7.440505   \n",
       "46       66394.87159             7.069512                   7.204640   \n",
       "47       73946.85107             4.863154                   7.537182   \n",
       "48       69144.74571             7.296224                   5.928223   \n",
       "49       77278.69703             6.238891                   6.919204   \n",
       "50       86754.19663             6.604440                   6.252455   \n",
       "51       74399.84098             6.382453                   7.252665   \n",
       "52       49408.19834             5.825920                   5.831739   \n",
       "53       62279.79005             6.108450                   6.306116   \n",
       "54       73078.20409             5.923906                   6.445457   \n",
       "55       72942.70506             4.786222                   7.319886   \n",
       "56       63819.62285             5.949839                   8.022469   \n",
       "57       73265.44989             8.314762                   7.425597   \n",
       "58       68488.13117             6.116112                   7.182527   \n",
       "59       55193.85745             7.186121                   5.096917   \n",
       "60       77434.68924             6.309271                   5.219754   \n",
       "61       66158.88159             4.476429                   6.911743   \n",
       "62       60502.90933             7.533381                   5.731824   \n",
       "63       60910.89379             5.635467                   7.325974   \n",
       "64       73931.97852             6.394108                   4.580840   \n",
       "65       59539.94845             6.018590                   7.007676   \n",
       "66       56547.50719             5.435415                   6.515150   \n",
       "67       65950.34702             5.476513                   6.717844   \n",
       "68       74533.16208             6.679353                   5.919231   \n",
       "69       66422.91905             7.122072                   7.078584   \n",
       "\n",
       "    Avg. Area Number of Bedrooms  Area Population         Price  \\\n",
       "1                           3.09      40173.07217  1.505891e+06   \n",
       "4                           4.23      26354.10947  6.309435e+05   \n",
       "5                           4.04      26748.42842  1.068138e+06   \n",
       "8                           2.30      29387.39600  7.988695e+05   \n",
       "9                           6.10      40149.96575  1.545155e+06   \n",
       "11                          4.10      47224.35984  1.707046e+06   \n",
       "13                          3.10      39220.36147  1.042814e+06   \n",
       "15                          4.37      35521.29403  1.402818e+06   \n",
       "18                          4.30      24595.90150  5.284852e+05   \n",
       "19                          5.12      35719.65305  1.019426e+06   \n",
       "20                          5.49      44922.10670  1.030591e+06   \n",
       "21                          4.07      47560.77534  2.146925e+06   \n",
       "22                          2.10      45574.74166  9.292476e+05   \n",
       "23                          4.31      40358.96011  7.188872e+05   \n",
       "24                          6.34      28140.96709  7.439998e+05   \n",
       "25                          4.23      27809.98654  8.957371e+05   \n",
       "26                          4.33      40694.86951  1.453975e+06   \n",
       "27                          2.03      38853.91807  1.125693e+06   \n",
       "28                          4.00      27784.74228  9.754295e+05   \n",
       "29                          3.04      33970.16499  1.240764e+06   \n",
       "30                          4.07      37520.65773  1.577018e+06   \n",
       "31                          3.24      33754.73780  1.246830e+06   \n",
       "32                          4.42      39355.62573  1.170721e+06   \n",
       "33                          5.36      30122.47348  1.071279e+06   \n",
       "34                          6.29      16810.78331  5.343051e+05   \n",
       "35                          6.00      22355.23541  9.363690e+05   \n",
       "36                          2.07      39395.15118  1.199194e+06   \n",
       "37                          4.10      27637.65655  1.233220e+06   \n",
       "38                          3.01      22836.60757  1.081150e+06   \n",
       "39                          2.39      32947.71196  5.247128e+05   \n",
       "40                          2.50      47162.18364  3.023558e+05   \n",
       "41                          2.17      39705.46496  1.026817e+06   \n",
       "42                          6.30      32778.19534  1.762215e+06   \n",
       "43                          4.43      27161.12861  8.820572e+05   \n",
       "44                          4.44      43183.92849  1.744932e+06   \n",
       "45                          6.32      26888.57956  1.153871e+06   \n",
       "46                          3.18      39741.07751  1.499989e+06   \n",
       "47                          6.35      35261.12702  1.109588e+06   \n",
       "48                          3.22      19030.61549  9.801773e+05   \n",
       "49                          2.13      21725.95429  1.323952e+06   \n",
       "50                          4.02      43017.44076  1.662495e+06   \n",
       "51                          6.36      41084.66282  1.417820e+06   \n",
       "52                          3.32      26881.13060  5.499761e+05   \n",
       "53                          4.12      35263.65314  1.054771e+06   \n",
       "54                          3.32      54915.96178  1.415648e+06   \n",
       "55                          6.41      24377.90905  9.487883e+05   \n",
       "56                          4.09      27825.57206  1.159597e+06   \n",
       "57                          3.24      21030.96618  1.547133e+06   \n",
       "58                          5.08      18267.95471  1.186689e+06   \n",
       "59                          4.01      32537.81877  7.721120e+05   \n",
       "60                          3.06      36252.34068  1.172730e+06   \n",
       "61                          2.28      37098.74217  1.111085e+06   \n",
       "62                          4.23      33579.63151  1.022781e+06   \n",
       "63                          4.20      43347.80400  1.274475e+06   \n",
       "64                          4.32      36543.06728  1.213531e+06   \n",
       "65                          5.43      58600.82715  1.411730e+06   \n",
       "66                          3.13      37585.27458  8.586856e+05   \n",
       "67                          3.28      40110.84760  1.200962e+06   \n",
       "68                          4.00      49481.56581  1.520234e+06   \n",
       "69                          6.36      31019.32482  1.360908e+06   \n",
       "\n",
       "                                              Address  \n",
       "1   188 Johnson Views Suite 079\\nLake Kathleen, CA...  \n",
       "4                          USNS Raymond\\nFPO AE 09386  \n",
       "5   06039 Jennifer Islands Apt. 443\\nTracyport, KS...  \n",
       "8                           USS Gilbert\\nFPO AA 20957  \n",
       "9                    Unit 9446 Box 0958\\nDPO AE 97025  \n",
       "11  6368 John Motorway Suite 700\\nJanetbury, NM 26854  \n",
       "13  209 Natasha Stream Suite 961\\nHuffmanland, NE ...  \n",
       "15                   PSC 5330, Box 4420\\nAPO AP 08302  \n",
       "18      5498 Rachel Locks\\nNew Gregoryshire, PW 54755  \n",
       "19                   Unit 7424 Box 2786\\nDPO AE 71255  \n",
       "20    19696 Benjamin Cape\\nStephentown, ME 36952-4733  \n",
       "21  030 Larry Park Suite 665\\nThomashaven, HI 8794...  \n",
       "22                           USNS Brown\\nFPO AP 85833  \n",
       "23          95198 Ortiz Key\\nPort Sara, TN 24541-2855  \n",
       "24  9003 Jay Plains Suite 838\\nLake Elizabeth, IN ...  \n",
       "25       24282 Paul Valley\\nWest Perry, MI 03169-5806  \n",
       "26             61938 Brady Falls\\nLewisfort, DE 61227  \n",
       "27       3599 Ramirez Springs\\nJacksonhaven, AZ 72798  \n",
       "28  073 Christopher Falls Suite 882\\nWest Cynthia,...  \n",
       "29  6531 Chase Prairie Apt. 245\\nSusanshire, MN 22365  \n",
       "30  17124 Johnson Squares\\nLake Robertfurt, AL 618...  \n",
       "31   1359 Mitchell Vista\\nCourtneyfort, NY 93065-7224  \n",
       "32  4343 Joshua Lake Suite 096\\nPierceview, NV 626...  \n",
       "33  0057 Jacob Coves Apt. 932\\nLake Emily, VA 3946...  \n",
       "34              039 Jordan Pike\\nEmilyville, ID 27442  \n",
       "35  66338 Novak Curve Suite 628\\nTaylorborough, OK...  \n",
       "36  7167 Angela Park Suite 013\\nMorrishaven, NH 66...  \n",
       "37  34964 Sara Fields Apt. 584\\nPort Raymondville,...  \n",
       "38                7585 Lynn Loop\\nEast Judy, WV 73336  \n",
       "39                   Unit 1388 Box 9350\\nDPO AP 70848  \n",
       "40      9932 Eric Circles\\nLake Martha, WY 34611-6127  \n",
       "41             7896 Walker Spring\\nLoriport, MH 72956  \n",
       "42             549 Darren Plaza\\nLake Kevin, UT 27155  \n",
       "43   90634 Michelle Valleys\\nNorth Victoria, WV 99370  \n",
       "44  580 Lara Neck Apt. 541\\nDavidsonstad, ID 34638...  \n",
       "45         43087 Jerome Field\\nWest Deborah, SD 49213  \n",
       "46      71956 Jenkins Fall\\nBrooketown, PW 67485-0764  \n",
       "47  8034 Pierce Prairie Suite 727\\nDevonfurt, NE 3...  \n",
       "48                   Unit 8108 Box 5159\\nDPO AP 04678  \n",
       "49           08639 Garcia Port\\nAnthonybury, CT 17971  \n",
       "50     91863 Curtis Point\\nNew Richard, AK 99996-7554  \n",
       "51  03819 Lee Junction Suite 046\\nMooneyborough, W...  \n",
       "52            7796 Joseph Burg\\nDanielsside, RI 70370  \n",
       "53              173 Mendoza Land\\nWest John, NJ 57690  \n",
       "54       3288 Lee Pass\\nSouth Julieton, PW 02759-4964  \n",
       "55  86908 Marshall Port Suite 252\\nScotttown, NM 6...  \n",
       "56  951 Bryant Dale Suite 735\\nLake Jacqueline, NH...  \n",
       "57  00301 Bradshaw Avenue Suite 833\\nSuzannefurt, ...  \n",
       "58  84473 Ochoa Pines Apt. 808\\nJamesport, KY 7020...  \n",
       "59  13706 Morgan Turnpike Suite 378\\nHohaven, NC 4...  \n",
       "60           4872 Delgado Ramp\\nNorth James, IA 36544  \n",
       "61  73202 Christopher Tunnel\\nNew Roberttown, MN 0...  \n",
       "62  8781 Olivia Port Apt. 225\\nThompsonside, VT 22884  \n",
       "63              PSC 9354, Box 0703\\nAPO AA 58696-1278  \n",
       "64  271 Johnson Hills Apt. 001\\nMcculloughfurt, FM...  \n",
       "65         122 Russo Neck\\nSouth Kevin, KY 20712-5282  \n",
       "66  85225 Christopher Inlet Apt. 627\\nWest Calebbe...  \n",
       "67          7125 Mullins Cliff\\nMaryborough, WY 66971  \n",
       "68  905 Lane Pines Suite 348\\nBrownborough, DE 571...  \n",
       "69    61090 Griffith Ridges\\nCraigstad, AK 28807-8602  "
      ]
     },
     "execution_count": 42,
     "metadata": {},
     "output_type": "execute_result"
    }
   ],
   "source": [
    "nr60 = nanrow.head(60)\n",
    "nr60"
   ]
  },
  {
   "cell_type": "markdown",
   "id": "2644aad9",
   "metadata": {},
   "source": [
    "### DETECTING OUTLIERS BY PLOTTING"
   ]
  },
  {
   "cell_type": "markdown",
   "id": "2af38873",
   "metadata": {},
   "source": [
    "#### DETECTING OUTLIERS BY BOXPLOT"
   ]
  },
  {
   "cell_type": "code",
   "execution_count": 46,
   "id": "964e7763",
   "metadata": {},
   "outputs": [
    {
     "data": {
      "text/plain": [
       "<AxesSubplot:>"
      ]
     },
     "execution_count": 46,
     "metadata": {},
     "output_type": "execute_result"
    },
    {
     "data": {
      "image/png": "[encoded data removed]",
      "text/plain": [
       "<Figure size 1080x1080 with 1 Axes>"
      ]
     },
     "metadata": {
      "needs_background": "light"
     },
     "output_type": "display_data"
    }
   ],
   "source": [
    "plt.figure(figsize=(15,15))\n",
    "nr60.boxplot()"
   ]
  },
  {
   "cell_type": "code",
   "execution_count": 48,
   "id": "a87fa792",
   "metadata": {},
   "outputs": [
    {
     "data": {
      "text/plain": [
       "Text(0.5, 0, 'Avg. Area Number of Rooms')"
      ]
     },
     "execution_count": 48,
     "metadata": {},
     "output_type": "execute_result"
    },
    {
     "data": {
      "image/png": "[encoded data removed]",
      "text/plain": [
       "<Figure size 432x288 with 1 Axes>"
      ]
     },
     "metadata": {
      "needs_background": "light"
     },
     "output_type": "display_data"
    }
   ],
   "source": [
    "plt.boxplot(nr60['Avg. Area Number of Rooms'], vert = False)\n",
    "plt.title(\"Detecting outliers using Horizontal Boxplot \")\n",
    "plt.xlabel('Avg. Area Number of Rooms')"
   ]
  },
  {
   "cell_type": "code",
   "execution_count": 44,
   "id": "802c4eef",
   "metadata": {},
   "outputs": [
    {
     "data": {
      "text/plain": [
       "Text(0, 0.5, 'Avg. Area Number of Rooms')"
      ]
     },
     "execution_count": 44,
     "metadata": {},
     "output_type": "execute_result"
    },
    {
     "data": {
      "image/png": "[encoded data removed]",
      "text/plain": [
       "<Figure size 432x288 with 1 Axes>"
      ]
     },
     "metadata": {
      "needs_background": "light"
     },
     "output_type": "display_data"
    }
   ],
   "source": [
    "plt.boxplot(nr60['Avg. Area Number of Rooms'])\n",
    "plt.title(\"Detecting outliers using Vertical Boxplot\")\n",
    "plt.ylabel('Avg. Area Number of Rooms')"
   ]
  },
  {
   "cell_type": "markdown",
   "id": "191f63f9",
   "metadata": {},
   "source": [
    "### DETECTING OUTLIERS BY MATHEMATICAL METHODS"
   ]
  },
  {
   "cell_type": "markdown",
   "id": "2a1a303d",
   "metadata": {},
   "source": [
    "#### DETECTING OUTLIERS BY ZSCORE"
   ]
  },
  {
   "cell_type": "code",
   "execution_count": 49,
   "id": "00e27eea",
   "metadata": {},
   "outputs": [],
   "source": [
    "def out_by_zscore(data):\n",
    "    out = []\n",
    "    thres = 2\n",
    "    meandata = np.mean(data)\n",
    "    std = np.std(data)\n",
    "    print(\"MEAN : \", round(meandata, 6), \"STANDARD DEVIANCE : \", round(std, 6))\n",
    "    for i in data:\n",
    "        z_sc = (i - meandata)/std\n",
    "        if (np.abs(z_sc)>thres):\n",
    "#             print(np.abs(z_sc))\n",
    "            out.append(round(i, 6))\n",
    "    return out    "
   ]
  },
  {
   "cell_type": "code",
   "execution_count": 50,
   "id": "d43f98d9",
   "metadata": {
    "scrolled": true
   },
   "outputs": [
    {
     "name": "stdout",
     "output_type": "stream",
     "text": [
      "MEAN :  6.808291 STANDARD DEVIANCE :  1.021608\n",
      "Outliers from Z-Score :  [4.242191, 9.289854, 4.58084]\n"
     ]
    }
   ],
   "source": [
    "data_out1 = out_by_zscore(nr60['Avg. Area Number of Rooms'])\n",
    "print(\"Outliers from Z-Score : \", data_out1)"
   ]
  },
  {
   "cell_type": "markdown",
   "id": "6cca9b23",
   "metadata": {},
   "source": [
    "#### DETECTING OUTLIERS BY IQR (INTER-QUARTILE RANGE)"
   ]
  },
  {
   "cell_type": "code",
   "execution_count": 51,
   "id": "39762587",
   "metadata": {},
   "outputs": [],
   "source": [
    "def out_by_iqr(data):\n",
    "    out = []\n",
    "    data = np.sort(data)\n",
    "    q1 = np.percentile(data, 30)\n",
    "    q3 = np.percentile(data, 70)\n",
    "    print(\"Q1 : \", round(q1, 6), \"Q3 : \", round(q3, 6))\n",
    "    iqr = q3 - q1\n",
    "    lwr_bnd = q1 - (1.5 * iqr)\n",
    "    upr_bnd = q3 + (1.5 * iqr)\n",
    "    print(\"Lower Bound : \", round(lwr_bnd, 6), \"Upper Bound : \", round(upr_bnd, 6))\n",
    "    for i in data:\n",
    "        if (i < lwr_bnd or i > upr_bnd):\n",
    "            out.append(round(i, 6))\n",
    "    return out    "
   ]
  },
  {
   "cell_type": "code",
   "execution_count": 52,
   "id": "6b283a7c",
   "metadata": {
    "scrolled": true
   },
   "outputs": [
    {
     "name": "stdout",
     "output_type": "stream",
     "text": [
      "Q1 :  6.429756 Q3 :  7.321712\n",
      "Lower Bound :  5.091822 Upper Bound :  8.659646\n",
      "Outliers from IQR :  [4.242191, 4.58084, 5.034525, 5.042747, 9.289854]\n"
     ]
    }
   ],
   "source": [
    "data_out2 = out_by_iqr(nr60['Avg. Area Number of Rooms'])\n",
    "print(\"Outliers from IQR : \", data_out2)"
   ]
  },
  {
   "cell_type": "markdown",
   "id": "bb981a1a",
   "metadata": {},
   "source": [
    "### HANDLING OUTLIERS"
   ]
  },
  {
   "cell_type": "markdown",
   "id": "54b43e7f",
   "metadata": {},
   "source": [
    "#### TRIMMING"
   ]
  },
  {
   "cell_type": "code",
   "execution_count": 53,
   "id": "198f8100",
   "metadata": {},
   "outputs": [],
   "source": [
    "def trim(data, out):\n",
    "#     print(data)\n",
    "    for i in out:\n",
    "        data = np.delete(np.round(data, 6), np.where(np.round(data, 6) == round(i, 6)))\n",
    "    return data"
   ]
  },
  {
   "cell_type": "code",
   "execution_count": 54,
   "id": "b6fe12c9",
   "metadata": {
    "scrolled": true
   },
   "outputs": [
    {
     "data": {
      "text/plain": [
       "array([7.839388, 6.104512, 6.393121, 8.167688, 5.042747, 7.250029,\n",
       "       8.406418, 5.09701 , 7.187774, 7.091808, 8.011898, 6.517175,\n",
       "       5.478088, 7.150537, 7.748682, 7.31288 , 6.992699, 6.988754,\n",
       "       8.273697, 6.686686, 6.29082 , 8.591923, 7.333554, 6.593046,\n",
       "       7.780837, 6.756454, 5.426903, 6.713905, 5.034525, 7.555661,\n",
       "       7.606832, 7.634319, 7.440505, 7.20464 , 7.537182, 5.928223,\n",
       "       6.919204, 6.252455, 7.252665, 5.831739, 6.306116, 6.445457,\n",
       "       7.319886, 8.022469, 7.425597, 7.182527, 5.096917, 5.219754,\n",
       "       6.911743, 5.731824, 7.325974, 7.007676, 6.51515 , 6.717844,\n",
       "       5.919231, 7.078584])"
      ]
     },
     "execution_count": 54,
     "metadata": {},
     "output_type": "execute_result"
    }
   ],
   "source": [
    "new_trim = trim([nr60['Avg. Area Number of Rooms']], data_out1)\n",
    "new_trim"
   ]
  },
  {
   "cell_type": "code",
   "execution_count": 55,
   "id": "506af487",
   "metadata": {
    "scrolled": false
   },
   "outputs": [
    {
     "name": "stdout",
     "output_type": "stream",
     "text": [
      "LENGTH OF DATA :  60 \n",
      "LENGTH OF TRIMMED DATA :  56\n"
     ]
    }
   ],
   "source": [
    "print(\"LENGTH OF DATA : \", len(nr60['Avg. Area Number of Rooms']), \"\\nLENGTH OF TRIMMED DATA : \", len(new_trim))"
   ]
  },
  {
   "cell_type": "markdown",
   "id": "edbc2cfe",
   "metadata": {},
   "source": [
    "#### QUANTILE BASED FLOORING AND CAPPING"
   ]
  },
  {
   "cell_type": "code",
   "execution_count": 56,
   "id": "55de111c",
   "metadata": {},
   "outputs": [],
   "source": [
    "def floor(data):\n",
    "    ten_per = np.percentile(np.round(data, 6), 10)\n",
    "    print(\"Tenth Percentile : \", np.round(ten_per, 6))\n",
    "    data = np.where(np.round(data, 6) < ten_per, ten_per, data)\n",
    "    return data"
   ]
  },
  {
   "cell_type": "code",
   "execution_count": 57,
   "id": "966d1a0a",
   "metadata": {},
   "outputs": [],
   "source": [
    "def cap(data):\n",
    "    nine_per = np.percentile(np.round(data, 6), 90)\n",
    "    print(\"Ninetieth Percentile : \", np.round(nine_per, 6))\n",
    "    data = np.where(np.round(data, 6) > nine_per, nine_per, data)\n",
    "    return data"
   ]
  },
  {
   "cell_type": "code",
   "execution_count": 58,
   "id": "c3a4efda",
   "metadata": {
    "scrolled": false
   },
   "outputs": [
    {
     "name": "stdout",
     "output_type": "stream",
     "text": [
      "MEAN :  6.808291 STANDARD DEVIANCE :  1.021608\n",
      "Outliers from Z-Score :  [4.242191, 9.289854, 4.58084]\n",
      "Tenth Percentile :  5.20748\n",
      "MEAN :  6.844135 STANDARD DEVIANCE :  0.950898\n",
      "Outliers from Z-Score :  [9.289854]\n",
      "Ninetieth Percentile :  8.012955\n",
      "MEAN :  6.799563 STANDARD DEVIANCE :  0.87244\n",
      "Outliers from Z-Score :  []\n"
     ]
    }
   ],
   "source": [
    "print(\"Outliers from Z-Score : \", out_by_zscore(nr60['Avg. Area Number of Rooms']))\n",
    "data_flr = floor(nr60['Avg. Area Number of Rooms'])\n",
    "\n",
    "print(\"Outliers from Z-Score : \", out_by_zscore(data_flr))\n",
    "\n",
    "data_flr_cap = cap(data_flr)\n",
    "print(\"Outliers from Z-Score : \", out_by_zscore(data_flr_cap))"
   ]
  },
  {
   "cell_type": "markdown",
   "id": "2cdfa414",
   "metadata": {},
   "source": [
    "#### MEAN/MEDIAN IMPUTATION"
   ]
  },
  {
   "cell_type": "code",
   "execution_count": 59,
   "id": "0ba90685",
   "metadata": {},
   "outputs": [],
   "source": [
    "def imp_median(data, out):\n",
    "    med = np.median(np.round(data, 6))\n",
    "    for i in out:\n",
    "        data = np.where(np.round(data, 6) == round(i, 6), np.round(med, 6), np.round(data, 6))\n",
    "    return data"
   ]
  },
  {
   "cell_type": "code",
   "execution_count": 60,
   "id": "733601a2",
   "metadata": {},
   "outputs": [
    {
     "name": "stdout",
     "output_type": "stream",
     "text": [
      "MEAN :  6.808291 STANDARD DEVIANCE :  1.021608\n",
      "Outliers from Z-Score :  [4.242191, 9.289854, 4.58084]\n",
      "MEAN :  6.855946 STANDARD DEVIANCE :  0.86487\n",
      "Outliers from Z-Score :  [5.042747, 5.09701, 8.591923, 5.034525, 5.096917]\n"
     ]
    },
    {
     "data": {
      "text/plain": [
       "array([6.730821, 7.839388, 6.104512, 6.393121, 8.167688, 5.042747,\n",
       "       7.250029, 8.406418, 5.09701 , 7.187774, 7.091808, 8.011898,\n",
       "       6.517175, 5.478088, 7.150537, 7.748682, 7.31288 , 6.992699,\n",
       "       6.988754, 6.990726, 8.273697, 6.686686, 6.29082 , 8.591923,\n",
       "       7.333554, 6.990726, 6.593046, 7.780837, 6.756454, 5.426903,\n",
       "       6.713905, 5.034525, 7.555661, 7.606832, 7.634319, 7.440505,\n",
       "       7.20464 , 7.537182, 5.928223, 6.919204, 6.252455, 7.252665,\n",
       "       5.831739, 6.306116, 6.445457, 7.319886, 8.022469, 7.425597,\n",
       "       7.182527, 5.096917, 5.219754, 6.911743, 5.731824, 7.325974,\n",
       "       6.990726, 7.007676, 6.51515 , 6.717844, 5.919231, 7.078584])"
      ]
     },
     "execution_count": 60,
     "metadata": {},
     "output_type": "execute_result"
    }
   ],
   "source": [
    "print(\"Outliers from Z-Score : \", out_by_zscore(nr60['Avg. Area Number of Rooms']))\n",
    "data_med = imp_median(nr60['Avg. Area Number of Rooms'], data_out1)\n",
    "print(\"Outliers from Z-Score : \", out_by_zscore(data_med))\n",
    "data_med"
   ]
  },
  {
   "cell_type": "code",
   "execution_count": 61,
   "id": "74d5b68b",
   "metadata": {},
   "outputs": [],
   "source": [
    "def imp_mean(data, out):\n",
    "    mean = np.mean(data)\n",
    "    for i in out:\n",
    "        data = np.where(np.round(data, 6) == round(i, 6), np.round(mean, 6), np.round(data, 6))\n",
    "    return data"
   ]
  },
  {
   "cell_type": "code",
   "execution_count": 62,
   "id": "f1f505ac",
   "metadata": {
    "scrolled": true
   },
   "outputs": [
    {
     "name": "stdout",
     "output_type": "stream",
     "text": [
      "MEAN :  6.808291 STANDARD DEVIANCE :  1.021608\n",
      "Outliers from Z-Score :  [4.242191, 9.289854, 4.58084]\n",
      "MEAN :  6.846824 STANDARD DEVIANCE :  0.864363\n",
      "Outliers from Z-Score :  [5.042747, 5.09701, 8.591923, 5.034525, 5.096917]\n"
     ]
    },
    {
     "data": {
      "text/plain": [
       "array([6.730821, 7.839388, 6.104512, 6.393121, 8.167688, 5.042747,\n",
       "       7.250029, 8.406418, 5.09701 , 7.187774, 7.091808, 8.011898,\n",
       "       6.517175, 5.478088, 7.150537, 7.748682, 7.31288 , 6.992699,\n",
       "       6.988754, 6.808291, 8.273697, 6.686686, 6.29082 , 8.591923,\n",
       "       7.333554, 6.808291, 6.593046, 7.780837, 6.756454, 5.426903,\n",
       "       6.713905, 5.034525, 7.555661, 7.606832, 7.634319, 7.440505,\n",
       "       7.20464 , 7.537182, 5.928223, 6.919204, 6.252455, 7.252665,\n",
       "       5.831739, 6.306116, 6.445457, 7.319886, 8.022469, 7.425597,\n",
       "       7.182527, 5.096917, 5.219754, 6.911743, 5.731824, 7.325974,\n",
       "       6.808291, 7.007676, 6.51515 , 6.717844, 5.919231, 7.078584])"
      ]
     },
     "execution_count": 62,
     "metadata": {},
     "output_type": "execute_result"
    }
   ],
   "source": [
    "print(\"Outliers from Z-Score : \", out_by_zscore(nr60['Avg. Area Number of Rooms']))\n",
    "data_mean = imp_mean(nr60['Avg. Area Number of Rooms'], data_out1)\n",
    "print(\"Outliers from Z-Score : \", out_by_zscore(data_mean))\n",
    "data_mean"
   ]
  },
  {
   "cell_type": "markdown",
   "id": "263ca4d4",
   "metadata": {},
   "source": [
    "# QUE"
   ]
  },
  {
   "cell_type": "markdown",
   "id": "e776089e",
   "metadata": {},
   "source": [
    "Download a CSV file and plot the following for the quantitative variables and categorical variables for it using matplotlib library, explore the different features of the methods using: \n",
    "    Boxplot\n",
    "Bar-chart\n",
    "Pie-chart\n",
    "Line-chart\n",
    "Histogram\n",
    "Stem-leaf display\n",
    "Ogive chart\n",
    "Dotplot\n"
   ]
  },
  {
   "cell_type": "markdown",
   "id": "69e78759",
   "metadata": {},
   "source": [
    "### QUANTATIVE DATA"
   ]
  },
  {
   "cell_type": "markdown",
   "id": "6573cdd0",
   "metadata": {},
   "source": [
    "#### Boxplot"
   ]
  },
  {
   "cell_type": "code",
   "execution_count": 64,
   "id": "557740ed",
   "metadata": {},
   "outputs": [
    {
     "data": {
      "text/html": [
       "<div>\n",
       "<style scoped>\n",
       "    .dataframe tbody tr th:only-of-type {\n",
       "        vertical-align: middle;\n",
       "    }\n",
       "\n",
       "    .dataframe tbody tr th {\n",
       "        vertical-align: top;\n",
       "    }\n",
       "\n",
       "    .dataframe thead th {\n",
       "        text-align: right;\n",
       "    }\n",
       "</style>\n",
       "<table border=\"1\" class=\"dataframe\">\n",
       "  <thead>\n",
       "    <tr style=\"text-align: right;\">\n",
       "      <th></th>\n",
       "      <th>Avg. Area House Age</th>\n",
       "      <th>Avg. Area Number of Rooms</th>\n",
       "      <th>Avg. Area Number of Bedrooms</th>\n",
       "    </tr>\n",
       "  </thead>\n",
       "  <tbody>\n",
       "    <tr>\n",
       "      <th>1</th>\n",
       "      <td>6.002900</td>\n",
       "      <td>6.730821</td>\n",
       "      <td>3.09</td>\n",
       "    </tr>\n",
       "    <tr>\n",
       "      <th>4</th>\n",
       "      <td>5.040555</td>\n",
       "      <td>7.839388</td>\n",
       "      <td>4.23</td>\n",
       "    </tr>\n",
       "    <tr>\n",
       "      <th>5</th>\n",
       "      <td>4.988408</td>\n",
       "      <td>6.104512</td>\n",
       "      <td>4.04</td>\n",
       "    </tr>\n",
       "  </tbody>\n",
       "</table>\n",
       "</div>"
      ],
      "text/plain": [
       "   Avg. Area House Age  Avg. Area Number of Rooms  \\\n",
       "1             6.002900                   6.730821   \n",
       "4             5.040555                   7.839388   \n",
       "5             4.988408                   6.104512   \n",
       "\n",
       "   Avg. Area Number of Bedrooms  \n",
       "1                          3.09  \n",
       "4                          4.23  \n",
       "5                          4.04  "
      ]
     },
     "execution_count": 64,
     "metadata": {},
     "output_type": "execute_result"
    }
   ],
   "source": [
    "n60 = nr60.iloc[:,1:4]\n",
    "n60.head(3)"
   ]
  },
  {
   "cell_type": "code",
   "execution_count": 65,
   "id": "343c49d0",
   "metadata": {
    "scrolled": false
   },
   "outputs": [
    {
     "data": {
      "text/plain": [
       "Text(0.5, 1.0, 'BoxPlot')"
      ]
     },
     "execution_count": 65,
     "metadata": {},
     "output_type": "execute_result"
    },
    {
     "data": {
      "image/png": "[encoded data removed]",
      "text/plain": [
       "<Figure size 864x360 with 1 Axes>"
      ]
     },
     "metadata": {
      "needs_background": "light"
     },
     "output_type": "display_data"
    }
   ],
   "source": [
    "plt.figure(figsize = (12 ,5))\n",
    "n60.boxplot()\n",
    "plt.title(\"BoxPlot\")"
   ]
  },
  {
   "cell_type": "markdown",
   "id": "8b1194d4",
   "metadata": {},
   "source": [
    "#### Histogram"
   ]
  },
  {
   "cell_type": "code",
   "execution_count": 66,
   "id": "3a15339a",
   "metadata": {
    "scrolled": false
   },
   "outputs": [
    {
     "data": {
      "text/plain": [
       "Text(0.5, 0, 'Avg. Area Number of Rooms')"
      ]
     },
     "execution_count": 66,
     "metadata": {},
     "output_type": "execute_result"
    },
    {
     "data": {
      "image/png": "[encoded data removed]",
      "text/plain": [
       "<Figure size 864x360 with 1 Axes>"
      ]
     },
     "metadata": {
      "needs_background": "light"
     },
     "output_type": "display_data"
    }
   ],
   "source": [
    "plt.figure(figsize = (12, 5))\n",
    "cat_data[cat_data['price'] < 200]['price'].plot.hist()\n",
    "plt.title('Histogram')\n",
    "plt.xlabel('Avg. Area Number of Rooms')"
   ]
  },
  {
   "cell_type": "markdown",
   "id": "5895d499",
   "metadata": {},
   "source": [
    "#### Stem-leaf display "
   ]
  },
  {
   "cell_type": "code",
   "execution_count": 67,
   "id": "3f876998",
   "metadata": {
    "scrolled": false
   },
   "outputs": [
    {
     "data": {
      "text/plain": [
       "Text(0.5, 0, 'Avg. Area Number of Rooms')"
      ]
     },
     "execution_count": 67,
     "metadata": {},
     "output_type": "execute_result"
    },
    {
     "data": {
      "image/png": "[encoded data removed]",
      "text/plain": [
       "<Figure size 864x360 with 1 Axes>"
      ]
     },
     "metadata": {
      "needs_background": "light"
     },
     "output_type": "display_data"
    }
   ],
   "source": [
    "plt.figure(figsize = (12, 5))\n",
    "data = [0,1,2,3,4,5,6,7,8,9,0,1,2,3,4,5,6,7,8,9,0,1,2,3,4,5,6,7,8,9,0,1,2,3,4,5,6,7,8,9,0,1,2,3,4,5,6,7,8,9,0,1,2,3,4,5,6,7,8,9]\n",
    "plt.stem(round(nr60['Avg. Area Number of Rooms'],0),data)\n",
    "plt.title('StemLeaf display')\n",
    "plt.xlabel('Avg. Area Number of Rooms')"
   ]
  },
  {
   "cell_type": "markdown",
   "id": "b98cb0dd",
   "metadata": {},
   "source": [
    "#### Ogive chart "
   ]
  },
  {
   "cell_type": "code",
   "execution_count": 68,
   "id": "cad2f641",
   "metadata": {},
   "outputs": [
    {
     "data": {
      "text/plain": [
       "(4.242191302, 9.289854372)"
      ]
     },
     "execution_count": 68,
     "metadata": {},
     "output_type": "execute_result"
    }
   ],
   "source": [
    "min(nr60['Avg. Area Number of Rooms']), max(nr60['Avg. Area Number of Rooms'])"
   ]
  },
  {
   "cell_type": "code",
   "execution_count": 69,
   "id": "a2096b88",
   "metadata": {
    "scrolled": true
   },
   "outputs": [
    {
     "data": {
      "image/png": "[encoded data removed]",
      "text/plain": [
       "<Figure size 432x288 with 1 Axes>"
      ]
     },
     "metadata": {
      "needs_background": "light"
     },
     "output_type": "display_data"
    }
   ],
   "source": [
    "classInterval = [3, 4, 5, 6, 7, 8, 9, 10]\n",
    "values, base = np.histogram(nr60['Avg. Area Number of Rooms'], bins = classInterval)\n",
    "cumsum = np.cumsum(values)\n",
    "plt.plot(base[1:], cumsum, color = 'red', marker = 'o', linestyle = '-')\n",
    "plt.title('Ogive Graph')\n",
    "plt.xlabel('Avg. Area Number of Rooms')\n",
    "plt.ylabel('Cumulative Frequency')\n",
    "plt.show()"
   ]
  },
  {
   "cell_type": "markdown",
   "id": "b0dfc1b7",
   "metadata": {},
   "source": [
    "### CATEGORICAL DATA"
   ]
  },
  {
   "cell_type": "code",
   "execution_count": 70,
   "id": "a7a340aa",
   "metadata": {
    "scrolled": true
   },
   "outputs": [
    {
     "data": {
      "text/plain": [
       "0             US\n",
       "1          Spain\n",
       "2             US\n",
       "3             US\n",
       "4         France\n",
       "           ...  \n",
       "150925     Italy\n",
       "150926    France\n",
       "150927     Italy\n",
       "150928    France\n",
       "150929     Italy\n",
       "Name: country, Length: 150930, dtype: object"
      ]
     },
     "execution_count": 70,
     "metadata": {},
     "output_type": "execute_result"
    }
   ],
   "source": [
    "cat_data['country']"
   ]
  },
  {
   "cell_type": "code",
   "execution_count": 71,
   "id": "63f7b392",
   "metadata": {
    "scrolled": false
   },
   "outputs": [
    {
     "data": {
      "text/plain": [
       "US                        62397\n",
       "Italy                     23478\n",
       "France                    21098\n",
       "Spain                      8268\n",
       "Chile                      5816\n",
       "Argentina                  5631\n",
       "Portugal                   5322\n",
       "Australia                  4957\n",
       "New Zealand                3320\n",
       "Austria                    3057\n",
       "Germany                    2452\n",
       "South Africa               2258\n",
       "Greece                      884\n",
       "Israel                      630\n",
       "Hungary                     231\n",
       "Canada                      196\n",
       "Romania                     139\n",
       "Slovenia                     94\n",
       "Uruguay                      92\n",
       "Croatia                      89\n",
       "Bulgaria                     77\n",
       "Moldova                      71\n",
       "Mexico                       63\n",
       "Turkey                       52\n",
       "Georgia                      43\n",
       "Lebanon                      37\n",
       "Cyprus                       31\n",
       "Brazil                       25\n",
       "Macedonia                    16\n",
       "Serbia                       14\n",
       "Morocco                      12\n",
       "England                       9\n",
       "Luxembourg                    9\n",
       "Lithuania                     8\n",
       "India                         8\n",
       "Czech Republic                6\n",
       "Ukraine                       5\n",
       "Switzerland                   4\n",
       "South Korea                   4\n",
       "Bosnia and Herzegovina        4\n",
       "China                         3\n",
       "Egypt                         3\n",
       "Slovakia                      3\n",
       "Tunisia                       2\n",
       "Albania                       2\n",
       "Montenegro                    2\n",
       "Japan                         2\n",
       "US-France                     1\n",
       "Name: country, dtype: int64"
      ]
     },
     "execution_count": 71,
     "metadata": {},
     "output_type": "execute_result"
    }
   ],
   "source": [
    "cat_data['country'].value_counts()"
   ]
  },
  {
   "cell_type": "code",
   "execution_count": 72,
   "id": "6bcda094",
   "metadata": {
    "scrolled": true
   },
   "outputs": [
    {
     "data": {
      "text/plain": [
       "{'US': 62397,\n",
       " 'Italy': 23478,\n",
       " 'France': 21098,\n",
       " 'Spain': 8268,\n",
       " 'Chile': 5816,\n",
       " 'Argentina': 5631,\n",
       " 'Portugal': 5322,\n",
       " 'Australia': 4957,\n",
       " 'New Zealand': 3320,\n",
       " 'Austria': 3057}"
      ]
     },
     "execution_count": 72,
     "metadata": {},
     "output_type": "execute_result"
    }
   ],
   "source": [
    "plt_cat = dict(cat_data['country'].value_counts().head(10))\n",
    "plt_cat"
   ]
  },
  {
   "cell_type": "markdown",
   "id": "c2604aa4",
   "metadata": {},
   "source": [
    "#### Bar-chart"
   ]
  },
  {
   "cell_type": "code",
   "execution_count": 73,
   "id": "06dc81bc",
   "metadata": {
    "scrolled": false
   },
   "outputs": [
    {
     "data": {
      "text/plain": [
       "Text(0.5, 1.0, 'BarChart')"
      ]
     },
     "execution_count": 73,
     "metadata": {},
     "output_type": "execute_result"
    },
    {
     "data": {
      "image/png": "[encoded data removed]",
      "text/plain": [
       "<Figure size 864x360 with 1 Axes>"
      ]
     },
     "metadata": {
      "needs_background": "light"
     },
     "output_type": "display_data"
    }
   ],
   "source": [
    "plt.figure(figsize = (12, 5))\n",
    "plt.bar(plt_cat.keys(), plt_cat.values())\n",
    "plt.title(\"BarChart\")"
   ]
  },
  {
   "cell_type": "markdown",
   "id": "7a9258bf",
   "metadata": {},
   "source": [
    "#### Pie-chart"
   ]
  },
  {
   "cell_type": "code",
   "execution_count": 74,
   "id": "3a83af80",
   "metadata": {},
   "outputs": [
    {
     "data": {
      "text/plain": [
       "([<matplotlib.patches.Wedge at 0x246ecc622e0>,\n",
       "  <matplotlib.patches.Wedge at 0x246ecc627c0>,\n",
       "  <matplotlib.patches.Wedge at 0x246ecc62ca0>,\n",
       "  <matplotlib.patches.Wedge at 0x246ecc6f1c0>,\n",
       "  <matplotlib.patches.Wedge at 0x246ecc6f6a0>,\n",
       "  <matplotlib.patches.Wedge at 0x246ecc6fb80>,\n",
       "  <matplotlib.patches.Wedge at 0x246ecc7a0a0>,\n",
       "  <matplotlib.patches.Wedge at 0x246ecc7a580>,\n",
       "  <matplotlib.patches.Wedge at 0x246ecc7aa60>,\n",
       "  <matplotlib.patches.Wedge at 0x246ecc7af40>],\n",
       " [Text(0.2220658961806807, 1.0773517242541877, 'US'),\n",
       "  Text(-1.0935905158500696, -0.11857395853550008, 'Italy'),\n",
       "  Text(-0.5136502883054795, -0.9727092994948172, 'France'),\n",
       "  Text(0.172811375561622, -1.086340751549209, 'Spain'),\n",
       "  Text(0.4946667758202623, -0.9824992523659173, 'Chile'),\n",
       "  Text(0.7230908120573099, -0.8289388864797576, 'Argentina'),\n",
       "  Text(0.8994387829583985, -0.6332534056049878, 'Portugal'),\n",
       "  Text(1.0181667951984978, -0.41633685538902304, 'Australia'),\n",
       "  Text(1.0765713621288104, -0.22581873758419113, 'New Zealand'),\n",
       "  Text(1.097532082640588, -0.0736432452748627, 'Austria')])"
      ]
     },
     "execution_count": 74,
     "metadata": {},
     "output_type": "execute_result"
    },
    {
     "data": {
      "image/png": "[encoded data removed]",
      "text/plain": [
       "<Figure size 864x360 with 1 Axes>"
      ]
     },
     "metadata": {},
     "output_type": "display_data"
    }
   ],
   "source": [
    "plt.figure(figsize = (12, 5))\n",
    "plt.pie(plt_cat.values(), labels = plt_cat.keys())"
   ]
  },
  {
   "cell_type": "code",
   "execution_count": 75,
   "id": "8c7b9ab0",
   "metadata": {
    "scrolled": true
   },
   "outputs": [
    {
     "data": {
      "image/png": "[encoded data removed]",
      "text/plain": [
       "<Figure size 864x360 with 1 Axes>"
      ]
     },
     "metadata": {},
     "output_type": "display_data"
    }
   ],
   "source": [
    "hatches = ['*','////','X','.','.o','O','x','\\\\\\\\','+','o']\n",
    "plt.figure(figsize = (12, 5))\n",
    "patches = plt.pie(plt_cat.values(), labels = plt_cat.keys())\n",
    "for i in range(len(patches[0])):\n",
    "    patches[0][i].set(hatch = hatches[i], fill=False)\n",
    "    plt.title('PieChart')\n",
    "plt.show()"
   ]
  },
  {
   "cell_type": "markdown",
   "id": "ca706aa2",
   "metadata": {},
   "source": [
    "#### Line-chart"
   ]
  },
  {
   "cell_type": "code",
   "execution_count": 76,
   "id": "f999f649",
   "metadata": {},
   "outputs": [
    {
     "data": {
      "text/plain": [
       "Text(0.5, 1.0, 'LineChart')"
      ]
     },
     "execution_count": 76,
     "metadata": {},
     "output_type": "execute_result"
    },
    {
     "data": {
      "image/png": "[encoded data removed]",
      "text/plain": [
       "<Figure size 864x360 with 1 Axes>"
      ]
     },
     "metadata": {
      "needs_background": "light"
     },
     "output_type": "display_data"
    }
   ],
   "source": [
    "plt.figure(figsize = (12, 5))\n",
    "plt.plot(plt_cat.keys(), plt_cat.values())\n",
    "plt.title('LineChart')"
   ]
  },
  {
   "cell_type": "markdown",
   "id": "54c22597",
   "metadata": {},
   "source": [
    "#### Dotplot"
   ]
  },
  {
   "cell_type": "code",
   "execution_count": 77,
   "id": "75e7e3ea",
   "metadata": {},
   "outputs": [
    {
     "data": {
      "text/plain": [
       "<matplotlib.collections.PathCollection at 0x246ecd54190>"
      ]
     },
     "execution_count": 77,
     "metadata": {},
     "output_type": "execute_result"
    },
    {
     "data": {
      "image/png": "[encoded data removed]",
      "text/plain": [
       "<Figure size 864x360 with 1 Axes>"
      ]
     },
     "metadata": {
      "needs_background": "light"
     },
     "output_type": "display_data"
    }
   ],
   "source": [
    "plt.figure(figsize = (12, 5))\n",
    "plt.scatter(x = plt_cat.keys(), y = plt_cat.values())"
   ]
  },
  {
   "cell_type": "markdown",
   "id": "f7ce6662",
   "metadata": {},
   "source": [
    "# QUE"
   ]
  },
  {
   "cell_type": "markdown",
   "id": "2a2817b5",
   "metadata": {},
   "source": [
    "For Bi-variate data, plot Scatter plot trendline. Develop the model for simple linear regression finding values of m, x, p, R2. Experiment with the Bi-variate data for positive relation, negative relation and no-relation cases."
   ]
  },
  {
   "cell_type": "markdown",
   "id": "de24722a",
   "metadata": {},
   "source": [
    "### CO-RELATION"
   ]
  },
  {
   "cell_type": "code",
   "execution_count": 78,
   "id": "9c0b4d29",
   "metadata": {
    "scrolled": false
   },
   "outputs": [
    {
     "data": {
      "text/html": [
       "<div>\n",
       "<style scoped>\n",
       "    .dataframe tbody tr th:only-of-type {\n",
       "        vertical-align: middle;\n",
       "    }\n",
       "\n",
       "    .dataframe tbody tr th {\n",
       "        vertical-align: top;\n",
       "    }\n",
       "\n",
       "    .dataframe thead th {\n",
       "        text-align: right;\n",
       "    }\n",
       "</style>\n",
       "<table border=\"1\" class=\"dataframe\">\n",
       "  <thead>\n",
       "    <tr style=\"text-align: right;\">\n",
       "      <th></th>\n",
       "      <th>Avg. Area Income</th>\n",
       "      <th>Avg. Area House Age</th>\n",
       "      <th>Avg. Area Number of Rooms</th>\n",
       "      <th>Avg. Area Number of Bedrooms</th>\n",
       "      <th>Area Population</th>\n",
       "      <th>Price</th>\n",
       "    </tr>\n",
       "  </thead>\n",
       "  <tbody>\n",
       "    <tr>\n",
       "      <th>Avg. Area Income</th>\n",
       "      <td>1.000000</td>\n",
       "      <td>-0.013260</td>\n",
       "      <td>-0.124894</td>\n",
       "      <td>0.016698</td>\n",
       "      <td>0.054698</td>\n",
       "      <td>0.654901</td>\n",
       "    </tr>\n",
       "    <tr>\n",
       "      <th>Avg. Area House Age</th>\n",
       "      <td>-0.013260</td>\n",
       "      <td>1.000000</td>\n",
       "      <td>-0.062614</td>\n",
       "      <td>0.074605</td>\n",
       "      <td>0.043460</td>\n",
       "      <td>0.448896</td>\n",
       "    </tr>\n",
       "    <tr>\n",
       "      <th>Avg. Area Number of Rooms</th>\n",
       "      <td>-0.124894</td>\n",
       "      <td>-0.062614</td>\n",
       "      <td>1.000000</td>\n",
       "      <td>0.419474</td>\n",
       "      <td>-0.148030</td>\n",
       "      <td>0.224450</td>\n",
       "    </tr>\n",
       "    <tr>\n",
       "      <th>Avg. Area Number of Bedrooms</th>\n",
       "      <td>0.016698</td>\n",
       "      <td>0.074605</td>\n",
       "      <td>0.419474</td>\n",
       "      <td>1.000000</td>\n",
       "      <td>-0.156095</td>\n",
       "      <td>0.107983</td>\n",
       "    </tr>\n",
       "    <tr>\n",
       "      <th>Area Population</th>\n",
       "      <td>0.054698</td>\n",
       "      <td>0.043460</td>\n",
       "      <td>-0.148030</td>\n",
       "      <td>-0.156095</td>\n",
       "      <td>1.000000</td>\n",
       "      <td>0.405501</td>\n",
       "    </tr>\n",
       "    <tr>\n",
       "      <th>Price</th>\n",
       "      <td>0.654901</td>\n",
       "      <td>0.448896</td>\n",
       "      <td>0.224450</td>\n",
       "      <td>0.107983</td>\n",
       "      <td>0.405501</td>\n",
       "      <td>1.000000</td>\n",
       "    </tr>\n",
       "  </tbody>\n",
       "</table>\n",
       "</div>"
      ],
      "text/plain": [
       "                              Avg. Area Income  Avg. Area House Age  \\\n",
       "Avg. Area Income                      1.000000            -0.013260   \n",
       "Avg. Area House Age                  -0.013260             1.000000   \n",
       "Avg. Area Number of Rooms            -0.124894            -0.062614   \n",
       "Avg. Area Number of Bedrooms          0.016698             0.074605   \n",
       "Area Population                       0.054698             0.043460   \n",
       "Price                                 0.654901             0.448896   \n",
       "\n",
       "                              Avg. Area Number of Rooms  \\\n",
       "Avg. Area Income                              -0.124894   \n",
       "Avg. Area House Age                           -0.062614   \n",
       "Avg. Area Number of Rooms                      1.000000   \n",
       "Avg. Area Number of Bedrooms                   0.419474   \n",
       "Area Population                               -0.148030   \n",
       "Price                                          0.224450   \n",
       "\n",
       "                              Avg. Area Number of Bedrooms  Area Population  \\\n",
       "Avg. Area Income                                  0.016698         0.054698   \n",
       "Avg. Area House Age                               0.074605         0.043460   \n",
       "Avg. Area Number of Rooms                         0.419474        -0.148030   \n",
       "Avg. Area Number of Bedrooms                      1.000000        -0.156095   \n",
       "Area Population                                  -0.156095         1.000000   \n",
       "Price                                             0.107983         0.405501   \n",
       "\n",
       "                                 Price  \n",
       "Avg. Area Income              0.654901  \n",
       "Avg. Area House Age           0.448896  \n",
       "Avg. Area Number of Rooms     0.224450  \n",
       "Avg. Area Number of Bedrooms  0.107983  \n",
       "Area Population               0.405501  \n",
       "Price                         1.000000  "
      ]
     },
     "execution_count": 78,
     "metadata": {},
     "output_type": "execute_result"
    }
   ],
   "source": [
    "nr60.corr()"
   ]
  },
  {
   "cell_type": "markdown",
   "id": "3caeb7ec",
   "metadata": {},
   "source": [
    "## Simple Linear Regression"
   ]
  },
  {
   "cell_type": "code",
   "execution_count": 79,
   "id": "87636de7",
   "metadata": {},
   "outputs": [],
   "source": [
    "def LinearReg(X, Y):\n",
    "    m, c, r, p, se = stats.linregress(X,Y)\n",
    "    print(\"\\nSLOPE : \", m, \"\\nINTERCEPT : \", c, \"\\nCORRELATION COEFFICIENT : \", r, \"\\nP-VALUE\", p, \"\\nSTANDARD ERROR : \", se)\n",
    "    print(\"\\nEquation for Simple Linear Regression for Bi-variate Data\")\n",
    "    print(round(m, 6), \"x + \", round(c, 6))\n",
    "    pred = lambda X : m * X + c\n",
    "    Y_p = pred(X)\n",
    "#     print(\"\\nPREDICTED VALUE OF Y : \", list(Y_p))\n",
    "    plt.figure(figsize = (12, 5))\n",
    "    plt.scatter(X, Y, label = \"Data Points\", c = 'blue', edgecolors = 'cyan')\n",
    "    plt.plot(X, Y_p, color = 'green', marker = 'o', linestyle = 'dashed', linewidth = 2, markersize = 3)\n",
    "    plt.xlabel(\"X\")\n",
    "    plt.ylabel(\"Y\")\n",
    "    plt.title(\"RELATION IN BI-VARIATE DATA USING LINEAR REGRESSION\")\n",
    "    plt.legend()"
   ]
  },
  {
   "cell_type": "markdown",
   "id": "588831f3",
   "metadata": {},
   "source": [
    "### Positive Relation Case"
   ]
  },
  {
   "cell_type": "code",
   "execution_count": 80,
   "id": "a1d7698c",
   "metadata": {
    "scrolled": false
   },
   "outputs": [
    {
     "name": "stdout",
     "output_type": "stream",
     "text": [
      "POSITIVE RELATION BETWEEN 'Avg. Area Number of Rooms' AND 'Avg. Area Number of Bedrooms'\n",
      "\n",
      "\n",
      "SLOPE :  0.5278489694683963 \n",
      "INTERCEPT :  0.5219174778266704 \n",
      "CORRELATION COEFFICIENT :  0.41947373201029636 \n",
      "P-VALUE 0.000849340098469336 \n",
      "STANDARD ERROR :  0.14999111349340388\n",
      "\n",
      "Equation for Simple Linear Regression for Bi-variate Data\n",
      "0.527849 x +  0.521917\n"
     ]
    },
    {
     "data": {
      "image/png": "[encoded data removed]",
      "text/plain": [
       "<Figure size 864x360 with 1 Axes>"
      ]
     },
     "metadata": {
      "needs_background": "light"
     },
     "output_type": "display_data"
    }
   ],
   "source": [
    "print(\"POSITIVE RELATION BETWEEN 'Avg. Area Number of Rooms' AND 'Avg. Area Number of Bedrooms'\\n\")\n",
    "X = nr60['Avg. Area Number of Rooms']\n",
    "Y = nr60['Avg. Area Number of Bedrooms']\n",
    "LinearReg(X, Y)"
   ]
  },
  {
   "cell_type": "markdown",
   "id": "5b5e8d38",
   "metadata": {},
   "source": [
    "### Negative Relation Case"
   ]
  },
  {
   "cell_type": "code",
   "execution_count": 81,
   "id": "a24e6154",
   "metadata": {
    "scrolled": false
   },
   "outputs": [
    {
     "name": "stdout",
     "output_type": "stream",
     "text": [
      "NEGATIVE RELATION BETWEEN 'Avg. Area Number of Rooms' AND 'Area Population'\n",
      "\n",
      "\n",
      "SLOPE :  -1294.7937642941304 \n",
      "INTERCEPT :  43564.71832813274 \n",
      "CORRELATION COEFFICIENT :  -0.1480302796519968 \n",
      "P-VALUE 0.25900375443716983 \n",
      "STANDARD ERROR :  1135.8599694376246\n",
      "\n",
      "Equation for Simple Linear Regression for Bi-variate Data\n",
      "-1294.793764 x +  43564.718328\n"
     ]
    },
    {
     "data": {
      "image/png": "[encoded data removed]",
      "text/plain": [
       "<Figure size 864x360 with 1 Axes>"
      ]
     },
     "metadata": {
      "needs_background": "light"
     },
     "output_type": "display_data"
    }
   ],
   "source": [
    "print(\"NEGATIVE RELATION BETWEEN 'Avg. Area Number of Rooms' AND 'Area Population'\\n\")\n",
    "X = nr60['Avg. Area Number of Rooms']\n",
    "Y = nr60['Area Population']\n",
    "LinearReg(X, Y)"
   ]
  },
  {
   "cell_type": "markdown",
   "id": "8bb237a1",
   "metadata": {},
   "source": [
    "### No Relation Case"
   ]
  },
  {
   "cell_type": "code",
   "execution_count": 82,
   "id": "ab03ec12",
   "metadata": {
    "scrolled": false
   },
   "outputs": [
    {
     "name": "stdout",
     "output_type": "stream",
     "text": [
      "NO RELATION BETWEEN 'Avg. Area Number of Bedrooms' AND 'Avg. Area Income'\n",
      "\n",
      "\n",
      "SLOPE :  158.88219711877326 \n",
      "INTERCEPT :  65600.67255255817 \n",
      "CORRELATION COEFFICIENT :  0.016698268979275014 \n",
      "P-VALUE 0.8992315673642703 \n",
      "STANDARD ERROR :  1249.1921071378495\n",
      "\n",
      "Equation for Simple Linear Regression for Bi-variate Data\n",
      "158.882197 x +  65600.672553\n"
     ]
    },
    {
     "data": {
      "image/png": "[encoded data removed]",
      "text/plain": [
       "<Figure size 864x360 with 1 Axes>"
      ]
     },
     "metadata": {
      "needs_background": "light"
     },
     "output_type": "display_data"
    }
   ],
   "source": [
    "print(\"NO RELATION BETWEEN 'Avg. Area Number of Bedrooms' AND 'Avg. Area Income'\\n\")\n",
    "X = nr60['Avg. Area Number of Bedrooms']\n",
    "Y = nr60['Avg. Area Income']\n",
    "LinearReg(X, Y)"
   ]
  },
  {
   "cell_type": "markdown",
   "id": "c4611be1",
   "metadata": {},
   "source": [
    "# QUE"
   ]
  },
  {
   "cell_type": "markdown",
   "id": "7ef22b79",
   "metadata": {},
   "source": [
    "Write a program to find the equation of simple linear regression for given Bi-variate data (by coding)."
   ]
  },
  {
   "cell_type": "code",
   "execution_count": 86,
   "id": "8accef61",
   "metadata": {},
   "outputs": [
    {
     "name": "stdout",
     "output_type": "stream",
     "text": [
      "LINEAR REGRESSION MATRIX METHOD\n"
     ]
    },
    {
     "data": {
      "text/plain": [
       "array([[0.52191748],\n",
       "       [0.52784897]])"
      ]
     },
     "execution_count": 86,
     "metadata": {},
     "output_type": "execute_result"
    }
   ],
   "source": [
    "x = nr60['Avg. Area Number of Rooms']\n",
    "y = nr60['Avg. Area Number of Bedrooms']\n",
    "mat1 = np.array([[len(x),np.sum(x)],[np.sum(x),np.sum(x**2)]])\n",
    "mat2 = np.array([[np.sum(y)],[np.sum(x*y)]])\n",
    "print(\"LINEAR REGRESSION MATRIX METHOD\")\n",
    "mat = np.dot(np.linalg.inv(mat1),mat2)\n",
    "mat"
   ]
  },
  {
   "cell_type": "code",
   "execution_count": 87,
   "id": "49cffdc7",
   "metadata": {
    "scrolled": false
   },
   "outputs": [
    {
     "name": "stdout",
     "output_type": "stream",
     "text": [
      "SLOPE : [0.52784897] INTERCEPT : [0.52191748]\n"
     ]
    }
   ],
   "source": [
    "para = np.dot(np.linalg.inv(mat1), mat2)\n",
    "print(\"SLOPE :\", para[1], \"INTERCEPT :\", para[0])"
   ]
  },
  {
   "cell_type": "code",
   "execution_count": 88,
   "id": "092614d7",
   "metadata": {
    "scrolled": true
   },
   "outputs": [
    {
     "name": "stdout",
     "output_type": "stream",
     "text": [
      "\n",
      "Equation for Simple Linear Regression for Bi-variate Data\n",
      "[0.527849] x + [0.521917]\n"
     ]
    }
   ],
   "source": [
    "print(\"\\nEquation for Simple Linear Regression for Bi-variate Data\")\n",
    "print(np.round(para[1], 6), \"x +\", np.round(para[0], 6))"
   ]
  },
  {
   "cell_type": "markdown",
   "id": "b12b2d26",
   "metadata": {},
   "source": [
    "# QUE"
   ]
  },
  {
   "cell_type": "markdown",
   "id": "d02028ba",
   "metadata": {},
   "source": [
    "For a Uni-variate data, write a program to find Mean, Median, Mode, Pth percentile, 1st and 3rd quartile, Range."
   ]
  },
  {
   "cell_type": "code",
   "execution_count": 89,
   "id": "80c217bd",
   "metadata": {
    "scrolled": false
   },
   "outputs": [
    {
     "data": {
      "text/plain": [
       "[3.09,\n",
       " 4.23,\n",
       " 4.04,\n",
       " 2.3,\n",
       " 6.1,\n",
       " 4.1,\n",
       " 3.1,\n",
       " 4.37,\n",
       " 4.3,\n",
       " 5.12,\n",
       " 5.49,\n",
       " 4.07,\n",
       " 2.1,\n",
       " 4.31,\n",
       " 6.34,\n",
       " 4.23,\n",
       " 4.33,\n",
       " 2.03,\n",
       " 4.0,\n",
       " 3.04,\n",
       " 4.07,\n",
       " 3.24,\n",
       " 4.42,\n",
       " 5.36,\n",
       " 6.29,\n",
       " 6.0,\n",
       " 2.07,\n",
       " 4.1,\n",
       " 3.01,\n",
       " 2.39,\n",
       " 2.5,\n",
       " 2.17,\n",
       " 6.3,\n",
       " 4.43,\n",
       " 4.44,\n",
       " 6.32,\n",
       " 3.18,\n",
       " 6.35,\n",
       " 3.22,\n",
       " 2.13,\n",
       " 4.02,\n",
       " 6.36,\n",
       " 3.32,\n",
       " 4.12,\n",
       " 3.32,\n",
       " 6.41,\n",
       " 4.09,\n",
       " 3.24,\n",
       " 5.08,\n",
       " 4.01,\n",
       " 3.06,\n",
       " 2.28,\n",
       " 4.23,\n",
       " 4.2,\n",
       " 4.32,\n",
       " 5.43,\n",
       " 3.13,\n",
       " 3.28,\n",
       " 4.0,\n",
       " 6.36]"
      ]
     },
     "execution_count": 89,
     "metadata": {},
     "output_type": "execute_result"
    }
   ],
   "source": [
    "uni_data = list(nr60['Avg. Area Number of Bedrooms'])\n",
    "uni_data"
   ]
  },
  {
   "cell_type": "markdown",
   "id": "d725734c",
   "metadata": {},
   "source": [
    "## Mean"
   ]
  },
  {
   "cell_type": "code",
   "execution_count": 90,
   "id": "c4780b04",
   "metadata": {},
   "outputs": [
    {
     "name": "stdout",
     "output_type": "stream",
     "text": [
      "Mean :  4.115666666666667\n"
     ]
    }
   ],
   "source": [
    "n = len(uni_data)\n",
    "s = 0\n",
    "for i in uni_data:\n",
    "    s += i\n",
    "mean = s / n    \n",
    "print(\"Mean : \", mean)"
   ]
  },
  {
   "cell_type": "code",
   "execution_count": 91,
   "id": "09e57fdd",
   "metadata": {
    "scrolled": true
   },
   "outputs": [
    {
     "name": "stdout",
     "output_type": "stream",
     "text": [
      "MEAN :  4.115666666666667\n"
     ]
    }
   ],
   "source": [
    "mn = np.mean(uni_data)\n",
    "print(\"MEAN : \", mn)"
   ]
  },
  {
   "cell_type": "markdown",
   "id": "ac6d2fde",
   "metadata": {},
   "source": [
    "## Median"
   ]
  },
  {
   "cell_type": "code",
   "execution_count": 92,
   "id": "800cc019",
   "metadata": {},
   "outputs": [
    {
     "name": "stdout",
     "output_type": "stream",
     "text": [
      "Sorted Data :  [2.03, 2.07, 2.1, 2.13, 2.17, 2.28, 2.3, 2.39, 2.5, 3.01, 3.04, 3.06, 3.09, 3.1, 3.13, 3.18, 3.22, 3.24, 3.24, 3.28, 3.32, 3.32, 4.0, 4.0, 4.01, 4.02, 4.04, 4.07, 4.07, 4.09, 4.1, 4.1, 4.12, 4.2, 4.23, 4.23, 4.23, 4.3, 4.31, 4.32, 4.33, 4.37, 4.42, 4.43, 4.44, 5.08, 5.12, 5.36, 5.43, 5.49, 6.0, 6.1, 6.29, 6.3, 6.32, 6.34, 6.35, 6.36, 6.36, 6.41]\n",
      "\n",
      " Median :  4.095\n"
     ]
    }
   ],
   "source": [
    "for i in range(n):\n",
    "    for j in range(n):\n",
    "        if uni_data[i] < uni_data[j]:\n",
    "            uni_data[i], uni_data[j] = uni_data[j], uni_data[i]\n",
    "print(\"Sorted Data : \", uni_data)\n",
    "if(n % 2 == 0):\n",
    "    med = (uni_data[int((n / 2) - 1)] + uni_data[int((n / 2))]) / 2\n",
    "else:\n",
    "    med = uni_data[int((n - 1) / 2)]\n",
    "print(\"\\n Median : \", med) "
   ]
  },
  {
   "cell_type": "code",
   "execution_count": 93,
   "id": "22fcfef3",
   "metadata": {},
   "outputs": [
    {
     "name": "stdout",
     "output_type": "stream",
     "text": [
      "MEDIAN :  4.095\n"
     ]
    }
   ],
   "source": [
    "mn = np.median(uni_data)\n",
    "print(\"MEDIAN : \", mn)"
   ]
  },
  {
   "cell_type": "markdown",
   "id": "e59030b1",
   "metadata": {},
   "source": [
    "## Mode"
   ]
  },
  {
   "cell_type": "code",
   "execution_count": 94,
   "id": "ed270b27",
   "metadata": {},
   "outputs": [
    {
     "name": "stdout",
     "output_type": "stream",
     "text": [
      "MODE :  4.23\n"
     ]
    }
   ],
   "source": [
    "mod_dict = {}\n",
    "for i in uni_data:\n",
    "    mod_dict[i] = uni_data.count(i)\n",
    "print(\"MODE : \", list(mod_dict.keys())[list(mod_dict.values()).index(max(mod_dict.values()))])"
   ]
  },
  {
   "cell_type": "code",
   "execution_count": 95,
   "id": "3b1e74a8",
   "metadata": {
    "scrolled": true
   },
   "outputs": [
    {
     "name": "stdout",
     "output_type": "stream",
     "text": [
      "MODE :  [4.23]\n"
     ]
    }
   ],
   "source": [
    "mod = stats.mode(uni_data)\n",
    "print(\"MODE : \", mod[0])"
   ]
  },
  {
   "cell_type": "markdown",
   "id": "68e96ce5",
   "metadata": {},
   "source": [
    "## Pth percentile"
   ]
  },
  {
   "cell_type": "code",
   "execution_count": 96,
   "id": "56ca1886",
   "metadata": {
    "scrolled": true
   },
   "outputs": [
    {
     "name": "stdout",
     "output_type": "stream",
     "text": [
      "Enter The Value Of P : 10\n",
      "Pth Percentile :  2.3\n"
     ]
    }
   ],
   "source": [
    "p = int(input(\"Enter The Value Of P : \"))\n",
    "uni_data = np.sort(uni_data)\n",
    "per = uni_data[int(n * p / 100)]\n",
    "print(\"Pth Percentile : \", per)"
   ]
  },
  {
   "cell_type": "code",
   "execution_count": 97,
   "id": "b29cf333",
   "metadata": {},
   "outputs": [
    {
     "name": "stdout",
     "output_type": "stream",
     "text": [
      "Enter The Value Of P : 10\n",
      "Pth Percentile :  2.298\n"
     ]
    }
   ],
   "source": [
    "p = int(input(\"Enter The Value Of P : \"))\n",
    "per = np.percentile(uni_data, p)\n",
    "print(\"Pth Percentile : \", per)"
   ]
  },
  {
   "cell_type": "markdown",
   "id": "bd4d5e90",
   "metadata": {},
   "source": [
    "## 1st quartile"
   ]
  },
  {
   "cell_type": "code",
   "execution_count": 98,
   "id": "19496113",
   "metadata": {},
   "outputs": [
    {
     "name": "stdout",
     "output_type": "stream",
     "text": [
      "1st quartile :  3.18\n"
     ]
    }
   ],
   "source": [
    "q1 = uni_data[int(n * 0.25)]\n",
    "print(\"1st quartile : \", q1)"
   ]
  },
  {
   "cell_type": "markdown",
   "id": "5c70a966",
   "metadata": {},
   "source": [
    "## 3rd quartile"
   ]
  },
  {
   "cell_type": "code",
   "execution_count": 99,
   "id": "0ed23acd",
   "metadata": {
    "scrolled": true
   },
   "outputs": [
    {
     "name": "stdout",
     "output_type": "stream",
     "text": [
      "3rd quartile :  3.18\n"
     ]
    }
   ],
   "source": [
    "q3 = uni_data[int(n * 0.25)]\n",
    "print(\"3rd quartile : \", q3)"
   ]
  },
  {
   "cell_type": "code",
   "execution_count": 100,
   "id": "2a61f6a5",
   "metadata": {
    "scrolled": true
   },
   "outputs": [
    {
     "name": "stdout",
     "output_type": "stream",
     "text": [
      "3rd quartile :  4.6000000000000005\n"
     ]
    }
   ],
   "source": [
    "q3 = np.quantile(uni_data, 0.75)\n",
    "print(\"3rd quartile : \", q3)"
   ]
  },
  {
   "cell_type": "markdown",
   "id": "5915d9de",
   "metadata": {},
   "source": [
    "## Range"
   ]
  },
  {
   "cell_type": "code",
   "execution_count": 101,
   "id": "d82cd2b5",
   "metadata": {
    "scrolled": true
   },
   "outputs": [
    {
     "name": "stdout",
     "output_type": "stream",
     "text": [
      "Range :  4.380000000000001\n"
     ]
    }
   ],
   "source": [
    "ran = uni_data[n - 1] - uni_data[0]\n",
    "print(\"Range : \", ran)"
   ]
  },
  {
   "cell_type": "markdown",
   "id": "ac732fb4",
   "metadata": {},
   "source": [
    "# QUE"
   ]
  },
  {
   "cell_type": "markdown",
   "id": "24e8f3eb",
   "metadata": {},
   "source": [
    "Write a program to find measure of variations:\n",
    "-Range\n",
    "-Inter Quartile Range\n",
    "-Variation\n",
    "-Standard Deviation\n",
    "-Co-efficient of variance\n",
    "-Mean Deviation"
   ]
  },
  {
   "cell_type": "markdown",
   "id": "c65bb566",
   "metadata": {},
   "source": [
    "## Range"
   ]
  },
  {
   "cell_type": "code",
   "execution_count": 102,
   "id": "2ecb4d31",
   "metadata": {},
   "outputs": [
    {
     "name": "stdout",
     "output_type": "stream",
     "text": [
      "Range :  4.380000000000001\n"
     ]
    }
   ],
   "source": [
    "ran = max(uni_data) - min(uni_data)\n",
    "print(\"Range : \", ran)"
   ]
  },
  {
   "cell_type": "markdown",
   "id": "afac953a",
   "metadata": {},
   "source": [
    "## Inter Quartile Range "
   ]
  },
  {
   "cell_type": "markdown",
   "id": "b831a932",
   "metadata": {},
   "source": [
    "### 1st quartile"
   ]
  },
  {
   "cell_type": "code",
   "execution_count": 103,
   "id": "77d1be8c",
   "metadata": {},
   "outputs": [
    {
     "name": "stdout",
     "output_type": "stream",
     "text": [
      "1st quartile :  3.1675\n"
     ]
    }
   ],
   "source": [
    "q1 = np.quantile(uni_data, 0.25)\n",
    "print(\"1st quartile : \", q1)"
   ]
  },
  {
   "cell_type": "markdown",
   "id": "a7ece583",
   "metadata": {},
   "source": [
    "### 3rd quartile"
   ]
  },
  {
   "cell_type": "code",
   "execution_count": 104,
   "id": "c1718276",
   "metadata": {
    "scrolled": true
   },
   "outputs": [
    {
     "name": "stdout",
     "output_type": "stream",
     "text": [
      "3rd quartile :  4.6000000000000005\n"
     ]
    }
   ],
   "source": [
    "q3 = np.quantile(uni_data, 0.75)\n",
    "print(\"3rd quartile : \", q3)"
   ]
  },
  {
   "cell_type": "markdown",
   "id": "904b10f6",
   "metadata": {},
   "source": [
    "### IQR"
   ]
  },
  {
   "cell_type": "code",
   "execution_count": 105,
   "id": "40b7702d",
   "metadata": {
    "scrolled": true
   },
   "outputs": [
    {
     "name": "stdout",
     "output_type": "stream",
     "text": [
      "IQR :  1.4325000000000006\n"
     ]
    }
   ],
   "source": [
    "iqr = q3 - q1\n",
    "print(\"IQR : \", iqr)"
   ]
  },
  {
   "cell_type": "markdown",
   "id": "5d62c80b",
   "metadata": {},
   "source": [
    "## Variation "
   ]
  },
  {
   "cell_type": "code",
   "execution_count": 106,
   "id": "a9eb0ee8",
   "metadata": {},
   "outputs": [
    {
     "name": "stdout",
     "output_type": "stream",
     "text": [
      "Variation :  1.6806520903954807\n"
     ]
    }
   ],
   "source": [
    "var = nr60['Avg. Area Number of Bedrooms'].var()\n",
    "print(\"Variation : \", var)"
   ]
  },
  {
   "cell_type": "code",
   "execution_count": 107,
   "id": "09a992c1",
   "metadata": {},
   "outputs": [
    {
     "name": "stdout",
     "output_type": "stream",
     "text": [
      "Variation :  1.6806520903954807\n"
     ]
    }
   ],
   "source": [
    "var_data = np.array(nr60['Avg. Area Number of Bedrooms'])\n",
    "var = sum(list(map(lambda x : np.square(x - var_data.mean()), var_data))) / (n - 1)\n",
    "print(\"Variation : \", var)"
   ]
  },
  {
   "cell_type": "markdown",
   "id": "099f8191",
   "metadata": {},
   "source": [
    "## Standard Deviation "
   ]
  },
  {
   "cell_type": "code",
   "execution_count": 108,
   "id": "db6f34f4",
   "metadata": {},
   "outputs": [
    {
     "name": "stdout",
     "output_type": "stream",
     "text": [
      "Standard Deviation :  1.296399664607902\n"
     ]
    }
   ],
   "source": [
    "std = nr60['Avg. Area Number of Bedrooms'].std()\n",
    "print(\"Standard Deviation : \", std)"
   ]
  },
  {
   "cell_type": "code",
   "execution_count": 109,
   "id": "1f2819a8",
   "metadata": {
    "scrolled": true
   },
   "outputs": [
    {
     "name": "stdout",
     "output_type": "stream",
     "text": [
      "Standard Deviation :  1.296399664607902\n"
     ]
    }
   ],
   "source": [
    "std = np.sqrt(sum(list(map(lambda x : np.square(x - var_data.mean()), var_data))) / (n - 1))\n",
    "print(\"Standard Deviation : \", std)"
   ]
  },
  {
   "cell_type": "markdown",
   "id": "61e34f57",
   "metadata": {},
   "source": [
    "## Co-efficient of variance "
   ]
  },
  {
   "cell_type": "code",
   "execution_count": 110,
   "id": "1e0a4694",
   "metadata": {},
   "outputs": [
    {
     "name": "stdout",
     "output_type": "stream",
     "text": [
      "Co-efficient of variance :  0.31499141441837736\n"
     ]
    }
   ],
   "source": [
    "coeff_var = std / mean\n",
    "print(\"Co-efficient of variance : \", coeff_var)"
   ]
  },
  {
   "cell_type": "markdown",
   "id": "61f768c7",
   "metadata": {},
   "source": [
    "## Mean Deviation"
   ]
  },
  {
   "cell_type": "code",
   "execution_count": 111,
   "id": "7c74b908",
   "metadata": {},
   "outputs": [
    {
     "name": "stdout",
     "output_type": "stream",
     "text": [
      "Mean Deviation :  -1.279579079228994e-16\n"
     ]
    }
   ],
   "source": [
    "medev = sum(list(map(lambda x : x - var_data.mean(), var_data))) / (n - 1)\n",
    "print(\"Mean Deviation : \", medev)"
   ]
  },
  {
   "cell_type": "markdown",
   "id": "ae1d98dc",
   "metadata": {},
   "source": [
    "# QUE"
   ]
  },
  {
   "cell_type": "markdown",
   "id": "432ee7b8",
   "metadata": {},
   "source": [
    "Write a program to accept the Bi-variate data and perform the following on it:\n",
    "-Scatter plot\n",
    "-Co-variance\n",
    "-Co-relation coefficient\n",
    "(By hard code and by using modules)"
   ]
  },
  {
   "cell_type": "code",
   "execution_count": 112,
   "id": "6b1b0d50",
   "metadata": {},
   "outputs": [],
   "source": [
    "x_d = np.array(nr60['Avg. Area Number of Rooms'])\n",
    "y_d = np.array(nr60['Avg. Area Number of Bedrooms'])"
   ]
  },
  {
   "cell_type": "markdown",
   "id": "3abd6b79",
   "metadata": {},
   "source": [
    "## Scatter plot"
   ]
  },
  {
   "cell_type": "code",
   "execution_count": 113,
   "id": "07fe7553",
   "metadata": {
    "scrolled": false
   },
   "outputs": [
    {
     "data": {
      "text/plain": [
       "<matplotlib.collections.PathCollection at 0x246ecda0a90>"
      ]
     },
     "execution_count": 113,
     "metadata": {},
     "output_type": "execute_result"
    },
    {
     "data": {
      "image/png": "[encoded data removed]",
      "text/plain": [
       "<Figure size 432x288 with 1 Axes>"
      ]
     },
     "metadata": {
      "needs_background": "light"
     },
     "output_type": "display_data"
    }
   ],
   "source": [
    "plt.scatter(x_d, y_d)"
   ]
  },
  {
   "cell_type": "markdown",
   "id": "3446ad95",
   "metadata": {},
   "source": [
    "## Co-variance"
   ]
  },
  {
   "cell_type": "code",
   "execution_count": 114,
   "id": "b67a3e22",
   "metadata": {},
   "outputs": [
    {
     "name": "stdout",
     "output_type": "stream",
     "text": [
      "Co-variance :  0.5602446034140114\n"
     ]
    }
   ],
   "source": [
    "covar = np.cov(x_d, y_d)\n",
    "print(\"Co-variance : \", covar[0][1]) "
   ]
  },
  {
   "cell_type": "markdown",
   "id": "0a19e476",
   "metadata": {},
   "source": [
    "np.cov() returns a co-variance matrix"
   ]
  },
  {
   "cell_type": "code",
   "execution_count": 115,
   "id": "ff3d3ad3",
   "metadata": {},
   "outputs": [
    {
     "name": "stdout",
     "output_type": "stream",
     "text": [
      "Co-variance :  0.5602446034140114\n"
     ]
    }
   ],
   "source": [
    "covar = sum(list(map(lambda x, y : (x - x_d.mean()) * (y - y_d.mean()), x_d, y_d))) / (n - 1)\n",
    "print(\"Co-variance : \", covar)"
   ]
  },
  {
   "cell_type": "markdown",
   "id": "8e57cdd0",
   "metadata": {},
   "source": [
    "## Co-relation Co-efficient"
   ]
  },
  {
   "cell_type": "code",
   "execution_count": 116,
   "id": "d0582e95",
   "metadata": {},
   "outputs": [
    {
     "name": "stdout",
     "output_type": "stream",
     "text": [
      "Co-relation coefficient :  0.4194737320102965\n"
     ]
    }
   ],
   "source": [
    "coeff = np.corrcoef(x_d, y_d)\n",
    "print(\"Co-relation coefficient : \", coeff[0][1])"
   ]
  },
  {
   "cell_type": "markdown",
   "id": "5210a738",
   "metadata": {},
   "source": [
    "np.correff() returns a Co-relation coefficient matrix"
   ]
  },
  {
   "cell_type": "code",
   "execution_count": 117,
   "id": "350240f8",
   "metadata": {
    "scrolled": false
   },
   "outputs": [
    {
     "name": "stdout",
     "output_type": "stream",
     "text": [
      "Co-relation coefficient :  0.4194737320102964\n"
     ]
    }
   ],
   "source": [
    "stdx = np.sqrt(sum(list(map(lambda x : np.square(x - x_d.mean()), x_d))) / (n - 1))\n",
    "stdy = np.sqrt(sum(list(map(lambda y : np.square(y - y_d.mean()), y_d))) / (n - 1))\n",
    "covar = sum(list(map(lambda x, y : (x - x_d.mean()) * (y - y_d.mean()), x_d, y_d))) / (n - 1)\n",
    "coeff = covar / (stdx * stdy)\n",
    "print(\"Co-relation coefficient : \", coeff)"
   ]
  },
  {
   "cell_type": "markdown",
   "id": "78917584",
   "metadata": {},
   "source": [
    "# QUE"
   ]
  },
  {
   "cell_type": "markdown",
   "id": "5cae2fc2",
   "metadata": {},
   "source": [
    "For the univariate data distribution, compute weighted mean and mean of grouped data."
   ]
  },
  {
   "cell_type": "code",
   "execution_count": 118,
   "id": "a50d45d4",
   "metadata": {
    "scrolled": false
   },
   "outputs": [
    {
     "name": "stdout",
     "output_type": "stream",
     "text": [
      "Data :  1     6.730821\n",
      "4     7.839388\n",
      "5     6.104512\n",
      "8     6.393121\n",
      "9     8.167688\n",
      "11    5.042747\n",
      "13    7.250029\n",
      "15    8.406418\n",
      "18    5.097010\n",
      "19    7.187774\n",
      "20    7.091808\n",
      "21    8.011898\n",
      "22    6.517175\n",
      "23    5.478088\n",
      "24    7.150537\n",
      "25    7.748682\n",
      "26    7.312880\n",
      "27    6.992699\n",
      "28    6.988754\n",
      "29    4.242191\n",
      "30    8.273697\n",
      "31    6.686686\n",
      "32    6.290820\n",
      "33    8.591923\n",
      "34    7.333554\n",
      "35    9.289854\n",
      "36    6.593046\n",
      "37    7.780837\n",
      "38    6.756454\n",
      "39    5.426903\n",
      "40    6.713905\n",
      "41    5.034525\n",
      "42    7.555661\n",
      "43    7.606832\n",
      "44    7.634319\n",
      "45    7.440505\n",
      "46    7.204640\n",
      "47    7.537182\n",
      "48    5.928223\n",
      "49    6.919204\n",
      "50    6.252455\n",
      "51    7.252665\n",
      "52    5.831739\n",
      "53    6.306116\n",
      "54    6.445457\n",
      "55    7.319886\n",
      "56    8.022469\n",
      "57    7.425597\n",
      "58    7.182527\n",
      "59    5.096917\n",
      "60    5.219754\n",
      "61    6.911743\n",
      "62    5.731824\n",
      "63    7.325974\n",
      "64    4.580840\n",
      "65    7.007676\n",
      "66    6.515150\n",
      "67    6.717844\n",
      "68    5.919231\n",
      "69    7.078584\n",
      "Name: Avg. Area Number of Rooms, dtype: float64\n"
     ]
    }
   ],
   "source": [
    "distri = nr60['Avg. Area Number of Rooms']\n",
    "print(\"Data : \", distri)"
   ]
  },
  {
   "cell_type": "markdown",
   "id": "7a924c90",
   "metadata": {},
   "source": [
    "## Weighted Mean"
   ]
  },
  {
   "cell_type": "code",
   "execution_count": 119,
   "id": "2c5e4677",
   "metadata": {},
   "outputs": [
    {
     "name": "stdout",
     "output_type": "stream",
     "text": [
      "Data :  {7.0: 27, 8.0: 12, 6.0: 10, 5.0: 8, 9.0: 2, 4.0: 1}\n"
     ]
    }
   ],
   "source": [
    "grp_data = dict(round(distri, 0).value_counts())\n",
    "print(\"Data : \", grp_data)"
   ]
  },
  {
   "cell_type": "code",
   "execution_count": 120,
   "id": "a844f579",
   "metadata": {},
   "outputs": [
    {
     "data": {
      "text/plain": [
       "10.435897435897436"
      ]
     },
     "execution_count": 120,
     "metadata": {},
     "output_type": "execute_result"
    }
   ],
   "source": [
    "wem = sum(list(map(lambda x, y : x * y, grp_data.keys(), grp_data.values())))/ sum(grp_data.keys())\n",
    "wem"
   ]
  },
  {
   "cell_type": "markdown",
   "id": "ab1cf032",
   "metadata": {},
   "source": [
    "## Mean of Grouped Data"
   ]
  },
  {
   "cell_type": "code",
   "execution_count": 121,
   "id": "b0a9defc",
   "metadata": {},
   "outputs": [
    {
     "name": "stdout",
     "output_type": "stream",
     "text": [
      "Data :  {(4.0, 5.0): 2, (5.0, 6.0): 11, (6.0, 7.0): 18, (7.0, 8.0): 22, (8.0, 9.0): 6, (9.0, 10.0): 1}\n"
     ]
    }
   ],
   "source": [
    "b1 = round(distri.min(), 0)\n",
    "last = distri.max() \n",
    "b2 = 0\n",
    "d_dict = {}\n",
    "while(b2 < last):\n",
    "    cnt = 0\n",
    "    b2 = b1 + 1\n",
    "    for i in distri :\n",
    "        if (i > b1 and i < b2) :\n",
    "            cnt +=  1\n",
    "    d_dict[(b1, b2)] = cnt\n",
    "    b1 = b2\n",
    "print(\"Data : \", d_dict)"
   ]
  },
  {
   "cell_type": "code",
   "execution_count": 122,
   "id": "34b59686",
   "metadata": {
    "scrolled": true
   },
   "outputs": [
    {
     "name": "stdout",
     "output_type": "stream",
     "text": [
      "Mean of Grouped Data :  6.866666666666666\n"
     ]
    }
   ],
   "source": [
    "grp_mn = sum(map(lambda x, y : (sum(x) / 2) * y , list(d_dict.keys()), list(d_dict.values()))) / sum(list(d_dict.values()))\n",
    "print(\"Mean of Grouped Data : \", grp_mn)"
   ]
  },
  {
   "cell_type": "markdown",
   "id": "cc0f0db8",
   "metadata": {},
   "source": [
    "# QUE"
   ]
  },
  {
   "cell_type": "markdown",
   "id": "9c8a466e",
   "metadata": {},
   "source": [
    "Write a program to implement Binomial Probability Distribution."
   ]
  },
  {
   "cell_type": "code",
   "execution_count": null,
   "id": "67803aef",
   "metadata": {},
   "outputs": [],
   "source": [
    "from scipy.special import comb\n",
    "def binomial_probability(n, x, p):\n",
    "    nCx = comb(n, x)\n",
    "    PpowX = p ** x\n",
    "    fPowNminX = (1 - p) ** (n - x)\n",
    "    prob = nCx * PpowX * fPowNminX    \n",
    "    return prob\n",
    "\n",
    "n = int(input(\"Enter the number of trial : \"))\n",
    "x = int(input(\"Enter the number of successes : \"))\n",
    "p = float(input(\"Enter the probability of a success on one trial : \"))\n",
    "\n",
    "result = binomial_probability(n, x, p)\n",
    "print(\"Binomial Probability: \", round(result, 4))"
   ]
  },
  {
   "cell_type": "code",
   "execution_count": null,
   "id": "d7e621dd",
   "metadata": {
    "scrolled": false
   },
   "outputs": [],
   "source": [
    "bmp_lst = []\n",
    "n = int(input(\"Enter the number of trial : \"))\n",
    "x = int(input(\"Enter the number of successes : \"))\n",
    "p = float(input(\"Enter the probability of a success on one trial : \"))\n",
    "for i in range(n, n + 2):\n",
    "    print(\"n: \", i)\n",
    "    for j in range(x + 1):\n",
    "        print(\"x: \", j)\n",
    "        for k in np.arange(0.05, p + 0.05, 0.05):\n",
    "            bmp = binomial_probability(i, j, k)\n",
    "            bmp_lst.append(bmp_lst)\n",
    "            print(\"p: \", round(k, 2), end = \" \")\n",
    "            print(\" f(x): \", round(bmp,4))"
   ]
  },
  {
   "cell_type": "code",
   "execution_count": null,
   "id": "fd5c7682",
   "metadata": {},
   "outputs": [],
   "source": [
    "def binomial_probability_lib(n, x, p):\n",
    "    dist = binom(n, p)\n",
    "    prob = dist.pmf(x)\n",
    "    return prob\n",
    "\n",
    "n = int(input(\"Enter the number of trial : \"))\n",
    "x = int(input(\"Enter the number of successes : \"))\n",
    "p = float(input(\"Enter the probability of a success on one trial : \"))\n",
    "\n",
    "result = binomial_probability_lib(n, x, p)\n",
    "print(\"Binomial Probability: \", round(result, 4))"
   ]
  },
  {
   "cell_type": "markdown",
   "id": "0f46ee0a",
   "metadata": {},
   "source": [
    "# QUE"
   ]
  },
  {
   "cell_type": "markdown",
   "id": "e8ecd864",
   "metadata": {},
   "source": [
    "Write a program to implement Poisson and Hypergeometric probability\n",
    "For all values of x:\n",
    "-Find f(x)\n",
    "-Plot of x vs f(x)\n",
    "-Display in tabular format.\n",
    "-Find expected value and variance."
   ]
  },
  {
   "cell_type": "markdown",
   "id": "a4beecf4",
   "metadata": {},
   "source": [
    "### Poission Probablity"
   ]
  },
  {
   "cell_type": "markdown",
   "id": "f50a31d4",
   "metadata": {},
   "source": [
    "#### Find f(x)"
   ]
  },
  {
   "cell_type": "code",
   "execution_count": null,
   "id": "b16d01be",
   "metadata": {
    "scrolled": false
   },
   "outputs": [],
   "source": [
    "def fact(x):\n",
    "    result = 1\n",
    "    for i in range(1, x + 1):\n",
    "        result *= i\n",
    "    return result\n",
    "\n",
    "def poisson_probability(mu, x):\n",
    "    probability = (np.exp(-mu) * np.power(mu, x)) / fact(x)\n",
    "    return probability\n",
    "\n",
    "mu = float(input(\"Enter expected value or mean number of occurrences in an interval : \"))\n",
    "x = int(input(\"Enter occurrences in an interval : \"))\n",
    "print(\"x: \", x, \" \", \"f(x): \", round(poisson_probability(mu, x),4))"
   ]
  },
  {
   "cell_type": "markdown",
   "id": "68ed3d80",
   "metadata": {},
   "source": [
    "#### Tabular Format"
   ]
  },
  {
   "cell_type": "code",
   "execution_count": null,
   "id": "a1069ac0",
   "metadata": {},
   "outputs": [],
   "source": [
    "def display_table(x_values, mu_values, title):\n",
    "    data = []\n",
    "    for x in x_values:\n",
    "        row = {'x': x}\n",
    "        for mu in mu_values:\n",
    "            probability = poisson_probability(mu, x)\n",
    "            row[round(mu, 1)] = round(probability, 4)\n",
    "        data.append(row)\n",
    "    df = pd.DataFrame(data)\n",
    "    df.set_index('x', inplace=True)\n",
    "    print(title)\n",
    "    return df\n",
    "mu_values = np.arange(9.1, 10.0, 0.1)\n",
    "dff = pd.DataFrame(display_table(x_values, mu_values, \"Poisson Distribution\"))\n",
    "dff"
   ]
  },
  {
   "cell_type": "code",
   "execution_count": null,
   "id": "f324919c",
   "metadata": {},
   "outputs": [],
   "source": [
    "def plot_distribution(x_values, y_values, title):\n",
    "    plt.bar(x_values, y_values)\n",
    "    plt.xlabel(\"x\")\n",
    "    plt.ylabel(\"f(x)\")\n",
    "    plt.title(title)\n",
    "    plt.show()\n",
    "\n",
    "# plot x and f(x)\n",
    "plot_distribution(dff['x'], dff['9.1'], \"Poisson Distribution\")"
   ]
  }
 ],
 "metadata": {
  "kernelspec": {
   "display_name": "Python 3 (ipykernel)",
   "language": "python",
   "name": "python3"
  },
  "language_info": {
   "codemirror_mode": {
    "name": "ipython",
    "version": 3
   },
   "file_extension": ".py",
   "mimetype": "text/x-python",
   "name": "python",
   "nbconvert_exporter": "python",
   "pygments_lexer": "ipython3",
   "version": "3.9.12"
  }
 },
 "nbformat": 4,
 "nbformat_minor": 5
}
